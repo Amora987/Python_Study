{
 "cells": [
  {
   "cell_type": "markdown",
   "id": "d12f2fd6-c2c7-4728-a6da-0663053beb79",
   "metadata": {},
   "source": [
    "# Chapter 4 Working with Lists"
   ]
  },
  {
   "cell_type": "markdown",
   "id": "a3e4a6f9-13d9-43b6-84ae-8a3fc6b16338",
   "metadata": {},
   "source": [
    "In this chapter will cover how to _loop_ through an entire list."
   ]
  },
  {
   "cell_type": "markdown",
   "id": "7731c125-549c-4c73-8e83-21a6e738b615",
   "metadata": {},
   "source": [
    "### Looping Through an Entire List"
   ]
  },
  {
   "cell_type": "markdown",
   "id": "34b28bd5-d8e6-4d20-b8dd-44651dd133b3",
   "metadata": {},
   "source": [
    "You'll want to loop through a list when you want to do the same action with every <br>\n",
    "item in a list, using Python's _for loop_"
   ]
  },
  {
   "cell_type": "code",
   "execution_count": 1,
   "id": "fd3a8743-6247-41d5-9a8d-1d3dcbdb0c37",
   "metadata": {},
   "outputs": [
    {
     "name": "stdout",
     "output_type": "stream",
     "text": [
      "alice\n",
      "david\n",
      "carolina\n"
     ]
    }
   ],
   "source": [
    "#Ex:\n",
    "# Let's use a for loop to print out each name in a list of magicians:\n",
    "magicians = ['alice', 'david', 'carolina']\n",
    "for magician in magicians:\n",
    "    print(magician)"
   ]
  },
  {
   "cell_type": "markdown",
   "id": "b118da69-0089-48ea-a523-397b7b453e44",
   "metadata": {},
   "source": [
    "We start by defining a list, then we define a _for loop_. This line tell Python to pull a name <br>\n",
    "from the list magicians, and store it in the variable magician. Then we have Python print the <br>\n",
    "name that was just stored in magician. Python then repeats lines and, once for each name in the list."
   ]
  },
  {
   "cell_type": "markdown",
   "id": "cf1201d0-bab5-4108-9493-b3fbbcb3beff",
   "metadata": {},
   "source": [
    "#### - _A Closer Look at Looping_"
   ]
  },
  {
   "cell_type": "markdown",
   "id": "3b7e3f3e-0403-4a99-8861-c358cad3d90e",
   "metadata": {},
   "source": [
    "The concept of looping is important because it's one of the most common ways a computer automates <br>\n",
    "reptitive tasks."
   ]
  },
  {
   "cell_type": "markdown",
   "id": "8fc6c1fe-5dc4-466e-a6a8-b4e236135848",
   "metadata": {},
   "source": [
    "1. Python initially read the first line of the loop <br>\n",
    "2. __for magician in magicians__ tells Python to retrieve the first value from the list of magicians <br>\n",
    "and storie it in the variable magician <br>\n",
    "3. Python reads the next line __print(magician)__\n",
    "4. Python prints the current value of magician. Python returns to the first line of the loop to repeat <br>\n",
    "the process."
   ]
  },
  {
   "cell_type": "markdown",
   "id": "a17d6654-6d0e-40f8-bd97-3f994562bb00",
   "metadata": {},
   "source": [
    "#### - _Doing More Work Within a Loop_"
   ]
  },
  {
   "cell_type": "markdown",
   "id": "0cfa1ba6-1670-48a5-879b-154c0b28147b",
   "metadata": {},
   "source": [
    "You can do just about anything with each item in a _for loop_."
   ]
  },
  {
   "cell_type": "code",
   "execution_count": 7,
   "id": "aad6a8eb-076c-4202-935d-aca1c0d2905d",
   "metadata": {},
   "outputs": [
    {
     "name": "stdout",
     "output_type": "stream",
     "text": [
      "Alice, that was a great trick!\n",
      "David, that was a great trick!\n",
      "Carolina, that was a great trick!\n"
     ]
    }
   ],
   "source": [
    "#Ex:\n",
    "# printing a message to each magician, telling them that they performed a great trick:\n",
    "magicians = ['alice', 'david', 'carolina']\n",
    "for magician in magicians:\n",
    "    print(magician.title() + \", that was a great trick!\")"
   ]
  },
  {
   "cell_type": "markdown",
   "id": "6c610292-0f5d-49cd-b807-a5aff631eca6",
   "metadata": {},
   "source": [
    "Every indented line following the line __for magician in magicians__ is considered _inside the loop_, <br>\n",
    "and each indented line is executed once for each value in the list. Let's add another line to our message:"
   ]
  },
  {
   "cell_type": "code",
   "execution_count": 9,
   "id": "985b2793-e1bf-4e97-be4b-94388c0b24d7",
   "metadata": {},
   "outputs": [
    {
     "name": "stdout",
     "output_type": "stream",
     "text": [
      "Alice, that was a great trick!\n",
      "I can't wait to see your next trick,Alice.\n",
      "\n",
      "David, that was a great trick!\n",
      "I can't wait to see your next trick,David.\n",
      "\n",
      "Carolina, that was a great trick!\n",
      "I can't wait to see your next trick,Carolina.\n",
      "\n"
     ]
    }
   ],
   "source": [
    "#Ex: \n",
    "magicians = ['alice', 'david', 'carolina']\n",
    "for magician in magicians:\n",
    "    print(magician.title() + \", that was a great trick!\")\n",
    "    print(\"I can't wait to see your next trick,\" + magician.title() + \".\\n\")"
   ]
  },
  {
   "cell_type": "markdown",
   "id": "8b30a174-0c99-46cc-b2e0-73c51b209c81",
   "metadata": {},
   "source": [
    "#### - _Doing Something After a __for loop___"
   ]
  },
  {
   "cell_type": "markdown",
   "id": "9953f6d8-2df6-419b-b6d9-91eaa1fe588f",
   "metadata": {},
   "source": [
    "Any lines of code after the _for loop_ that are not indented are executed once without repetition. Let's write a <br>\n",
    "a thank you to the group of magicians as a whole, thanking them for putting on an excellent show."
   ]
  },
  {
   "cell_type": "code",
   "execution_count": 10,
   "id": "ace7e093-53cf-4029-8024-1529c267fbcf",
   "metadata": {},
   "outputs": [
    {
     "name": "stdout",
     "output_type": "stream",
     "text": [
      "Alice, that was a great trick!\n",
      "I can't wait to see your next trick,Alice.\n",
      "\n",
      "David, that was a great trick!\n",
      "I can't wait to see your next trick,David.\n",
      "\n",
      "Carolina, that was a great trick!\n",
      "I can't wait to see your next trick,Carolina.\n",
      "\n",
      "Thank you, everyone. That was a great magic show!\n"
     ]
    }
   ],
   "source": [
    "for magician in magicians:\n",
    "    print(magician.title() + \", that was a great trick!\")\n",
    "    print(\"I can't wait to see your next trick,\" + magician.title() + \".\\n\")\n",
    "\n",
    "print(\"Thank you, everyone. That was a great magic show!\")"
   ]
  },
  {
   "cell_type": "markdown",
   "id": "f37dfe4b-0d12-4996-9d33-8e98ea8dfb85",
   "metadata": {},
   "source": [
    "### Avoiding Indentation Errors\n",
    "Python uses indentation to determine when one line of code is connected to the line above it."
   ]
  },
  {
   "cell_type": "markdown",
   "id": "d8b4446c-26f4-4520-96f4-d60d4fd9e132",
   "metadata": {},
   "source": [
    "#### - _Forgetting to Indent_"
   ]
  },
  {
   "cell_type": "markdown",
   "id": "0a6ba725-0914-427e-a097-61b583e97cca",
   "metadata": {},
   "source": [
    "Always indent the line after the _for_ statement in a loop. If you forget Python will remind you <br>\n",
    "with an indentation error."
   ]
  },
  {
   "cell_type": "markdown",
   "id": "9b965f44-3b85-42e0-a189-3f14d951715e",
   "metadata": {},
   "source": [
    "#### - _Forgetting to Indent Additional lines_"
   ]
  },
  {
   "cell_type": "code",
   "execution_count": 11,
   "id": "d57e3c57-e160-465c-b118-9d24dc76c6fb",
   "metadata": {},
   "outputs": [
    {
     "name": "stdout",
     "output_type": "stream",
     "text": [
      "Alice, that was a great trick!\n",
      "David, that was a great trick!\n",
      "Carolina, that was a great trick!\n",
      "I can't wait to see your next trick,Carolina.\n",
      "\n"
     ]
    }
   ],
   "source": [
    "for magician in magicians:\n",
    "    print(magician.title() + \", that was a great trick!\")\n",
    "print(\"I can't wait to see your next trick,\" + magician.title() + \".\\n\")"
   ]
  },
  {
   "cell_type": "markdown",
   "id": "58e6e54b-384d-4945-b12e-e51df4bf814f",
   "metadata": {},
   "source": [
    "The print statement is supposed to be indented, but because Python finds at least one indented <br>\n",
    "line after the _for_ statement, it doesn't report an error. This is called a _logical error_"
   ]
  },
  {
   "cell_type": "markdown",
   "id": "f193d84f-25fa-4010-b114-89dfdff424ce",
   "metadata": {},
   "source": [
    "#### - _Indenting Unnecessarily_"
   ]
  },
  {
   "cell_type": "markdown",
   "id": "92d4b7f3-dc54-4144-88d7-6be2212b31d4",
   "metadata": {},
   "source": [
    "If you accidentally indent a line that doesn't need to be indented, Python informs you <br>\n",
    "about the unexpected indent:"
   ]
  },
  {
   "cell_type": "code",
   "execution_count": 13,
   "id": "5bacceac-6f95-422d-b41f-4b990cf42c8e",
   "metadata": {},
   "outputs": [
    {
     "ename": "IndentationError",
     "evalue": "unexpected indent (2752036153.py, line 2)",
     "output_type": "error",
     "traceback": [
      "\u001b[1;36m  Input \u001b[1;32mIn [13]\u001b[1;36m\u001b[0m\n\u001b[1;33m    print(message)\u001b[0m\n\u001b[1;37m    ^\u001b[0m\n\u001b[1;31mIndentationError\u001b[0m\u001b[1;31m:\u001b[0m unexpected indent\n"
     ]
    }
   ],
   "source": [
    "message = \"Hello Python World!\"\n",
    "    print(message)"
   ]
  },
  {
   "cell_type": "markdown",
   "id": "cf59522e-6efb-48cb-a2b7-a066b3d070b8",
   "metadata": {},
   "source": [
    "To avoid this error only indent when you have a specific reason to do so, such as the actions<br>\n",
    "that you want to repeatd for each item in a _for_ loop"
   ]
  },
  {
   "cell_type": "markdown",
   "id": "fafd8325-2cd4-4ccb-adbc-fcb55c51741f",
   "metadata": {},
   "source": [
    "#### - _Indenting Unnecessarily After the Loop_"
   ]
  },
  {
   "cell_type": "markdown",
   "id": "db01e822-7acc-4f98-89bc-73924be5dfcb",
   "metadata": {},
   "source": [
    "If you indent after a loop unnecessarily you'll repeat the action everytime the program runs the loop:"
   ]
  },
  {
   "cell_type": "code",
   "execution_count": 16,
   "id": "c412eb94-327b-4984-afd4-bb9f880bc319",
   "metadata": {},
   "outputs": [
    {
     "name": "stdout",
     "output_type": "stream",
     "text": [
      "Alice, that was a great trick!\n",
      "I can't wait to see your next trick,Alice.\n",
      "\n",
      "Thank you, everyone. That was a great magic show!\n",
      "David, that was a great trick!\n",
      "I can't wait to see your next trick,David.\n",
      "\n",
      "Thank you, everyone. That was a great magic show!\n",
      "Carolina, that was a great trick!\n",
      "I can't wait to see your next trick,Carolina.\n",
      "\n",
      "Thank you, everyone. That was a great magic show!\n"
     ]
    }
   ],
   "source": [
    "for magician in magicians:\n",
    "    print(magician.title() + \", that was a great trick!\")\n",
    "    print(\"I can't wait to see your next trick,\" + magician.title() + \".\\n\")\n",
    "\n",
    "    print(\"Thank you, everyone. That was a great magic show!\")"
   ]
  },
  {
   "cell_type": "markdown",
   "id": "a05e9eae-2c76-46c8-b8b5-e5e9a6231977",
   "metadata": {},
   "source": [
    "Because the \"Thank you, everyone. That was a great magic show!\" is indented, its <br>\n",
    "printed once for each person in the list. This is another logical error, because <br>\n",
    "PYthon doesn't know what you're trying to accomplish with your code."
   ]
  },
  {
   "cell_type": "markdown",
   "id": "3013d0b4-8247-41cf-b1c3-c686e96ef012",
   "metadata": {},
   "source": [
    "#### - _Forgetting the Colon_"
   ]
  },
  {
   "cell_type": "markdown",
   "id": "b076e6df-e477-45d5-8ee9-6066b01738b7",
   "metadata": {},
   "source": [
    "If you accidentally forget the colon, you'll get a syntax error because Python doesn't know <br>\n",
    "what you're trying to do. The colon is need at the end of a _for_ statement that tells Python <br>\n",
    "to interpret the next line as the start of a loop."
   ]
  },
  {
   "cell_type": "code",
   "execution_count": 20,
   "id": "66df269f-97ed-4eeb-af10-b1429287e8ef",
   "metadata": {},
   "outputs": [
    {
     "name": "stdout",
     "output_type": "stream",
     "text": [
      "I really enjoy pepperoni it's my favorite.\n",
      "\n",
      "I really enjoy cheese it's my favorite.\n",
      "\n",
      "I really enjoy veggie it's my favorite.\n",
      "\n",
      "I love eating pizza for dinner\n"
     ]
    }
   ],
   "source": [
    "# Try it yourself\n",
    "#Ex 1:\n",
    "pizzas = ['pepperoni', 'cheese', 'veggie']\n",
    "for pizza in pizzas:\n",
    "    print(\"I really enjoy \" + pizza + \" it's my favorite.\\n\")\n",
    "print(\"I love eating pizza for dinner\")"
   ]
  },
  {
   "cell_type": "markdown",
   "id": "79eb54e6-efe1-49b8-b6e3-c5614350e554",
   "metadata": {},
   "source": [
    "***\n",
    "### Making Numerical Lists"
   ]
  },
  {
   "cell_type": "markdown",
   "id": "cd7f34bf-95c3-4e6d-9b7c-ccdc2123625e",
   "metadata": {},
   "source": [
    "In data visualizations, you'll almost always work with sets of numbers, and Python provides a number of tools <br> \n",
    "to help you work efficiently with lists of numbers. Once you understand how to use these tools effectively, your <br>\n",
    "code will work well even when yor lists contain millions of items."
   ]
  },
  {
   "cell_type": "markdown",
   "id": "d3abec70-4566-4d65-854e-48e9f88fa19c",
   "metadata": {},
   "source": [
    "#### - _Using the range( ) Function_"
   ]
  },
  {
   "cell_type": "markdown",
   "id": "edc651ad-895d-4952-b92f-a8c23a6cd1d0",
   "metadata": {},
   "source": [
    "Python's _range( )_ function makes it easy to generate a series of numbers. For example, you can use the <br> \n",
    "_range( )_ function to print a series of numbers like this:"
   ]
  },
  {
   "cell_type": "code",
   "execution_count": 21,
   "id": "6521303f-7e26-481b-b1f1-565b76f686d0",
   "metadata": {},
   "outputs": [
    {
     "name": "stdout",
     "output_type": "stream",
     "text": [
      "1\n",
      "2\n",
      "3\n",
      "4\n"
     ]
    }
   ],
   "source": [
    "for value in range(1,5):\n",
    "    print(value)"
   ]
  },
  {
   "cell_type": "markdown",
   "id": "7ae555e8-f540-4199-9f85-05cc7c82b829",
   "metadata": {},
   "source": [
    " The off-by-one behavior is shown here where it only prints 1-4 instead of 1-5. This happens because Python <br> \n",
    " starts counting at the first value you give it and it stops when it reaches the second value you provide."
   ]
  },
  {
   "cell_type": "code",
   "execution_count": 22,
   "id": "f72f2a4c-072a-4bf3-8735-222667550761",
   "metadata": {},
   "outputs": [
    {
     "name": "stdout",
     "output_type": "stream",
     "text": [
      "1\n",
      "2\n",
      "3\n",
      "4\n",
      "5\n"
     ]
    }
   ],
   "source": [
    "#Ex: To print the numbers from 1  to 5, you would use range(1,6):\n",
    "for value in range(1,6):\n",
    "    print(value)"
   ]
  },
  {
   "cell_type": "markdown",
   "id": "017244a2-2953-4666-b58e-e9241e08ef7b",
   "metadata": {},
   "source": [
    "#### - _Using rnage( ) to Make a List of Numbers_"
   ]
  },
  {
   "cell_type": "markdown",
   "id": "68b5bd8b-0593-40d6-b380-8d0c39fdf1ef",
   "metadata": {},
   "source": [
    "If you want to make a list of numbers, you can convert the results of _range( )_ directly into a list using the _list( )_ function. <br>\n",
    "When you wrap _list()_ around a call to the _range( )_ function the output will be a list of numbers.\n"
   ]
  },
  {
   "cell_type": "code",
   "execution_count": 24,
   "id": "955adf70-972b-4776-8733-d424d40cb5a1",
   "metadata": {},
   "outputs": [
    {
     "name": "stdout",
     "output_type": "stream",
     "text": [
      "[1, 2, 3, 4, 5]\n"
     ]
    }
   ],
   "source": [
    "#Ex: \n",
    "numbers = list(range(1,6))\n",
    "print(numbers)"
   ]
  },
  {
   "cell_type": "markdown",
   "id": "a6ec9c6e-fdf2-4db3-9196-2d3e3b707ef3",
   "metadata": {},
   "source": [
    "We can also use the _range( )_ function to tell python to skip the numbers in a given range. For example, here's <br>\n",
    "how we would list the even numbers between 1 and 10:"
   ]
  },
  {
   "cell_type": "code",
   "execution_count": 26,
   "id": "e9d2f85c-bcfb-4c7b-aac5-f7e590d8455d",
   "metadata": {},
   "outputs": [
    {
     "name": "stdout",
     "output_type": "stream",
     "text": [
      "[2, 4, 6, 8, 10]\n"
     ]
    }
   ],
   "source": [
    "#Ex: Even numbers 1-10\n",
    "even_numbers = list(range(2,11,2))\n",
    "print(even_numbers)"
   ]
  },
  {
   "cell_type": "markdown",
   "id": "1727cdf2-81f7-460b-8978-b2fa919e7242",
   "metadata": {},
   "source": [
    "You can also create almost any set of numbers you want using the _range( )_ function. For example, consider how you <br>\n",
    "might make a list of the first 10 square numbers (that is, the square of each integer from 1 through 10):"
   ]
  },
  {
   "cell_type": "code",
   "execution_count": 30,
   "id": "3bb31dca-8354-4d8c-b1ee-1c45d6ebb30a",
   "metadata": {},
   "outputs": [
    {
     "name": "stdout",
     "output_type": "stream",
     "text": [
      "[1, 4, 9, 16, 25, 36, 49, 64, 81, 100]\n"
     ]
    }
   ],
   "source": [
    "squares= []\n",
    "for value in range(1,11):\n",
    "    square = value**2\n",
    "    squares.append(square)\n",
    "print(squares)"
   ]
  },
  {
   "cell_type": "markdown",
   "id": "845f1e5b-6570-4f5e-9979-3e724fc8fcf2",
   "metadata": {},
   "source": [
    "To write more concise code, we could omit the temporary variable square and append each new value directly to the list."
   ]
  },
  {
   "cell_type": "code",
   "execution_count": 32,
   "id": "0720a21c-67ce-4a3f-ae96-67d609c5a58b",
   "metadata": {},
   "outputs": [
    {
     "name": "stdout",
     "output_type": "stream",
     "text": [
      "[1, 4, 9, 16, 25, 36, 49, 64, 81, 100]\n"
     ]
    }
   ],
   "source": [
    "squares = []\n",
    "for value in range(1,11):\n",
    "    squares.append(value**2)\n",
    "print(squares)"
   ]
  },
  {
   "cell_type": "markdown",
   "id": "dc37d26a-e6cb-49ce-9aa3-e0a8fe9f8074",
   "metadata": {},
   "source": [
    "#### - _Simple Statistics with a List of Numebrs_"
   ]
  },
  {
   "cell_type": "markdown",
   "id": "20422b2d-ee50-4919-b98f-b644d3c3ebef",
   "metadata": {},
   "source": [
    "The functions _min( )_, _max( )_, and _sum( )_ are specific to lists of numbers in Python."
   ]
  },
  {
   "cell_type": "code",
   "execution_count": 38,
   "id": "aadc31bb-b79e-4144-b38a-6509c744e38d",
   "metadata": {},
   "outputs": [],
   "source": [
    "digits = [1,2,3,4,5,6,7,8,9,0]"
   ]
  },
  {
   "cell_type": "code",
   "execution_count": 37,
   "id": "e7c66d71-611b-420c-9386-6c5a4a1cdb84",
   "metadata": {},
   "outputs": [
    {
     "data": {
      "text/plain": [
       "0"
      ]
     },
     "execution_count": 37,
     "metadata": {},
     "output_type": "execute_result"
    }
   ],
   "source": [
    "min(digits)"
   ]
  },
  {
   "cell_type": "code",
   "execution_count": 35,
   "id": "5f469338-0c96-45a7-8a32-c71fcc538b1f",
   "metadata": {},
   "outputs": [
    {
     "data": {
      "text/plain": [
       "9"
      ]
     },
     "execution_count": 35,
     "metadata": {},
     "output_type": "execute_result"
    }
   ],
   "source": [
    "max(digits)"
   ]
  },
  {
   "cell_type": "code",
   "execution_count": 36,
   "id": "8b82e149-6af8-4ff7-a65a-63bf408062df",
   "metadata": {},
   "outputs": [
    {
     "data": {
      "text/plain": [
       "45"
      ]
     },
     "execution_count": 36,
     "metadata": {},
     "output_type": "execute_result"
    }
   ],
   "source": [
    "sum(digits)"
   ]
  },
  {
   "cell_type": "markdown",
   "id": "48c6e851-b6d3-4058-b5d6-dd0657deefd9",
   "metadata": {},
   "source": [
    "#### - _List Comprehensions_"
   ]
  },
  {
   "cell_type": "markdown",
   "id": "94ab9b95-9098-4cbd-8613-de31502e363b",
   "metadata": {},
   "source": [
    "A _list comprehension_ allows you to generate this same list in just one line of code. A list comprehension combines the <br>\n",
    "_for loop_ and the creation of new elements into one line and automatically appends each new element. "
   ]
  },
  {
   "cell_type": "code",
   "execution_count": 40,
   "id": "be322842-2cc0-4993-bfa1-b33519709659",
   "metadata": {},
   "outputs": [
    {
     "name": "stdout",
     "output_type": "stream",
     "text": [
      "[1, 4, 9, 16, 25, 36, 49, 64, 81, 100]\n"
     ]
    }
   ],
   "source": [
    "#Ex:\n",
    "squares = [value**2 for value in range(1,11)]\n",
    "print(squares)"
   ]
  },
  {
   "cell_type": "markdown",
   "id": "849d368b-6d80-4439-8e91-d9f628e2692d",
   "metadata": {},
   "source": [
    "***\n",
    "### Working with Part of a List"
   ]
  },
  {
   "cell_type": "markdown",
   "id": "827f3a30-7d52-4b54-97cf-c2edcf9be38d",
   "metadata": {},
   "source": [
    "In Chapter 3, you learned how to access single elements in a list, and in this chapter you've been learning how to <br>\n",
    "work through all the elements in a list. You can also work with a specific group of items in a list, which Python calls a _slice_."
   ]
  },
  {
   "cell_type": "markdown",
   "id": "9dfb43ce-085b-4094-8d96-ed694bdc1365",
   "metadata": {},
   "source": [
    "#### - _Slicing a List_"
   ]
  },
  {
   "cell_type": "markdown",
   "id": "59b96ebe-a8e8-486e-83cb-f74cd5c2f4f3",
   "metadata": {},
   "source": [
    "To make a slice, you specifiy the index of the first and last elements you want to work with. As with the <br>\n",
    "_range()_ function, Python stops one item before the second index you specify. To output the first three elements <br>\n",
    "in a list, you would request indices 0 through 3, which would return the elements 0, 1, and 2."
   ]
  },
  {
   "cell_type": "code",
   "execution_count": 1,
   "id": "0254de8b-7d48-45f1-9a94-e219dd9d9d46",
   "metadata": {},
   "outputs": [
    {
     "name": "stdout",
     "output_type": "stream",
     "text": [
      "['charles', 'martina', 'michael']\n"
     ]
    }
   ],
   "source": [
    "players = ['charles', 'martina', 'michael', 'florence', 'eli']\n",
    "print(players[0:3])"
   ]
  },
  {
   "cell_type": "markdown",
   "id": "6bdd4f96-b4da-452f-9186-91234e8badcf",
   "metadata": {},
   "source": [
    "You can generate any subset of a list"
   ]
  },
  {
   "cell_type": "code",
   "execution_count": 1,
   "id": "4041b4d2-aaad-499a-980a-7c9a17e51a0f",
   "metadata": {},
   "outputs": [
    {
     "name": "stdout",
     "output_type": "stream",
     "text": [
      "['martina', 'michael', 'florence']\n"
     ]
    }
   ],
   "source": [
    "#Ex:\n",
    "players = ['charles', 'martina', 'michael', 'florence', 'eli']\n",
    "print(players[1:4])"
   ]
  },
  {
   "cell_type": "markdown",
   "id": "c7c729d8-3d3c-48fa-9767-9d4c280877a3",
   "metadata": {},
   "source": [
    "You can also omit the first index in a slice, Python automatically starts your slice tht the beginning of the list:"
   ]
  },
  {
   "cell_type": "code",
   "execution_count": 2,
   "id": "cb1ea00e-ac92-43bf-81d9-cda35140f90a",
   "metadata": {},
   "outputs": [
    {
     "name": "stdout",
     "output_type": "stream",
     "text": [
      "['charles', 'martina', 'michael', 'florence']\n"
     ]
    }
   ],
   "source": [
    "players = ['charles', 'martina', 'michael', 'florence', 'eli']\n",
    "print(players[:4])"
   ]
  },
  {
   "cell_type": "markdown",
   "id": "281f5c3e-054c-4e4e-ae87-7b07ff998139",
   "metadata": {},
   "source": [
    "If you want a slice that includes the end of a line:"
   ]
  },
  {
   "cell_type": "code",
   "execution_count": 3,
   "id": "d568f0f6-0661-4c6f-8d64-2c6df9168a0f",
   "metadata": {},
   "outputs": [
    {
     "name": "stdout",
     "output_type": "stream",
     "text": [
      "['michael', 'florence', 'eli']\n"
     ]
    }
   ],
   "source": [
    "#Ex:\n",
    "players = ['charles', 'martina', 'michael', 'florence', 'eli']\n",
    "print(players[2:])"
   ]
  },
  {
   "cell_type": "markdown",
   "id": "c3d5f90a-5215-4d00-84df-483776866839",
   "metadata": {},
   "source": [
    "As well as output all of the elements from any point in your list to the end regardless of the length of the list using a negative index:"
   ]
  },
  {
   "cell_type": "code",
   "execution_count": 5,
   "id": "d8846029-6393-4d70-a0c5-f2248bda1f81",
   "metadata": {},
   "outputs": [
    {
     "name": "stdout",
     "output_type": "stream",
     "text": [
      "['michael', 'florence', 'eli']\n"
     ]
    }
   ],
   "source": [
    "players = ['charles', 'martina', 'michael', 'florence', 'eli']\n",
    "print(players[-3:])"
   ]
  },
  {
   "cell_type": "markdown",
   "id": "ad8b64cc-7577-4643-8e1d-3b5a90970408",
   "metadata": {},
   "source": [
    "This is good for lists as they change in size."
   ]
  },
  {
   "cell_type": "markdown",
   "id": "597bb38d-bf9a-4923-a629-97891c73ae58",
   "metadata": {},
   "source": [
    "#### - _Looping Through a Slice_"
   ]
  },
  {
   "cell_type": "markdown",
   "id": "1f76f4eb-b1c0-4b61-8501-1ee8a3e8fc33",
   "metadata": {},
   "source": [
    "You can use a slice in a _for loop_ if you want to loop through a subset of the elements in a list."
   ]
  },
  {
   "cell_type": "code",
   "execution_count": 6,
   "id": "f3a51e86-1cf6-4c1e-b4cc-24d03d4cc918",
   "metadata": {},
   "outputs": [
    {
     "name": "stdout",
     "output_type": "stream",
     "text": [
      "Charles\n",
      "Martina\n",
      "Michael\n"
     ]
    }
   ],
   "source": [
    "players = ['charles', 'martina', 'michael', 'florence', 'eli']\n",
    "for player in players[:3]:\n",
    "    print(player.title())"
   ]
  },
  {
   "cell_type": "markdown",
   "id": "c296b2de-c52c-4e59-af2c-8eab2f2dfbb5",
   "metadata": {},
   "source": [
    "Instead of looping through the entire list of players, Python loops through only the first three names"
   ]
  },
  {
   "cell_type": "markdown",
   "id": "ae04113c-615b-4619-9d79-8f5e48aa0025",
   "metadata": {},
   "source": [
    "#### - _Copying a List_"
   ]
  },
  {
   "cell_type": "markdown",
   "id": "1db1376f-1e27-4268-9f06-0100384a4220",
   "metadata": {},
   "source": [
    "Often, you'll start with an existing list and make an entierly new list based on the first. To copy a list, you can make a slice that includes <br>\n",
    "the entire original list by omitting the first index and the second index ( [ : ] ). This tells Python to make a slice that starts as the first item <br>\n",
    "and ends with the last item, producing a copy of the entire list."
   ]
  },
  {
   "cell_type": "code",
   "execution_count": 1,
   "id": "0ac836bb-269f-4727-82c3-22b629840a0d",
   "metadata": {},
   "outputs": [
    {
     "name": "stdout",
     "output_type": "stream",
     "text": [
      "My favorite foods are:\n",
      "['pizza', 'falafel', 'carrot cake']\n",
      "\n",
      "My friend's favorite foods are:\n",
      "['pizza', 'falafel', 'carrot cake']\n"
     ]
    }
   ],
   "source": [
    "my_foods = ['pizza', 'falafel', 'carrot cake']\n",
    "friend_foods = my_foods[:]\n",
    "print(\"My favorite foods are:\")\n",
    "print(my_foods)\n",
    "\n",
    "print(\"\\nMy friend's favorite foods are:\")\n",
    "print(friend_foods)"
   ]
  },
  {
   "cell_type": "markdown",
   "id": "f5fe2aad-3a6d-467a-90d4-1cef551f808a",
   "metadata": {},
   "source": [
    "To prove that both lists are seperate lists, we'll add a new food to each list and show that each list keeps track of the appropriate person's <br>\n",
    "favorite food:"
   ]
  },
  {
   "cell_type": "code",
   "execution_count": 6,
   "id": "777ec14e-73aa-421d-a2a2-25972c1fc598",
   "metadata": {},
   "outputs": [
    {
     "name": "stdout",
     "output_type": "stream",
     "text": [
      "My favorite foods are: \n",
      "['pizza', 'falafel', 'carrot cake', 'cannoli']\n",
      "\n",
      "My friend's favorite foods are:\n",
      "['pizza', 'falafel', 'carrot cake', 'ice cream']\n"
     ]
    }
   ],
   "source": [
    "my_foods = ['pizza', 'falafel', 'carrot cake']\n",
    "friend_foods = my_foods[:]\n",
    "my_foods.append('cannoli')\n",
    "friend_foods.append('ice cream')\n",
    "print(\"My favorite foods are: \")\n",
    "print(my_foods)\n",
    "print(\"\\nMy friend's favorite foods are:\")\n",
    "print(friend_foods)"
   ]
  },
  {
   "cell_type": "markdown",
   "id": "8030a955-4619-4085-a7da-fd4ae6b073da",
   "metadata": {},
   "source": [
    "If we copy a list without using a slice:"
   ]
  },
  {
   "cell_type": "code",
   "execution_count": 7,
   "id": "0a3f76e8-09d3-4af0-b81f-9c31f93fa77d",
   "metadata": {},
   "outputs": [
    {
     "name": "stdout",
     "output_type": "stream",
     "text": [
      "My favorite foods are: \n",
      "['pizza', 'falafel', 'carrot cake', 'cannoli', 'ice cream']\n",
      "\n",
      "My friend's favorite foods are:\n",
      "['pizza', 'falafel', 'carrot cake', 'cannoli', 'ice cream']\n"
     ]
    }
   ],
   "source": [
    "my_foods = ['pizza', 'falafel', 'carrot cake']\n",
    "friend_foods = my_foods\n",
    "my_foods.append('cannoli')\n",
    "friend_foods.append('ice cream')\n",
    "print(\"My favorite foods are: \")\n",
    "print(my_foods)\n",
    "print(\"\\nMy friend's favorite foods are:\")\n",
    "print(friend_foods)"
   ]
  },
  {
   "cell_type": "markdown",
   "id": "3276972f-80b7-4662-adc6-ad5c987429e3",
   "metadata": {},
   "source": [
    "Since we have __friend_foods__ equal to __my_foods__. This syntax actually tells Python to connect the new variable __friend_foods__ <br> \n",
    "to the list that is already contained in __my_foods__, so now both variables point to the same list."
   ]
  },
  {
   "cell_type": "markdown",
   "id": "0a2172e9-f695-4b43-8d0d-7295dc7b248f",
   "metadata": {},
   "source": [
    "***\n",
    "### Tuples"
   ]
  },
  {
   "cell_type": "markdown",
   "id": "9c883bb1-4d07-409f-b6fe-8295adf66243",
   "metadata": {},
   "source": [
    "Sometimes you'll want to create a list of items that cannot change. Tuples allow you to do just that. Python refers to values that cannot <br>\n",
    "change as _immutable_, and immutable list is called a _tuple_."
   ]
  },
  {
   "cell_type": "markdown",
   "id": "a9037dcf-40b7-44e9-9683-8990201d9cf5",
   "metadata": {},
   "source": [
    "#### - _Defining a Tuple_"
   ]
  },
  {
   "cell_type": "markdown",
   "id": "fee78cac-0adb-478c-a074-3e9654670e24",
   "metadata": {},
   "source": [
    "A tuple looks just like a list except you use parantheses instead of square brackets. Once you define a tuple, you can access individual <br>\n",
    "elements by using each item's index, just as you would in a list."
   ]
  },
  {
   "cell_type": "code",
   "execution_count": 9,
   "id": "55076d0f-9d33-4f08-8b63-d7e274d4393d",
   "metadata": {},
   "outputs": [
    {
     "name": "stdout",
     "output_type": "stream",
     "text": [
      "200\n",
      "50\n"
     ]
    }
   ],
   "source": [
    "#Ex:\n",
    "# We have a square with fixed dimensions\n",
    "dimensions = (200, 50)\n",
    "print(dimensions[0])\n",
    "print(dimensions[1])"
   ]
  },
  {
   "cell_type": "markdown",
   "id": "ac061bd2-15c7-4461-b0c1-b296380c53b1",
   "metadata": {},
   "source": [
    "#### - _Looping Through All Values in a Tuple_"
   ]
  },
  {
   "cell_type": "markdown",
   "id": "d9dac7f5-25dc-4156-9f2b-24e46cb71939",
   "metadata": {},
   "source": [
    "You can loop over all the values in a tuple using a _for loop_, similar to a list:"
   ]
  },
  {
   "cell_type": "code",
   "execution_count": 10,
   "id": "64c78220-dccc-44db-927e-fcb880a49468",
   "metadata": {},
   "outputs": [
    {
     "name": "stdout",
     "output_type": "stream",
     "text": [
      "200\n",
      "50\n"
     ]
    }
   ],
   "source": [
    "dimensions = (200, 50)\n",
    "for dimension in dimensions:\n",
    "    print(dimension)"
   ]
  },
  {
   "cell_type": "markdown",
   "id": "a7a2fb71-4eb1-409f-aab3-879391da2428",
   "metadata": {},
   "source": [
    "#### - _Writing over a Tuple_"
   ]
  },
  {
   "cell_type": "markdown",
   "id": "4bb56d9f-317e-4367-9e8d-331a8ce5fd8a",
   "metadata": {},
   "source": [
    "Although you can't modify a tuple, you can assign a new value to a variable that holds a tuple. So if we wanted to change our dimensions, we <br>\n",
    "could redefine the entire tuple:"
   ]
  },
  {
   "cell_type": "code",
   "execution_count": 13,
   "id": "f1d982a4-f950-4a0f-9abe-42d004a66b51",
   "metadata": {},
   "outputs": [
    {
     "name": "stdout",
     "output_type": "stream",
     "text": [
      "Original dimensions:\n",
      "200\n",
      "50\n",
      "\n",
      "Modified dimensions:\n",
      "400\n",
      "100\n"
     ]
    }
   ],
   "source": [
    "dimensions = (200, 50)\n",
    "print(\"Original dimensions:\")\n",
    "for dimension in dimensions:\n",
    "    print(dimension)\n",
    "\n",
    "dimensions = (400, 100)\n",
    "print(\"\\nModified dimensions:\")\n",
    "for dimension in dimensions:\n",
    "    print(dimension)\n"
   ]
  },
  {
   "cell_type": "markdown",
   "id": "424d0c34-0868-41d9-8c76-533838c03235",
   "metadata": {},
   "source": [
    "In this example we store a new tuple in the variable __dimensions__, Python recognized that as overwriting a variable."
   ]
  }
 ],
 "metadata": {
  "kernelspec": {
   "display_name": "Python 3 (ipykernel)",
   "language": "python",
   "name": "python3"
  },
  "language_info": {
   "codemirror_mode": {
    "name": "ipython",
    "version": 3
   },
   "file_extension": ".py",
   "mimetype": "text/x-python",
   "name": "python",
   "nbconvert_exporter": "python",
   "pygments_lexer": "ipython3",
   "version": "3.9.7"
  }
 },
 "nbformat": 4,
 "nbformat_minor": 5
}
