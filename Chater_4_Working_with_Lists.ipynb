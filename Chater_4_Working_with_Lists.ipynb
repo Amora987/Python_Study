{
 "cells": [
  {
   "cell_type": "markdown",
   "id": "d12f2fd6-c2c7-4728-a6da-0663053beb79",
   "metadata": {},
   "source": [
    "# Chapter 4 Working with Lists"
   ]
  },
  {
   "cell_type": "markdown",
   "id": "a3e4a6f9-13d9-43b6-84ae-8a3fc6b16338",
   "metadata": {},
   "source": [
    "In this chapter will cover how to _loop_ through an entire list."
   ]
  },
  {
   "cell_type": "markdown",
   "id": "7731c125-549c-4c73-8e83-21a6e738b615",
   "metadata": {},
   "source": [
    "### Looping Through an Entire List"
   ]
  },
  {
   "cell_type": "markdown",
   "id": "34b28bd5-d8e6-4d20-b8dd-44651dd133b3",
   "metadata": {},
   "source": [
    "You'll want to loop through a list when you want to do the same action with every <br>\n",
    "item in a list, using Python's _for loop_"
   ]
  },
  {
   "cell_type": "code",
   "execution_count": 1,
   "id": "fd3a8743-6247-41d5-9a8d-1d3dcbdb0c37",
   "metadata": {},
   "outputs": [
    {
     "name": "stdout",
     "output_type": "stream",
     "text": [
      "alice\n",
      "david\n",
      "carolina\n"
     ]
    }
   ],
   "source": [
    "#Ex:\n",
    "# Let's use a for loop to print out each name in a list of magicians:\n",
    "magicians = ['alice', 'david', 'carolina']\n",
    "for magician in magicians:\n",
    "    print(magician)"
   ]
  },
  {
   "cell_type": "markdown",
   "id": "b118da69-0089-48ea-a523-397b7b453e44",
   "metadata": {},
   "source": [
    "We start by defining a list, then we define a _for loop_. This line tell Python to pull a name <br>\n",
    "from the list magicians, and store it in the variable magician. Then we have Python print the <br>\n",
    "name that was just stored in magician. Python then repeats lines and, once for each name in the list."
   ]
  },
  {
   "cell_type": "markdown",
   "id": "cf1201d0-bab5-4108-9493-b3fbbcb3beff",
   "metadata": {},
   "source": [
    "#### - _A Closer Look at Looping_"
   ]
  },
  {
   "cell_type": "markdown",
   "id": "3b7e3f3e-0403-4a99-8861-c358cad3d90e",
   "metadata": {},
   "source": [
    "The concept of looping is important because it's one of the most common ways a computer automates <br>\n",
    "reptitive tasks."
   ]
  },
  {
   "cell_type": "markdown",
   "id": "8fc6c1fe-5dc4-466e-a6a8-b4e236135848",
   "metadata": {},
   "source": [
    "1. Python initially read the first line of the loop <br>\n",
    "2. __for magician in magicians__ tells Python to retrieve the first value from the list of magicians <br>\n",
    "and storie it in the variable magician <br>\n",
    "3. Python reads the next line __print(magician)__\n",
    "4. Python prints the current value of magician. Python returns to the first line of the loop to repeat <br>\n",
    "the process."
   ]
  },
  {
   "cell_type": "markdown",
   "id": "a17d6654-6d0e-40f8-bd97-3f994562bb00",
   "metadata": {},
   "source": [
    "#### - _Doing More Work Within a Loop_"
   ]
  },
  {
   "cell_type": "markdown",
   "id": "0cfa1ba6-1670-48a5-879b-154c0b28147b",
   "metadata": {},
   "source": [
    "You can do just about anything with each item in a _for loop_."
   ]
  },
  {
   "cell_type": "code",
   "execution_count": 7,
   "id": "aad6a8eb-076c-4202-935d-aca1c0d2905d",
   "metadata": {},
   "outputs": [
    {
     "name": "stdout",
     "output_type": "stream",
     "text": [
      "Alice, that was a great trick!\n",
      "David, that was a great trick!\n",
      "Carolina, that was a great trick!\n"
     ]
    }
   ],
   "source": [
    "#Ex:\n",
    "# printing a message to each magician, telling them that they performed a great trick:\n",
    "magicians = ['alice', 'david', 'carolina']\n",
    "for magician in magicians:\n",
    "    print(magician.title() + \", that was a great trick!\")"
   ]
  },
  {
   "cell_type": "markdown",
   "id": "6c610292-0f5d-49cd-b807-a5aff631eca6",
   "metadata": {},
   "source": [
    "Every indented line following the line __for magician in magicians__ is considered _inside the loop_, <br>\n",
    "and each indented line is executed once for each value in the list. Let's add another line to our message:"
   ]
  },
  {
   "cell_type": "code",
   "execution_count": 9,
   "id": "985b2793-e1bf-4e97-be4b-94388c0b24d7",
   "metadata": {},
   "outputs": [
    {
     "name": "stdout",
     "output_type": "stream",
     "text": [
      "Alice, that was a great trick!\n",
      "I can't wait to see your next trick,Alice.\n",
      "\n",
      "David, that was a great trick!\n",
      "I can't wait to see your next trick,David.\n",
      "\n",
      "Carolina, that was a great trick!\n",
      "I can't wait to see your next trick,Carolina.\n",
      "\n"
     ]
    }
   ],
   "source": [
    "#Ex: \n",
    "magicians = ['alice', 'david', 'carolina']\n",
    "for magician in magicians:\n",
    "    print(magician.title() + \", that was a great trick!\")\n",
    "    print(\"I can't wait to see your next trick,\" + magician.title() + \".\\n\")"
   ]
  },
  {
   "cell_type": "markdown",
   "id": "8b30a174-0c99-46cc-b2e0-73c51b209c81",
   "metadata": {},
   "source": [
    "#### - _Doing Something After a __for loop___"
   ]
  },
  {
   "cell_type": "markdown",
   "id": "9953f6d8-2df6-419b-b6d9-91eaa1fe588f",
   "metadata": {},
   "source": [
    "Any lines of code after the _for loop_ that are not indented are executed once without repetition. Let's write a <br>\n",
    "a thank you to the group of magicians as a whole, thanking them for putting on an excellent show."
   ]
  },
  {
   "cell_type": "code",
   "execution_count": 10,
   "id": "ace7e093-53cf-4029-8024-1529c267fbcf",
   "metadata": {},
   "outputs": [
    {
     "name": "stdout",
     "output_type": "stream",
     "text": [
      "Alice, that was a great trick!\n",
      "I can't wait to see your next trick,Alice.\n",
      "\n",
      "David, that was a great trick!\n",
      "I can't wait to see your next trick,David.\n",
      "\n",
      "Carolina, that was a great trick!\n",
      "I can't wait to see your next trick,Carolina.\n",
      "\n",
      "Thank you, everyone. That was a great magic show!\n"
     ]
    }
   ],
   "source": [
    "for magician in magicians:\n",
    "    print(magician.title() + \", that was a great trick!\")\n",
    "    print(\"I can't wait to see your next trick,\" + magician.title() + \".\\n\")\n",
    "\n",
    "print(\"Thank you, everyone. That was a great magic show!\")"
   ]
  },
  {
   "cell_type": "markdown",
   "id": "f37dfe4b-0d12-4996-9d33-8e98ea8dfb85",
   "metadata": {},
   "source": [
    "### Avoiding Indentation Errors\n",
    "Python uses indentation to determine when one line of code is connected to the line above it."
   ]
  },
  {
   "cell_type": "markdown",
   "id": "d8b4446c-26f4-4520-96f4-d60d4fd9e132",
   "metadata": {},
   "source": [
    "#### - _Forgetting to Indent_"
   ]
  },
  {
   "cell_type": "markdown",
   "id": "0a6ba725-0914-427e-a097-61b583e97cca",
   "metadata": {},
   "source": [
    "Always indent the line after the _for_ statement in a loop. If you forget Python will remind you <br>\n",
    "with an indentation error."
   ]
  },
  {
   "cell_type": "markdown",
   "id": "9b965f44-3b85-42e0-a189-3f14d951715e",
   "metadata": {},
   "source": [
    "#### - _Forgetting to Indent Additional lines_"
   ]
  },
  {
   "cell_type": "code",
   "execution_count": 11,
   "id": "d57e3c57-e160-465c-b118-9d24dc76c6fb",
   "metadata": {},
   "outputs": [
    {
     "name": "stdout",
     "output_type": "stream",
     "text": [
      "Alice, that was a great trick!\n",
      "David, that was a great trick!\n",
      "Carolina, that was a great trick!\n",
      "I can't wait to see your next trick,Carolina.\n",
      "\n"
     ]
    }
   ],
   "source": [
    "for magician in magicians:\n",
    "    print(magician.title() + \", that was a great trick!\")\n",
    "print(\"I can't wait to see your next trick,\" + magician.title() + \".\\n\")"
   ]
  },
  {
   "cell_type": "markdown",
   "id": "58e6e54b-384d-4945-b12e-e51df4bf814f",
   "metadata": {},
   "source": [
    "The print statement is supposed to be indented, but because Python finds at least one indented <br>\n",
    "line after the _for_ statement, it doesn't report an error. This is called a _logical error_"
   ]
  },
  {
   "cell_type": "markdown",
   "id": "f193d84f-25fa-4010-b114-89dfdff424ce",
   "metadata": {},
   "source": [
    "#### - _Indenting Unnecessarily_"
   ]
  },
  {
   "cell_type": "markdown",
   "id": "92d4b7f3-dc54-4144-88d7-6be2212b31d4",
   "metadata": {},
   "source": [
    "If you accidentally indent a line that doesn't need to be indented, Python informs you <br>\n",
    "about the unexpected indent:"
   ]
  },
  {
   "cell_type": "code",
   "execution_count": 13,
   "id": "5bacceac-6f95-422d-b41f-4b990cf42c8e",
   "metadata": {},
   "outputs": [
    {
     "ename": "IndentationError",
     "evalue": "unexpected indent (2752036153.py, line 2)",
     "output_type": "error",
     "traceback": [
      "\u001b[1;36m  Input \u001b[1;32mIn [13]\u001b[1;36m\u001b[0m\n\u001b[1;33m    print(message)\u001b[0m\n\u001b[1;37m    ^\u001b[0m\n\u001b[1;31mIndentationError\u001b[0m\u001b[1;31m:\u001b[0m unexpected indent\n"
     ]
    }
   ],
   "source": [
    "message = \"Hello Python World!\"\n",
    "    print(message)"
   ]
  },
  {
   "cell_type": "markdown",
   "id": "cf59522e-6efb-48cb-a2b7-a066b3d070b8",
   "metadata": {},
   "source": [
    "To avoid this error only indent when you have a specific reason to do so, such as the actions<br>\n",
    "that you want to repeatd for each item in a _for_ loop"
   ]
  },
  {
   "cell_type": "markdown",
   "id": "fafd8325-2cd4-4ccb-adbc-fcb55c51741f",
   "metadata": {},
   "source": [
    "#### - _Indenting Unnecessarily After the Loop_"
   ]
  },
  {
   "cell_type": "markdown",
   "id": "db01e822-7acc-4f98-89bc-73924be5dfcb",
   "metadata": {},
   "source": [
    "If you indent after a loop unnecessarily you'll repeat the action everytime the program runs the loop:"
   ]
  },
  {
   "cell_type": "code",
   "execution_count": 16,
   "id": "c412eb94-327b-4984-afd4-bb9f880bc319",
   "metadata": {},
   "outputs": [
    {
     "name": "stdout",
     "output_type": "stream",
     "text": [
      "Alice, that was a great trick!\n",
      "I can't wait to see your next trick,Alice.\n",
      "\n",
      "Thank you, everyone. That was a great magic show!\n",
      "David, that was a great trick!\n",
      "I can't wait to see your next trick,David.\n",
      "\n",
      "Thank you, everyone. That was a great magic show!\n",
      "Carolina, that was a great trick!\n",
      "I can't wait to see your next trick,Carolina.\n",
      "\n",
      "Thank you, everyone. That was a great magic show!\n"
     ]
    }
   ],
   "source": [
    "for magician in magicians:\n",
    "    print(magician.title() + \", that was a great trick!\")\n",
    "    print(\"I can't wait to see your next trick,\" + magician.title() + \".\\n\")\n",
    "\n",
    "    print(\"Thank you, everyone. That was a great magic show!\")"
   ]
  },
  {
   "cell_type": "markdown",
   "id": "a05e9eae-2c76-46c8-b8b5-e5e9a6231977",
   "metadata": {},
   "source": [
    "Because the \"Thank you, everyone. That was a great magic show!\" is indented, its <br>\n",
    "printed once for each person in the list. This is another logical error, because <br>\n",
    "PYthon doesn't know what you're trying to accomplish with your code."
   ]
  },
  {
   "cell_type": "markdown",
   "id": "3013d0b4-8247-41cf-b1c3-c686e96ef012",
   "metadata": {},
   "source": [
    "#### - _Forgetting the Colon_"
   ]
  },
  {
   "cell_type": "markdown",
   "id": "b076e6df-e477-45d5-8ee9-6066b01738b7",
   "metadata": {},
   "source": [
    "If you accidentally forget the colon, you'll get a syntax error because Python doesn't know <br>\n",
    "what you're trying to do. The colon is need at the end of a _for_ statement that tells Python <br>\n",
    "to interpret the next line as the start of a loop."
   ]
  },
  {
   "cell_type": "code",
   "execution_count": 20,
   "id": "66df269f-97ed-4eeb-af10-b1429287e8ef",
   "metadata": {},
   "outputs": [
    {
     "name": "stdout",
     "output_type": "stream",
     "text": [
      "I really enjoy pepperoni it's my favorite.\n",
      "\n",
      "I really enjoy cheese it's my favorite.\n",
      "\n",
      "I really enjoy veggie it's my favorite.\n",
      "\n",
      "I love eating pizza for dinner\n"
     ]
    }
   ],
   "source": [
    "# Try it yourself\n",
    "#Ex 1:\n",
    "pizzas = ['pepperoni', 'cheese', 'veggie']\n",
    "for pizza in pizzas:\n",
    "    print(\"I really enjoy \" + pizza + \" it's my favorite.\\n\")\n",
    "print(\"I love eating pizza for dinner\")"
   ]
  },
  {
   "cell_type": "markdown",
   "id": "79eb54e6-efe1-49b8-b6e3-c5614350e554",
   "metadata": {},
   "source": [
    "### Making Numerical Lists"
   ]
  },
  {
   "cell_type": "markdown",
   "id": "cd7f34bf-95c3-4e6d-9b7c-ccdc2123625e",
   "metadata": {},
   "source": [
    "In data visualizations, you'll almost always work with sets of numbers, and Python provides a number of tools <br> \n",
    "to help you work efficiently with lists of numbers. Once you understand how to use these tools effectively, your <br>\n",
    "code will work well even when yor lists contain millions of items."
   ]
  },
  {
   "cell_type": "markdown",
   "id": "d3abec70-4566-4d65-854e-48e9f88fa19c",
   "metadata": {},
   "source": [
    "#### - _Using the range( ) Function_"
   ]
  },
  {
   "cell_type": "markdown",
   "id": "edc651ad-895d-4952-b92f-a8c23a6cd1d0",
   "metadata": {},
   "source": [
    "Python's _range( )_ function makes it easy to generate a series of numbers. For example, you can use the <br> \n",
    "_range( )_ function to print a series of numbers like this:"
   ]
  },
  {
   "cell_type": "code",
   "execution_count": 21,
   "id": "6521303f-7e26-481b-b1f1-565b76f686d0",
   "metadata": {},
   "outputs": [
    {
     "name": "stdout",
     "output_type": "stream",
     "text": [
      "1\n",
      "2\n",
      "3\n",
      "4\n"
     ]
    }
   ],
   "source": [
    "for value in range(1,5):\n",
    "    print(value)"
   ]
  },
  {
   "cell_type": "markdown",
   "id": "7ae555e8-f540-4199-9f85-05cc7c82b829",
   "metadata": {},
   "source": [
    " The off-by-one behavior is shown here where it only prints 1-4 instead of 1-5. This happens because Python <br> \n",
    " starts counting at the first value you give it and it stops when it reaches the second value you provide."
   ]
  },
  {
   "cell_type": "code",
   "execution_count": 22,
   "id": "f72f2a4c-072a-4bf3-8735-222667550761",
   "metadata": {},
   "outputs": [
    {
     "name": "stdout",
     "output_type": "stream",
     "text": [
      "1\n",
      "2\n",
      "3\n",
      "4\n",
      "5\n"
     ]
    }
   ],
   "source": [
    "#Ex: To print the numbers from 1  to 5, you would use range(1,6):\n",
    "for value in range(1,6):\n",
    "    print(value)"
   ]
  },
  {
   "cell_type": "markdown",
   "id": "017244a2-2953-4666-b58e-e9241e08ef7b",
   "metadata": {},
   "source": [
    "#### - _Using rnage( ) to Make a List of Numbers_"
   ]
  },
  {
   "cell_type": "markdown",
   "id": "68b5bd8b-0593-40d6-b380-8d0c39fdf1ef",
   "metadata": {},
   "source": [
    "If you want to make a list of numbers, you can convert the results of _range( )_ directly into a list using the _list( )_ function. <br>\n",
    "When you wrap _list()_ around a call to the _range( )_ function the output will be a list of numbers.\n"
   ]
  },
  {
   "cell_type": "code",
   "execution_count": 24,
   "id": "955adf70-972b-4776-8733-d424d40cb5a1",
   "metadata": {},
   "outputs": [
    {
     "name": "stdout",
     "output_type": "stream",
     "text": [
      "[1, 2, 3, 4, 5]\n"
     ]
    }
   ],
   "source": [
    "#Ex: \n",
    "numbers = list(range(1,6))\n",
    "print(numbers)"
   ]
  },
  {
   "cell_type": "markdown",
   "id": "a6ec9c6e-fdf2-4db3-9196-2d3e3b707ef3",
   "metadata": {},
   "source": [
    "We can also use the _range( )_ function to tell python to skip the numbers in a given range. For example, here's <br>\n",
    "how we would list the even numbers between 1 and 10:"
   ]
  },
  {
   "cell_type": "code",
   "execution_count": 26,
   "id": "e9d2f85c-bcfb-4c7b-aac5-f7e590d8455d",
   "metadata": {},
   "outputs": [
    {
     "name": "stdout",
     "output_type": "stream",
     "text": [
      "[2, 4, 6, 8, 10]\n"
     ]
    }
   ],
   "source": [
    "#Ex: Even numbers 1-10\n",
    "even_numbers = list(range(2,11,2))\n",
    "print(even_numbers)"
   ]
  },
  {
   "cell_type": "markdown",
   "id": "1727cdf2-81f7-460b-8978-b2fa919e7242",
   "metadata": {},
   "source": [
    "You can also create almost any set of numbers you want using the _range( )_ function. For example, consider how you <br>\n",
    "might make a list of the first 10 square numbers (that is, the square of each integer from 1 through 10):"
   ]
  },
  {
   "cell_type": "code",
   "execution_count": 30,
   "id": "3bb31dca-8354-4d8c-b1ee-1c45d6ebb30a",
   "metadata": {},
   "outputs": [
    {
     "name": "stdout",
     "output_type": "stream",
     "text": [
      "[1, 4, 9, 16, 25, 36, 49, 64, 81, 100]\n"
     ]
    }
   ],
   "source": [
    "squares= []\n",
    "for value in range(1,11):\n",
    "    square = value**2\n",
    "    squares.append(square)\n",
    "print(squares)"
   ]
  },
  {
   "cell_type": "markdown",
   "id": "845f1e5b-6570-4f5e-9979-3e724fc8fcf2",
   "metadata": {},
   "source": [
    "To write more concise code, we could omit the temporary variable square and append each new value directly to the list."
   ]
  },
  {
   "cell_type": "code",
   "execution_count": 32,
   "id": "0720a21c-67ce-4a3f-ae96-67d609c5a58b",
   "metadata": {},
   "outputs": [
    {
     "name": "stdout",
     "output_type": "stream",
     "text": [
      "[1, 4, 9, 16, 25, 36, 49, 64, 81, 100]\n"
     ]
    }
   ],
   "source": [
    "squares = []\n",
    "for value in range(1,11):\n",
    "    squares.append(value**2)\n",
    "print(squares)"
   ]
  },
  {
   "cell_type": "markdown",
   "id": "dc37d26a-e6cb-49ce-9aa3-e0a8fe9f8074",
   "metadata": {},
   "source": [
    "#### - _Simple Statistics with a List of Numebrs_"
   ]
  },
  {
   "cell_type": "markdown",
   "id": "20422b2d-ee50-4919-b98f-b644d3c3ebef",
   "metadata": {},
   "source": [
    "The functions _min( )_, _max( )_, and _sum( )_ are specific to lists of numbers in Python."
   ]
  },
  {
   "cell_type": "code",
   "execution_count": 38,
   "id": "aadc31bb-b79e-4144-b38a-6509c744e38d",
   "metadata": {},
   "outputs": [],
   "source": [
    "digits = [1,2,3,4,5,6,7,8,9,0]"
   ]
  },
  {
   "cell_type": "code",
   "execution_count": 37,
   "id": "e7c66d71-611b-420c-9386-6c5a4a1cdb84",
   "metadata": {},
   "outputs": [
    {
     "data": {
      "text/plain": [
       "0"
      ]
     },
     "execution_count": 37,
     "metadata": {},
     "output_type": "execute_result"
    }
   ],
   "source": [
    "min(digits)"
   ]
  },
  {
   "cell_type": "code",
   "execution_count": 35,
   "id": "5f469338-0c96-45a7-8a32-c71fcc538b1f",
   "metadata": {},
   "outputs": [
    {
     "data": {
      "text/plain": [
       "9"
      ]
     },
     "execution_count": 35,
     "metadata": {},
     "output_type": "execute_result"
    }
   ],
   "source": [
    "max(digits)"
   ]
  },
  {
   "cell_type": "code",
   "execution_count": 36,
   "id": "8b82e149-6af8-4ff7-a65a-63bf408062df",
   "metadata": {},
   "outputs": [
    {
     "data": {
      "text/plain": [
       "45"
      ]
     },
     "execution_count": 36,
     "metadata": {},
     "output_type": "execute_result"
    }
   ],
   "source": [
    "sum(digits)"
   ]
  },
  {
   "cell_type": "markdown",
   "id": "48c6e851-b6d3-4058-b5d6-dd0657deefd9",
   "metadata": {},
   "source": [
    "#### - _List Comprehensions_"
   ]
  },
  {
   "cell_type": "markdown",
   "id": "94ab9b95-9098-4cbd-8613-de31502e363b",
   "metadata": {},
   "source": [
    "A _list comprehension_ allows you to generate this same list in just one line of code. A list comprehension combines the <br>\n",
    "_for loop_ and the creation of new elements into one line and automatically appends each new element. "
   ]
  },
  {
   "cell_type": "code",
   "execution_count": 40,
   "id": "be322842-2cc0-4993-bfa1-b33519709659",
   "metadata": {},
   "outputs": [
    {
     "name": "stdout",
     "output_type": "stream",
     "text": [
      "[1, 4, 9, 16, 25, 36, 49, 64, 81, 100]\n"
     ]
    }
   ],
   "source": [
    "#Ex:\n",
    "squares = [value**2 for value in range(1,11)]\n",
    "print(squares)"
   ]
  },
  {
   "cell_type": "markdown",
   "id": "849d368b-6d80-4439-8e91-d9f628e2692d",
   "metadata": {},
   "source": [
    "### Working with Part of a List"
   ]
  },
  {
   "cell_type": "markdown",
   "id": "827f3a30-7d52-4b54-97cf-c2edcf9be38d",
   "metadata": {},
   "source": [
    "In Chapter 3, you learned how to access single elements in a list, and in this chapter you've been learning how to <br>\n",
    "work through all the elements in a list. You can also work with a specific group of items in a list, which Python calls a _slice_."
   ]
  },
  {
   "cell_type": "markdown",
   "id": "9dfb43ce-085b-4094-8d96-ed694bdc1365",
   "metadata": {},
   "source": [
    "#### - _Slicing a List_"
   ]
  },
  {
   "cell_type": "code",
   "execution_count": null,
   "id": "5eb91a79-669d-4a8b-8462-ee5ca2fdaa6e",
   "metadata": {},
   "outputs": [],
   "source": []
  }
 ],
 "metadata": {
  "kernelspec": {
   "display_name": "Python 3 (ipykernel)",
   "language": "python",
   "name": "python3"
  },
  "language_info": {
   "codemirror_mode": {
    "name": "ipython",
    "version": 3
   },
   "file_extension": ".py",
   "mimetype": "text/x-python",
   "name": "python",
   "nbconvert_exporter": "python",
   "pygments_lexer": "ipython3",
   "version": "3.9.7"
  }
 },
 "nbformat": 4,
 "nbformat_minor": 5
}
