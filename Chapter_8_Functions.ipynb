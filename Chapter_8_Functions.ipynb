{
 "cells": [
  {
   "cell_type": "markdown",
   "id": "48ae16ea-7995-475d-b2e4-e930ae2bbb91",
   "metadata": {},
   "source": [
    "### Chapter 8 Functions\n",
    "In this chapter, you'll learn to write _functions_, which are named blocks of code that are designed to do one specific job.<br>\n",
    "When you want to perform a particular task, that you've defined in a function, you _call_ the name of the function responsible for it <br>\n",
    "Using functions makes your programs easier to write, read,test and fix. How to write certain functions whose primary job is to display <br>\n",
    "information, and other functions designed to process data and return a value or set of values. You'll learn to store functions in seperate <br>\n",
    "files called _modules_ to help organize your main program files. <br>\n",
    "***\n",
    "### Defining a Function\n",
    "Here's a simple function named greet_user( )  that prints a greeting:"
   ]
  },
  {
   "cell_type": "code",
   "execution_count": 1,
   "id": "12e0c464-1f8a-4d19-b585-6b1abd077567",
   "metadata": {},
   "outputs": [
    {
     "name": "stdout",
     "output_type": "stream",
     "text": [
      "Hello!\n"
     ]
    }
   ],
   "source": [
    "def greet_user():\n",
    "    \"\"\"Display a simple greeting.\"\"\"\n",
    "    print(\"Hello!\")\n",
    "    \n",
    "greet_user()"
   ]
  },
  {
   "cell_type": "markdown",
   "id": "fdf5a248-2008-415b-839b-3181e4dd81f3",
   "metadata": {},
   "source": [
    "This shows the simplest structure of a function. The keyword __def__ informs Python that you're defining a function. This is the _function <br>\n",
    "definition_, which tells Python the name of the function and, if applicable, what kind of information the function needs to do its job. <br>\n",
    "The parentheses hold that information.<br>\n",
    "#### -_Passing Information to a Function_\n",
    "The funtion can greet them by name. For the function to do this, you enter username in the parentheses of the function to accept any value <br>\n",
    "of username you specify. the function now expects you to provide a value for username each time you call it. When you call greet_user(), <br>\n",
    "you can pass it a name, such as 'jesse', inside the parentheses:\n"
   ]
  },
  {
   "cell_type": "code",
   "execution_count": 3,
   "id": "af6fac14-0461-45e2-b238-4405a66610a4",
   "metadata": {},
   "outputs": [
    {
     "name": "stdout",
     "output_type": "stream",
     "text": [
      "Hello Jesse!\n"
     ]
    }
   ],
   "source": [
    "def greet_user(username):\n",
    "    print(\"Hello \" + username.title() + \"!\")\n",
    "greet_user(\"jesse\")"
   ]
  },
  {
   "cell_type": "markdown",
   "id": "38815762-ed10-41c6-ba1a-17d66b850f0d",
   "metadata": {},
   "source": [
    "#### -_Arguments and Parameters_\n",
    "The variable username in the definition of greet_user( ) is an example of a parameter, a piece of information the function needs <br>\n",
    "to do its job. The value \"jesse\" in greet_user(\"jesse\") is an example of an _argument_. An argument is a piece of information that is <br>\n",
    "passed from a function call to a function. When we call the function, we place the value we want the function to work with in parentheses.<br>\n",
    "***\n",
    "### Passing Arguments"
   ]
  },
  {
   "cell_type": "code",
   "execution_count": null,
   "id": "acce369f-1c0c-49cf-b2f1-d729753d71e5",
   "metadata": {},
   "outputs": [],
   "source": []
  }
 ],
 "metadata": {
  "kernelspec": {
   "display_name": "Python 3 (ipykernel)",
   "language": "python",
   "name": "python3"
  },
  "language_info": {
   "codemirror_mode": {
    "name": "ipython",
    "version": 3
   },
   "file_extension": ".py",
   "mimetype": "text/x-python",
   "name": "python",
   "nbconvert_exporter": "python",
   "pygments_lexer": "ipython3",
   "version": "3.9.7"
  }
 },
 "nbformat": 4,
 "nbformat_minor": 5
}
