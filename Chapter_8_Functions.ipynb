{
 "cells": [
  {
   "cell_type": "markdown",
   "id": "48ae16ea-7995-475d-b2e4-e930ae2bbb91",
   "metadata": {},
   "source": [
    "### Chapter 8 Functions\n",
    "In this chapter, you'll learn to write _functions_, which are named blocks of code that are designed to do one specific job.<br>\n",
    "When you want to perform a particular task, that you've defined in a function, you _call_ the name of the function responsible for it <br>\n",
    "Using functions makes your programs easier to write, read,test and fix. How to write certain functions whose primary job is to display <br>\n",
    "information, and other functions designed to process data and return a value or set of values. You'll learn to store functions in seperate <br>\n",
    "files called _modules_ to help organize your main program files. <br>\n",
    "***\n",
    "### Defining a Function\n",
    "Here's a simple function named greet_user( )  that prints a greeting:"
   ]
  },
  {
   "cell_type": "code",
   "execution_count": 1,
   "id": "12e0c464-1f8a-4d19-b585-6b1abd077567",
   "metadata": {},
   "outputs": [
    {
     "name": "stdout",
     "output_type": "stream",
     "text": [
      "Hello!\n"
     ]
    }
   ],
   "source": [
    "def greet_user():\n",
    "    \"\"\"Display a simple greeting.\"\"\"\n",
    "    print(\"Hello!\")\n",
    "    \n",
    "greet_user()"
   ]
  },
  {
   "cell_type": "markdown",
   "id": "fdf5a248-2008-415b-839b-3181e4dd81f3",
   "metadata": {},
   "source": [
    "This shows the simplest structure of a function. The keyword __def__ informs Python that you're defining a function. This is the _function <br>\n",
    "definition_, which tells Python the name of the function and, if applicable, what kind of information the function needs to do its job. <br>\n",
    "The parentheses hold that information.<br>\n",
    "#### -_Passing Information to a Function_\n",
    "The funtion can greet them by name. For the function to do this, you enter username in the parentheses of the function to accept any value <br>\n",
    "of username you specify. the function now expects you to provide a value for username each time you call it. When you call greet_user(), <br>\n",
    "you can pass it a name, such as 'jesse', inside the parentheses:\n"
   ]
  },
  {
   "cell_type": "code",
   "execution_count": 3,
   "id": "af6fac14-0461-45e2-b238-4405a66610a4",
   "metadata": {},
   "outputs": [
    {
     "name": "stdout",
     "output_type": "stream",
     "text": [
      "Hello Jesse!\n"
     ]
    }
   ],
   "source": [
    "def greet_user(username):\n",
    "    print(\"Hello \" + username.title() + \"!\")\n",
    "greet_user(\"jesse\")"
   ]
  },
  {
   "cell_type": "markdown",
   "id": "38815762-ed10-41c6-ba1a-17d66b850f0d",
   "metadata": {},
   "source": [
    "#### -_Arguments and Parameters_\n",
    "The variable username in the definition of greet_user( ) is an example of a parameter, a piece of information the function needs <br>\n",
    "to do its job. The value \"jesse\" in greet_user(\"jesse\") is an example of an _argument_. An argument is a piece of information that is <br>\n",
    "passed from a function call to a function. When we call the function, we place the value we want the function to work with in parentheses.<br>\n",
    "***\n",
    "### Passing Arguments"
   ]
  },
  {
   "cell_type": "markdown",
   "id": "d9a64fb7-deeb-42b3-955a-36025d7487d3",
   "metadata": {},
   "source": [
    "You can use _positional arguements_, which need to be in the same order the parameters were written; _keyword arguments_, where each argument <br>\n",
    "consists of a variable name and a value; and his list and dictionaries of values. Let's look at each of these in turn. <br>\n",
    "#### -_Positonal Arguments_\n",
    "When you call a function, Python must match each argument in the function call with a parameter in the function definiton. The simplest way to do <br>\n",
    "this is based on the order of the arguments provided. Values matched up this way are called _positional arguments_."
   ]
  },
  {
   "cell_type": "code",
   "execution_count": 1,
   "id": "565a985a-aaca-4157-8ae3-b5a5f11fe5ed",
   "metadata": {},
   "outputs": [
    {
     "name": "stdout",
     "output_type": "stream",
     "text": [
      "\n",
      "I have a hamster.\n",
      "My hamster's name is Harry.\n"
     ]
    }
   ],
   "source": [
    "def describe_pet(animal_type, pet_name):\n",
    "    #Display information about a pet\n",
    "    print(\"\\nI have a \" + animal_type + \".\")\n",
    "    print(\"My \" + animal_type + \"'s name is \" + pet_name.title() +\".\")\n",
    "\n",
    "describe_pet(\"hamster\", \"harry\")"
   ]
  },
  {
   "cell_type": "markdown",
   "id": "7af47fb7-f8b3-4c17-a0d1-e324e5fe095b",
   "metadata": {},
   "source": [
    "#### __Multiple Function Calls__\n",
    "You can call a function as many times as needed. Describing a second, different pet requires just one more call to __describe_pet( )__:"
   ]
  },
  {
   "cell_type": "code",
   "execution_count": 2,
   "id": "490554d1-380d-463b-b4b7-fd703ca53ebe",
   "metadata": {},
   "outputs": [
    {
     "name": "stdout",
     "output_type": "stream",
     "text": [
      "\n",
      "I have a hamster.\n",
      "My hamster's name is Harry.\n",
      "\n",
      "I have a dog.\n",
      "My dog's name is Willie.\n"
     ]
    }
   ],
   "source": [
    "def describe_pet(animal_type, pet_name):\n",
    "    #Display information about a pet\n",
    "    print(\"\\nI have a \" + animal_type + \".\")\n",
    "    print(\"My \" + animal_type + \"'s name is \" + pet_name.title() +\".\")\n",
    "\n",
    "describe_pet(\"hamster\", \"harry\")\n",
    "describe_pet(\"dog\", \"willie\")"
   ]
  },
  {
   "cell_type": "markdown",
   "id": "74d66f11-42b2-4f99-b9bb-bae8edd774cc",
   "metadata": {},
   "source": [
    "Calling a function multiple times is a very efficient way to work. You can use as many positional arguments as you need in your functions. <br>\n",
    "#### __Order Matters in Positional Arguments__\n",
    "You can get unexpected results if you mix up the order of the arguments in a function all when using positional arguments:"
   ]
  },
  {
   "cell_type": "code",
   "execution_count": 3,
   "id": "6000acd3-c4b9-4854-8e26-da009e935125",
   "metadata": {},
   "outputs": [
    {
     "name": "stdout",
     "output_type": "stream",
     "text": [
      "\n",
      "I have a harry.\n",
      "My harry's name is Hammster.\n"
     ]
    }
   ],
   "source": [
    "def describe_pet(animal_type, pet_name):\n",
    "    #Display information about a pet\n",
    "    print(\"\\nI have a \" + animal_type + \".\")\n",
    "    print(\"My \" + animal_type + \"'s name is \" + pet_name.title() +\".\")\n",
    "    \n",
    "describe_pet(\"harry\", \"hammster\")"
   ]
  },
  {
   "cell_type": "markdown",
   "id": "c4a924c1-684e-4aa0-9e98-517b8feaebe0",
   "metadata": {},
   "source": [
    "#### -_Keyword Arguments_ \n",
    "A _keyword argument_ is a name-value pair that you pass to a function. You directly associate the name and the value within the argument, <br>\n",
    "so when you pass the argument to the function, there's no confusion. They clarify the role of each value in the function call."
   ]
  },
  {
   "cell_type": "code",
   "execution_count": 4,
   "id": "e27d0ea1-a72c-4507-9efc-4c2a6c8ab3d7",
   "metadata": {},
   "outputs": [
    {
     "name": "stdout",
     "output_type": "stream",
     "text": [
      "\n",
      "I have a hamster.\n",
      "My hamster's name is Harry.\n"
     ]
    }
   ],
   "source": [
    "def describe_pet(animal_type, pet_name):\n",
    "    #Display information about a pet\n",
    "    print(\"\\nI have a \" + animal_type + \".\")\n",
    "    print(\"My \" + animal_type + \"'s name is \" + pet_name.title() +\".\")\n",
    "describe_pet(animal_type = \"hamster\", pet_name = \"harry\")"
   ]
  },
  {
   "cell_type": "markdown",
   "id": "dedadb1e-cdf5-4cd7-8c8d-53e25c38f7bb",
   "metadata": {},
   "source": [
    "#### -_Defaulat Values_\n",
    "When writing a function, you can define a _default value_ for each parameter. If an argument for a parameter is provided in the function call, <br>\n",
    "Python uses the argument value. If not, it uses the parameter's default value. Whe you define a default value for a parameter, you can exclude <br>\n",
    "the corresponding argument you'd write in the function call."
   ]
  },
  {
   "cell_type": "code",
   "execution_count": 6,
   "id": "eaa526e0-4870-4dac-90f4-d818e7a61b9f",
   "metadata": {},
   "outputs": [
    {
     "name": "stdout",
     "output_type": "stream",
     "text": [
      "\n",
      "I have a dog.\n",
      "My dog's name is Willie.\n"
     ]
    }
   ],
   "source": [
    "def describe_pet(pet_name, animal_type = \"dog\"):\n",
    "    #Display information about a pet\n",
    "    print(\"\\nI have a \" + animal_type + \".\")\n",
    "    print(\"My \" + animal_type + \"'s name is \" + pet_name.title() +\".\")\n",
    "describe_pet(pet_name = \"willie\")"
   ]
  },
  {
   "cell_type": "markdown",
   "id": "80dafdbb-f1fc-4686-9f0c-eccbaa44adaa",
   "metadata": {},
   "source": [
    "Note: The order of the parameters in the function definition had to be changed. Because the default value makes it unnecessary to specify <br>\n",
    "a type of animal as an argument, the only argument left in the function call is the pet's name. Python still interprets this as a positional<br> argument, so that the argument will match up with the first parameter listed in the function's definition. <br>\n",
    "\n",
    "#### -_Equivalent Function Calls_\n",
    "Because positional arguments, keyword arguments, and default values can all be used together, often you'll have several equivalent ways to <br>\n",
    "call a function.\n",
    "***\n",
    "### Return Values\n",
    "A function can process some data and then return a value or a set of values. The value the function returns is called a _return value_. The <br>\n",
    "__return__ statement takes a value from inside a function and sends it back to the line that called the function. Return values allow <br>\n",
    "to move much of your program's grunt work into functions. <br>\n",
    "\n",
    "#### -_Returning a Simple Value_"
   ]
  },
  {
   "cell_type": "code",
   "execution_count": 8,
   "id": "89a7b8eb-00ba-4861-89a2-a3b86e361c24",
   "metadata": {},
   "outputs": [
    {
     "name": "stdout",
     "output_type": "stream",
     "text": [
      "Jimi Hendrix\n"
     ]
    }
   ],
   "source": [
    "def get_formatted_name(first_name, last_name):\n",
    "    #Return a full name, neatly formatted\n",
    "    full_name = first_name + \" \" + last_name\n",
    "    return full_name.title()\n",
    "musician = get_formatted_name(\"jimi\", \"hendrix\")\n",
    "print(musician)"
   ]
  },
  {
   "cell_type": "markdown",
   "id": "8c7eeeda-f8cf-4729-bf9e-f8176bfccc43",
   "metadata": {},
   "source": [
    "#### -_Making an Argument Optional_\n",
    "Making an argument optional so that people using the function can choose to provide extra information only if they want to. You can use default <br>\n",
    "values to make an argument operational. <br>\n",
    "<br>\n",
    "For example, say we want to expand __get_formmatted_name( )__ to handle middle names as well. A first attempt to include middle names might look <br>like this:"
   ]
  },
  {
   "cell_type": "code",
   "execution_count": null,
   "id": "80e93a80-f369-48c1-9750-4262223ace93",
   "metadata": {},
   "outputs": [],
   "source": [
    "def get_formatted_name(first_name,middle_name, last_name):\n",
    "    #Return a full name, neatly formatted\n",
    "    full_name = first_name + \" \" + middle_name+ \" \" + last_name\n",
    "    return full_name.title()\n",
    "musician = get_formatted_name(\"jimi\", \"hendrix\")\n",
    "print(musician)"
   ]
  },
  {
   "cell_type": "markdown",
   "id": "8a6afe62-be25-46da-9677-4416f1e7ef44",
   "metadata": {},
   "source": [
    "But middle names aren't always needed, and this function as written would not work if you tried to call it with only a first name and a last name.<br>\n",
    "To make the middle name optional, we can give the __middle_name__ argument an empty default value and ignore the argument unless the user provides<br>\n",
    "a value. We set the default value of __middle_name__ to an empty string and move it to the end of the list of parameters:"
   ]
  },
  {
   "cell_type": "code",
   "execution_count": 3,
   "id": "dc7e306c-692d-40aa-854c-4bb8955830f4",
   "metadata": {},
   "outputs": [
    {
     "name": "stdout",
     "output_type": "stream",
     "text": [
      "jimi hendrix\n",
      "john lee hooker\n"
     ]
    }
   ],
   "source": [
    "def get_formatted_name(first_name, last_name, middle_name = \"\"):\n",
    "    #Return a full name, neatly formatted\n",
    "    if middle_name:\n",
    "        full_name = first_name + \" \" + middle_name + \" \" + last_name\n",
    "    else: \n",
    "        full_name = first_name + \" \" + last_name\n",
    "    return full_name\n",
    "musician = get_formatted_name(\"jimi\", \"hendrix\")\n",
    "print(musician)\n",
    "\n",
    "musician = get_formatted_name(\"john\",\"hooker\", \"lee\")\n",
    "print(musician)"
   ]
  },
  {
   "cell_type": "markdown",
   "id": "7edd1956-bd26-4701-8121-aa6248536d0e",
   "metadata": {},
   "source": [
    "Python interprets non-empty strings as __True__, so if __middle_name__ evaulates to True if a middle name argument is in the function call. If <br>\n",
    "no middle name is provided, the empty string fails the __if__ test and the __else__ block runs.\n",
    "#### -_Returning a Dictionary_\n",
    "A function can return any king of value you need it to, including more complicated data structure like lists and dictionaries. For example, the <br>\n",
    "following function takes in parts of a name and returns a dictionary representing a person:"
   ]
  },
  {
   "cell_type": "code",
   "execution_count": 4,
   "id": "34f87a59-fc6a-4ce3-95e3-67daf37a9a82",
   "metadata": {},
   "outputs": [
    {
     "name": "stdout",
     "output_type": "stream",
     "text": [
      "{'first': 'jimi', 'last': 'hendrix'}\n"
     ]
    }
   ],
   "source": [
    "def build_person(first_name, last_name):\n",
    "    #Return a dictionary of information about a person.\n",
    "    person = {'first':first_name, 'last': last_name}\n",
    "    return person\n",
    "\n",
    "musician = build_person('jimi', 'hendrix')\n",
    "print(musician)"
   ]
  },
  {
   "cell_type": "markdown",
   "id": "2a9c461b-412c-4337-a3e1-14112c698477",
   "metadata": {},
   "source": [
    "You can easily extend this function to accept optional values like a middle_name, an age, an occupation, or any other information you want <br> \n",
    "to store about a person. For example, the following change allows you to store a person's age as well:"
   ]
  },
  {
   "cell_type": "code",
   "execution_count": 6,
   "id": "3ec8583b-2455-4462-94db-db527479e6fe",
   "metadata": {},
   "outputs": [
    {
     "name": "stdout",
     "output_type": "stream",
     "text": [
      "{'first': 'jimi', 'last': 'hendrix', 'age': 27}\n"
     ]
    }
   ],
   "source": [
    "def build_person(first_name, last_name, age = ''):\n",
    "    #Return a dictionary of information about a person.\n",
    "    person = {'first':first_name, 'last': last_name}\n",
    "    if age:\n",
    "        person['age'] = age\n",
    "    return person\n",
    "\n",
    "musician = build_person('jimi', 'hendrix', age = 27)\n",
    "print(musician)"
   ]
  },
  {
   "cell_type": "markdown",
   "id": "9c28ec49-4922-47c9-834e-b506069e6fea",
   "metadata": {},
   "source": [
    "We add a new optional parameter age to the functional definition and assign the parameter an empty default value. If the function call inclues <br>\n",
    "a value for this parameter, the value is stored in the dictionary. <br>\n",
    "#### -_Using a Function with a While Loop_\n",
    "You can use functions with all the Python structures you've learned about so far. For example, let's use the __get_formmatted_name( )__ with a <br>\n",
    "__while__ loop to greet users more formally."
   ]
  },
  {
   "cell_type": "code",
   "execution_count": 10,
   "id": "66c9c28e-952a-46d5-94d6-69c758311495",
   "metadata": {},
   "outputs": [
    {
     "name": "stdout",
     "output_type": "stream",
     "text": [
      "\n",
      "Please tell me your name:\n",
      "(enter 'q' at any time to quit)\n"
     ]
    },
    {
     "name": "stdin",
     "output_type": "stream",
     "text": [
      "First name:  Alex\n",
      "Last name:  Morales\n"
     ]
    },
    {
     "name": "stdout",
     "output_type": "stream",
     "text": [
      "\n",
      "Hello, Alex Morales!\n",
      "\n",
      "Please tell me your name:\n",
      "(enter 'q' at any time to quit)\n"
     ]
    },
    {
     "name": "stdin",
     "output_type": "stream",
     "text": [
      "First name:  George\n",
      "Last name:  Bush\n"
     ]
    },
    {
     "name": "stdout",
     "output_type": "stream",
     "text": [
      "\n",
      "Hello, George Bush!\n",
      "\n",
      "Please tell me your name:\n",
      "(enter 'q' at any time to quit)\n"
     ]
    },
    {
     "name": "stdin",
     "output_type": "stream",
     "text": [
      "First name:  q\n"
     ]
    }
   ],
   "source": [
    "def get_formatted_name(first_name, last_name):\n",
    "    #Return a full name, neatly formatted\n",
    "    full_name = first_name + \" \" + last_name\n",
    "    return full_name\n",
    "\n",
    "while True: \n",
    "    print(\"\\nPlease tell me your name:\")\n",
    "    print(\"(enter 'q' at any time to quit)\")\n",
    "    f_name = input(\"First name: \")\n",
    "    if f_name == 'q':\n",
    "        break\n",
    "    l_name = input(\"Last name: \")\n",
    "    if l_name == 'q':\n",
    "        break\n",
    "    formatted_name = get_formatted_name(f_name,l_name)\n",
    "    print(\"\\nHello, \" + formatted_name + \"!\")\n",
    "\n",
    "\n",
    "\n",
    "\n",
    "\n"
   ]
  },
  {
   "cell_type": "markdown",
   "id": "4811e0b5-5629-4e0b-8b22-d18ede4d1ab7",
   "metadata": {},
   "source": [
    "***\n",
    "### Passing a List\n",
    "You'll often "
   ]
  },
  {
   "cell_type": "code",
   "execution_count": null,
   "id": "551ff38f-be7e-4f42-9674-13f54c775338",
   "metadata": {},
   "outputs": [],
   "source": []
  }
 ],
 "metadata": {
  "kernelspec": {
   "display_name": "Python 3 (ipykernel)",
   "language": "python",
   "name": "python3"
  },
  "language_info": {
   "codemirror_mode": {
    "name": "ipython",
    "version": 3
   },
   "file_extension": ".py",
   "mimetype": "text/x-python",
   "name": "python",
   "nbconvert_exporter": "python",
   "pygments_lexer": "ipython3",
   "version": "3.9.7"
  }
 },
 "nbformat": 4,
 "nbformat_minor": 5
}
