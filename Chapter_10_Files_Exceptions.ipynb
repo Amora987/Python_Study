{
 "cells": [
  {
   "cell_type": "markdown",
   "id": "080e81bb-4d27-47bd-a9a0-e0057fbe7cf4",
   "metadata": {},
   "source": [
    "### Chapter 10 Files and Exceptions\n",
    "_In this chapter you'll learn to work with files so your programs can quickly analyze lots of data_ <br>\n",
    "<br>\n",
    "You'll learn about _exceptons_, which are special objects, Python creates to manage errors that arise while a program is running. You'll also <br>\n",
    "learn about the json module, which allows you to save user data so it isn't lost when your program stops running.<br>\n",
    "<br>\n",
    "Learning to work with files and save data will make your programs easier for people to use.<br>\n",
    "\n",
    "*** \n",
    "### Reading from a File\n",
    "To begin, we need a file with a few lines of text in it. Let's start with a file that contains _pi_ to 30 decimal places with 10 decimal places <br>\n",
    "per line:"
   ]
  },
  {
   "cell_type": "code",
   "execution_count": 2,
   "id": "ace00111-3316-474c-b7ee-71656ae66b98",
   "metadata": {},
   "outputs": [
    {
     "data": {
      "text/plain": [
       "2643383279"
      ]
     },
     "execution_count": 2,
     "metadata": {},
     "output_type": "execute_result"
    }
   ],
   "source": [
    "#pi_digits.txt\n",
    "3.1415926535\n",
    "8979323846\n",
    "2643383279"
   ]
  },
  {
   "cell_type": "markdown",
   "id": "110a91c7-19f3-41b0-a3c1-c7aee87b4a49",
   "metadata": {},
   "source": [
    "Here's a program that opens this file, reads it, and prints the contents of the file to the screen:"
   ]
  },
  {
   "cell_type": "code",
   "execution_count": 1,
   "id": "17c6759e-a9a3-434e-a59c-0bff21225360",
   "metadata": {},
   "outputs": [],
   "source": [
    "with open('pi_digits.txt') as file_object:\n",
    "    contents = file_object.read()\n",
    "    print(contents)"
   ]
  },
  {
   "cell_type": "markdown",
   "id": "6441b0ea-947d-497c-99cc-7971cf94ca6f",
   "metadata": {},
   "source": [
    "To do any wortk with a file, even just printing its contents, you first need to _open_ the file to access it. The __open( )__ function needs one<br> argument: the name of the file you want to open. Python looks for this file in the directory where the program that's currently being exeuted is<br> stored. The __open( )__ function returns an object representing the file. <br>\n",
    "<br>\n",
    "The keyword __with__ closes the file once access to it is no longer needed. Notice How we call __open( )__ in this program but not __close( )__.<br>\n",
    "You could open and close the file by calling __oepn( )__ and __close( )__, but if a bug in your program prevents the __close( )__ statement from <br>\n",
    "being executed, the file may never close. This may seem trivial, but improperly closed files can cause data to be lost or corrupted. And if you <br>\n",
    "call __close( )__ state too early in your program, you'll find yourself trying to work with a _closed_ file (a file you can't access), which leads to more errors. <br>\n",
    "<br>\n",
    "The blank line appears because __read( )__ returns an empty string when it reaches the end of the file; this empty string shows up as blank line.<br>\n",
    "If you want to remove the extra blank line, you can use __rstrip( )__ in the __print__ statement."
   ]
  },
  {
   "cell_type": "code",
   "execution_count": null,
   "id": "dc3b1a8b-18fb-4cb5-a62e-117048d56299",
   "metadata": {},
   "outputs": [],
   "source": [
    "with open('pi_digits.txt') as file_object:\n",
    "    contents = file_object.read()\n",
    "    print(contents.rstrip())"
   ]
  },
  {
   "cell_type": "markdown",
   "id": "42006b23-f730-49b4-9f3d-c3cb7d6b0e60",
   "metadata": {},
   "source": [
    "Recall that Python's __rstrip( )__ method removes, or strips, any whitespace characters from the right side of a string. <br>\n",
    "<br>\n",
    "#### -_File Paths_\n",
    "When you pass a simple filename to the __open( )__ function, Python looks in the directory where the file that's currently being executed <br>\n",
    "(your _.py_ program file) is stored. <br>\n",
    "<br>\n",
    "Sometimes, the file you want to open won't be in the same directory as your program file. To get python to open files froma directory other than <br>\n",
    "the one where your program file is stored, you need to provide a _file path_, which tells Python to look into a specific location in your system. <br>\n",
    "<br>\n",
    "A relative file path tells Python to look for a given location relative to the directory where the currently running program file is stored. For example, you'd write:"
   ]
  },
  {
   "cell_type": "code",
   "execution_count": 4,
   "id": "e33bbd79-bcc3-4b2c-8b0c-4dcd19dd941b",
   "metadata": {},
   "outputs": [
    {
     "name": "stdout",
     "output_type": "stream",
     "text": [
      "3.1415926535\n",
      "  8979323846\n",
      "  2643383279\n"
     ]
    }
   ],
   "source": [
    "with open('Resources/pi_digits.txt') as file_object:"
   ]
  },
  {
   "cell_type": "markdown",
   "id": "55f58c9c-b524-42ce-9808-c85d584e67dc",
   "metadata": {},
   "source": [
    "This line tells PYthon to look for the desired _.txt_ file in the folder _Resources_. <br>\n",
    "<br>\n",
    "You can also tell Python exactly where the file is on your computer regardless of where the program that's being executed is stored. This is <br>\n",
    "called an _absolute file path_:"
   ]
  },
  {
   "cell_type": "code",
   "execution_count": 25,
   "id": "6e243195-74db-4f12-8bb5-2cbc65725201",
   "metadata": {},
   "outputs": [
    {
     "ename": "IndentationError",
     "evalue": "expected an indented block (Temp/ipykernel_18940/2794869032.py, line 2)",
     "output_type": "error",
     "traceback": [
      "\u001b[1;36m  File \u001b[1;32m\"C:\\Users\\Alexs\\AppData\\Local\\Temp/ipykernel_18940/2794869032.py\"\u001b[1;36m, line \u001b[1;32m2\u001b[0m\n\u001b[1;33m    with open(file_path) as file_object:\u001b[0m\n\u001b[1;37m                                        ^\u001b[0m\n\u001b[1;31mIndentationError\u001b[0m\u001b[1;31m:\u001b[0m expected an indented block\n"
     ]
    }
   ],
   "source": [
    "file_path = 'C:/Users/Alexs/OneDrive/Desktop/study_material/Python_Study/Resources/pi_digits.txt'\n",
    "with open(file_path) as file_object:"
   ]
  },
  {
   "cell_type": "markdown",
   "id": "04dc5353-c3a3-4942-82c0-8dc6d4b60ab9",
   "metadata": {},
   "source": [
    "#### -_Reading Line by Line_\n",
    "When you're reading a file, you'll often want to examine each line of the file. You might be looking for a certain information in the file, or you<br>\n",
    "might want to modify the text in the file in some way. For example, you might want to read through a file of weather data and work with any line <br>\n",
    "that includes the word _sunny_ in the description of that day's weather. <br>\n",
    "<br>\n",
    "You can use a __for__ loop on the file object to examine each line from a file one at a time:"
   ]
  },
  {
   "cell_type": "code",
   "execution_count": 28,
   "id": "df3cb1a2-e910-4bde-852d-7fac52f3ff74",
   "metadata": {},
   "outputs": [
    {
     "name": "stdout",
     "output_type": "stream",
     "text": [
      "3.1415926535\n",
      "\n",
      "  8979323846\n",
      "\n",
      "  2643383279\n",
      "\n"
     ]
    }
   ],
   "source": [
    "file_path= 'Resources/pi_digits.txt'\n",
    "\n",
    "with open(file_path) as file_object:\n",
    "    for line in file_object:\n",
    "        print(line)"
   ]
  },
  {
   "cell_type": "markdown",
   "id": "5d1116b7-46a0-401a-8441-cec9d21d4a66",
   "metadata": {},
   "source": [
    "These blank lines appear because an invisible newline character is at the end of each line in the text file. The __print__ statement adds its own <br>\n",
    "newline each time we call it, so we end up with two newline characters at the end of each line: one from the file and one from the __print__ <br>\n",
    "statement. Using __rstrip( )__ on each line in the __print__ statement eliminates these extra blank lines:"
   ]
  },
  {
   "cell_type": "code",
   "execution_count": 30,
   "id": "3fe39359-6b8f-4a59-86b8-da55eb7959f6",
   "metadata": {},
   "outputs": [
    {
     "name": "stdout",
     "output_type": "stream",
     "text": [
      "3.1415926535\n",
      "  8979323846\n",
      "  2643383279\n"
     ]
    }
   ],
   "source": [
    "file_path= 'Resources/pi_digits.txt'\n",
    "\n",
    "with open(file_path) as file_object:\n",
    "    for line in file_object:\n",
    "        print(line.rstrip())"
   ]
  },
  {
   "cell_type": "markdown",
   "id": "1ae83ddc-8cd8-4548-9701-6b96734618d5",
   "metadata": {},
   "source": [
    "#### -_Making a List of Lines from a File_\n",
    "When you use __with__, the file object returned by __open( )__ is only available inside the __with__ block that contains it. If you want to retain<br>\n",
    "access to a file's content outside the __with__ block, you can store the file's lines in a list inside the block and then work with that list. <br>\n",
    "You can process parts of the file immediately and postpone some processing for later in the program. <br>\n",
    "<br>\n",
    "The following example stores the lines of _pi_digits.txt_ in a list inside the __with__ block and the prints the lines outside the __with__ block:"
   ]
  },
  {
   "cell_type": "code",
   "execution_count": 2,
   "id": "53679ce3-1480-41fc-b539-38d0debc2ea3",
   "metadata": {},
   "outputs": [
    {
     "name": "stdout",
     "output_type": "stream",
     "text": [
      "3.1415926535\n",
      "8979323846\n",
      "2643383279\n"
     ]
    }
   ],
   "source": [
    "file_path = 'Resources/pi_digits.txt'\n",
    "\n",
    "with open(file_path) as file_object:\n",
    "    lines = file_object.readlines()\n",
    "\n",
    "for line in lines:\n",
    "    print(line.strip())"
   ]
  },
  {
   "cell_type": "markdown",
   "id": "68f67ca4-e3db-46bc-9985-76627a910db1",
   "metadata": {},
   "source": [
    "The __readlines()__ method takes each line from the file and stores it in a list. This list is then stored in __lines__, which we can continue <br>\n",
    "to work with after the __with__ block ends. We use a simple __for__ loop to print each line from __lines__. <br>\n",
    "<br>\n",
    "#### -_Working with a File's Contents_\n",
    "After you've read a file into memory, you can do whatever you want with that data, so let's briefly explore the digits of _pi_. First, we'll <br>\n",
    "attempt to build a single string containing all the digits in the file with no whitespace in it:"
   ]
  },
  {
   "cell_type": "code",
   "execution_count": 1,
   "id": "03e7adfb-bb94-4cdc-928b-c2007875105d",
   "metadata": {},
   "outputs": [
    {
     "name": "stdout",
     "output_type": "stream",
     "text": [
      " 3.1415926535  8979323846  2643383279\n",
      "37\n"
     ]
    }
   ],
   "source": [
    "filename = 'Resources/pi_digits.txt'\n",
    "\n",
    "with open(filename) as file_object:\n",
    "    lines = file_object.readlines()\n",
    "\n",
    "pi_string = \" \"\n",
    "\n",
    "for line in lines:\n",
    "    pi_string += line.rstrip()\n",
    "\n",
    "print(pi_string)\n",
    "print(len(pi_string))"
   ]
  },
  {
   "cell_type": "markdown",
   "id": "09acd1cd-b577-434a-83b3-62e57170ae86",
   "metadata": {},
   "source": [
    "The variable pi_string contains the whitespace that was on the left side of the digits in each line, but we can get rid of that by using <br>\n",
    "__strip( )__ instead of __rstrip( )__:"
   ]
  },
  {
   "cell_type": "code",
   "execution_count": 3,
   "id": "c0c27d05-cacf-49fd-a238-498eb7a403b1",
   "metadata": {},
   "outputs": [
    {
     "name": "stdout",
     "output_type": "stream",
     "text": [
      " 3.141592653589793238462643383279\n",
      "33\n"
     ]
    }
   ],
   "source": [
    "file_path = \"Resources/pi_digits.txt\"\n",
    "with open(filename) as file_object:\n",
    "    lines = file_object.readlines()\n",
    "\n",
    "pi_string = \" \"\n",
    "for line in lines:\n",
    "    pi_string += line.strip()\n",
    "\n",
    "print(pi_string)\n",
    "print(len(pi_string))"
   ]
  },
  {
   "cell_type": "markdown",
   "id": "8f1479d6-e4c1-42ed-9e26-6a1966233cf9",
   "metadata": {},
   "source": [
    "#### -_Large Files: One Million Digits_\n",
    "So far we've focused on analyzing a text file that contains only three lines, but the code in these examples would just as well on much larger <br> files. Python has no inherent limit to how much data you can work with. <br>\n",
    "#### -_Is Your Birthday Contain in Pi_\n",
    "Let's use the program we just wrote to find out if someone's birthday appears anywhere in the first million digits of _pi_. We can do this by <br> \n",
    "expressing each birthday as a string of digits and seeing if that string appears anywhere in pi_string:"
   ]
  },
  {
   "cell_type": "code",
   "execution_count": 5,
   "id": "f8819705-af4e-4d5b-a938-9df34354148b",
   "metadata": {},
   "outputs": [
    {
     "name": "stdin",
     "output_type": "stream",
     "text": [
      "Enter your birthday, in the form mmddyy:  010899\n"
     ]
    },
    {
     "name": "stdout",
     "output_type": "stream",
     "text": [
      "Your birthday appears in the first million digits of pi!\n"
     ]
    }
   ],
   "source": [
    "file_path = \"Resources/pi_million_digits.txt\"\n",
    "with open(file_path) as file_object:\n",
    "    lines = file_object.readlines()\n",
    "    \n",
    "pi_string = \" \"\n",
    "for line in lines:\n",
    "    pi_string += line.strip()\n",
    "\n",
    "birthday = input(\"Enter your birthday, in the form mmddyy: \")\n",
    "if birthday in pi_string:\n",
    "    print(\"Your birthday appears in the first million digits of pi!\")\n",
    "\n",
    "else:\n",
    "    print(\"Your birthday does not appear in the first million digits of pi.\")"
   ]
  },
  {
   "cell_type": "markdown",
   "id": "e63648d9-4eab-4055-a45f-2f6313763dd4",
   "metadata": {},
   "source": [
    "***\n",
    "### Writing to a File\n",
    "One of the simplest ways to save data is to write it to a file. When you write text to a file, the output will still be available after you <br>\n",
    "close the terminal containing your program's output. You can exmine output after a program finishes running, and you can share the output files <br>\n",
    "with others as well. You can also write programs that read and text back into memory and work with it again later. <br>\n",
    "#### -_Writing an Empty File_\n",
    "To write text to file, you need to call __open( )__ with a second argument telling Python that you want to write to the file. To see how this<br>\n",
    "works let's write a simple message and store it in a file instead of priting it to the screen:"
   ]
  },
  {
   "cell_type": "code",
   "execution_count": 8,
   "id": "de1e9f3d-d400-4f6d-90dc-bb008c4bd1df",
   "metadata": {},
   "outputs": [],
   "source": [
    "file_name = 'Resources/programming.txt.'\n",
    "with open(file_name, 'w') as file_object:\n",
    "    file_object.write(\"I love programming.\")"
   ]
  },
  {
   "cell_type": "markdown",
   "id": "cb72ed29-2041-414c-a526-dff9053a5a7e",
   "metadata": {},
   "source": [
    "The call to __open( )__ in this example has two arguments. The first argument is still the name of the file we want to open. The second argument <br>\n",
    "'w' tells Python that we want to open the file in _write mode_. You can open a file in _read mode_ ('r'), _write mode_ ('w'), _append mode_ ('a')<br>\n",
    "or a mode that allows you to read and write to the file ('r+'). If you omit the mode argument Python opens the file in read-only mode by default. <br>\n",
    "<br>\n",
    "The __open( )__ function automatically creates the file you're writing to if it doesn't already exist. However, be careful opening a file in the <br>\n",
    "write mode ('w') because if the file does exist, Python will erase the file before returning the file object. <br>\n",
    "<br>\n",
    "We use the __write( )__ method on the file object to write a string to the file. <br>\n",
    "<br>\n",
    ">Note Python can only write strings to a text file. If you want to store numerical data in a text file, you'll have to convert the data to string<br>\n",
    "format first using the str( ) function. <br>\n",
    "<br>\n",
    "#### -_Writing Multiple Lines_\n",
    "The __write( )__ function doesn't add any newlines to the text you write. So if you write more than one line without including newlines <br>\n",
    "characters, your file may not look the way you want it to:"
   ]
  },
  {
   "cell_type": "code",
   "execution_count": 16,
   "id": "639c5818-1fdf-4982-9ad2-1dcf9d9ed69d",
   "metadata": {},
   "outputs": [],
   "source": [
    "filename = 'Resources/programming.txt'\n",
    "with open(filename, 'w') as file_object:\n",
    "    file_object.write(\"I love programming.\")\n",
    "    file_object.write(\"\\nI love creating new games.\")"
   ]
  },
  {
   "cell_type": "markdown",
   "id": "eddd3af3-ebb5-4917-98af-4089993e9215",
   "metadata": {},
   "source": [
    "If we open _programming.txt_, you'll see the two lines squished together. <br>\n",
    "> I love programming.I love creating new games. <br>\n",
    "<br>\n",
    "\n",
    "Including the newlines in your __write( )__ statenents makes each string appear on its own line:\n",
    "> I love programming. <br>\n",
    "> I love creating new games. <br>\n",
    "<br>\n",
    "\n",
    "You can also use spaces, tab characters, and blank lines to format your output, just as you've been doing with the terminal-based output."
   ]
  },
  {
   "cell_type": "code",
   "execution_count": null,
   "id": "c8353e6f-9bbb-45d6-a948-0ca0c100dbe8",
   "metadata": {},
   "outputs": [],
   "source": []
  }
 ],
 "metadata": {
  "kernelspec": {
   "display_name": "Python 3 (ipykernel)",
   "language": "python",
   "name": "python3"
  },
  "language_info": {
   "codemirror_mode": {
    "name": "ipython",
    "version": 3
   },
   "file_extension": ".py",
   "mimetype": "text/x-python",
   "name": "python",
   "nbconvert_exporter": "python",
   "pygments_lexer": "ipython3",
   "version": "3.9.7"
  }
 },
 "nbformat": 4,
 "nbformat_minor": 5
}
