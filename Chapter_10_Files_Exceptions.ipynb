{
 "cells": [
  {
   "cell_type": "markdown",
   "id": "080e81bb-4d27-47bd-a9a0-e0057fbe7cf4",
   "metadata": {},
   "source": [
    "### Chapter 10 Files and Exceptions\n",
    "_In this chapter you'll learn to work with files so your programs can quickly analyze lots of data_ <br>\n",
    "<br>\n",
    "You'll learn about _exceptons_, which are special objects, Python creates to manage errors that arise while a program is running. You'll also <br>\n",
    "learn about the json module, which allows you to save user data so it isn't lost when your program stops running.<br>\n",
    "<br>\n",
    "Learning to work with files and save data will make your programs easier for people to use.<br>\n",
    "\n",
    "*** \n",
    "### Reading from a File\n",
    "To begin, we need a file with a few lines of text in it. Let's start with a file that contains _pi_ to 30 decimal places with 10 decimal places <br>\n",
    "per line:"
   ]
  },
  {
   "cell_type": "code",
   "execution_count": 2,
   "id": "ace00111-3316-474c-b7ee-71656ae66b98",
   "metadata": {},
   "outputs": [
    {
     "data": {
      "text/plain": [
       "2643383279"
      ]
     },
     "execution_count": 2,
     "metadata": {},
     "output_type": "execute_result"
    }
   ],
   "source": [
    "#pi_digits.txt\n",
    "3.1415926535\n",
    "8979323846\n",
    "2643383279"
   ]
  },
  {
   "cell_type": "markdown",
   "id": "110a91c7-19f3-41b0-a3c1-c7aee87b4a49",
   "metadata": {},
   "source": [
    "Here's a program that opens this file, reads it, and prints the contents of the file to the screen:"
   ]
  },
  {
   "cell_type": "code",
   "execution_count": 1,
   "id": "17c6759e-a9a3-434e-a59c-0bff21225360",
   "metadata": {},
   "outputs": [],
   "source": [
    "with open('pi_digits.txt') as file_object:\n",
    "    contents = file_object.read()\n",
    "    print(contents)"
   ]
  },
  {
   "cell_type": "markdown",
   "id": "6441b0ea-947d-497c-99cc-7971cf94ca6f",
   "metadata": {},
   "source": [
    "To do any wortk with a file, even just printing its contents, you first need to _open_ the file to access it. The __open( )__ function needs one<br> argument: the name of the file you want to open. Python looks for this file in the directory where the program that's currently being exeuted is<br> stored. The __open( )__ function returns an object representing the file. <br>\n",
    "<br>\n",
    "The keyword __with__ closes the file once access to it is no longer needed. Notice How we call __open( )__ in this program but not __close( )__.<br>\n",
    "You could open and close the file by calling __oepn( )__ and __close( )__, but if a bug in your program prevents the __close( )__ statement from <br>\n",
    "being executed, the file may never close. This may seem trivial, but improperly closed files can cause data to be lost or corrupted. And if you <br>\n",
    "call __close( )__ state too early in your program, you'll find yourself trying to work with a _closed_ file (a file you can't access), which leads to more errors. <br>\n",
    "<br>\n",
    "The blank line appears because __read( )__ returns an empty string when it reaches the end of the file; this empty string shows up as blank line.<br>\n",
    "If you want to remove the extra blank line, you can use __rstrip( )__ in the __print__ statement."
   ]
  },
  {
   "cell_type": "code",
   "execution_count": null,
   "id": "dc3b1a8b-18fb-4cb5-a62e-117048d56299",
   "metadata": {},
   "outputs": [],
   "source": [
    "with open('pi_digits.txt') as file_object:\n",
    "    contents = file_object.read()\n",
    "    print(contents.rstrip())"
   ]
  },
  {
   "cell_type": "markdown",
   "id": "42006b23-f730-49b4-9f3d-c3cb7d6b0e60",
   "metadata": {},
   "source": [
    "Recall that Python's __rstrip( )__ method removes, or strips, any whitespace characters from the right side of a string. <br>\n",
    "<br>\n",
    "#### -_File Paths_\n",
    "When you pass a simple filename to the __open( )__ function, Python looks in the directory where the file that's currently being executed <br>\n",
    "(your _.py_ program file) is stored. <br>\n",
    "<br>\n",
    "Sometimes, the file you want to open won't be in the same directory as your program file. To get python to open files froma directory other than <br>\n",
    "the one where your program file is stored, you need to provide a _file path_, which tells Python to look into a specific location in your system. <br>\n",
    "<br>\n",
    "A relative file path tells Python to look for a given location relative to the directory where the currently running program file is stored. For example, you'd write:"
   ]
  },
  {
   "cell_type": "code",
   "execution_count": 4,
   "id": "e33bbd79-bcc3-4b2c-8b0c-4dcd19dd941b",
   "metadata": {},
   "outputs": [
    {
     "name": "stdout",
     "output_type": "stream",
     "text": [
      "3.1415926535\n",
      "  8979323846\n",
      "  2643383279\n"
     ]
    }
   ],
   "source": [
    "with open('Resources/pi_digits.txt') as file_object:"
   ]
  },
  {
   "cell_type": "markdown",
   "id": "55f58c9c-b524-42ce-9808-c85d584e67dc",
   "metadata": {},
   "source": [
    "This line tells PYthon to look for the desired _.txt_ file in the folder _Resources_. <br>\n",
    "<br>\n",
    "You can also tell Python exactly where the file is on your computer regardless of where the program that's being executed is stored. This is <br>\n",
    "called an _absolute file path_:"
   ]
  },
  {
   "cell_type": "code",
   "execution_count": 25,
   "id": "6e243195-74db-4f12-8bb5-2cbc65725201",
   "metadata": {},
   "outputs": [
    {
     "ename": "IndentationError",
     "evalue": "expected an indented block (Temp/ipykernel_18940/2794869032.py, line 2)",
     "output_type": "error",
     "traceback": [
      "\u001b[1;36m  File \u001b[1;32m\"C:\\Users\\Alexs\\AppData\\Local\\Temp/ipykernel_18940/2794869032.py\"\u001b[1;36m, line \u001b[1;32m2\u001b[0m\n\u001b[1;33m    with open(file_path) as file_object:\u001b[0m\n\u001b[1;37m                                        ^\u001b[0m\n\u001b[1;31mIndentationError\u001b[0m\u001b[1;31m:\u001b[0m expected an indented block\n"
     ]
    }
   ],
   "source": [
    "file_path = 'C:/Users/Alexs/OneDrive/Desktop/study_material/Python_Study/Resources/pi_digits.txt'\n",
    "with open(file_path) as file_object:"
   ]
  },
  {
   "cell_type": "markdown",
   "id": "04dc5353-c3a3-4942-82c0-8dc6d4b60ab9",
   "metadata": {},
   "source": [
    "#### -_Reading Line by Line_\n",
    "When you're reading a file, you'll often want to examine each line of the file. You might be looking for a certain information in the file, or you<br>\n",
    "might want to modify the text in the file in some way. For example, you might want to read through a file of weather data and work with any line <br>\n",
    "that includes the word _sunny_ in the description of that day's weather. <br>\n",
    "<br>\n",
    "You can use a __for__ loop on the file object to examine each line from a file one at a time:"
   ]
  },
  {
   "cell_type": "code",
   "execution_count": 28,
   "id": "df3cb1a2-e910-4bde-852d-7fac52f3ff74",
   "metadata": {},
   "outputs": [
    {
     "name": "stdout",
     "output_type": "stream",
     "text": [
      "3.1415926535\n",
      "\n",
      "  8979323846\n",
      "\n",
      "  2643383279\n",
      "\n"
     ]
    }
   ],
   "source": [
    "file_path= 'Resources/pi_digits.txt'\n",
    "\n",
    "with open(file_path) as file_object:\n",
    "    for line in file_object:\n",
    "        print(line)"
   ]
  },
  {
   "cell_type": "markdown",
   "id": "5d1116b7-46a0-401a-8441-cec9d21d4a66",
   "metadata": {},
   "source": [
    "These blank lines appear because an invisible newline character is at the end of each line in the text file. The __print__ statement adds its own <br>\n",
    "newline each time we call it, so we end up with two newline characters at the end of each line: one from the file and one from the __print__ <br>\n",
    "statement. Using __rstrip( )__ on each line in the __print__ statement eliminates these extra blank lines:"
   ]
  },
  {
   "cell_type": "code",
   "execution_count": 30,
   "id": "3fe39359-6b8f-4a59-86b8-da55eb7959f6",
   "metadata": {},
   "outputs": [
    {
     "name": "stdout",
     "output_type": "stream",
     "text": [
      "3.1415926535\n",
      "  8979323846\n",
      "  2643383279\n"
     ]
    }
   ],
   "source": [
    "file_path= 'Resources/pi_digits.txt'\n",
    "\n",
    "with open(file_path) as file_object:\n",
    "    for line in file_object:\n",
    "        print(line.rstrip())"
   ]
  },
  {
   "cell_type": "markdown",
   "id": "1ae83ddc-8cd8-4548-9701-6b96734618d5",
   "metadata": {},
   "source": [
    "#### -_Making a List of Lines from a File_\n",
    "When you use __with__, the file object returned by __open( )__ is only available inside the __with__ block that contains it. If you want to retain<br>\n",
    "access to a file's content outside the __with__ block, you can store the file's lines in a list inside the block and then work with that list. <br>\n",
    "You can process parts of the file immediately and postpone some processing for later in the program. <br>\n",
    "<br>\n",
    "The following example stores the lines of _pi_digits.txt_ in a list inside the __with__ block and the prints the lines outside the __with__ block:"
   ]
  },
  {
   "cell_type": "code",
   "execution_count": 2,
   "id": "53679ce3-1480-41fc-b539-38d0debc2ea3",
   "metadata": {},
   "outputs": [
    {
     "name": "stdout",
     "output_type": "stream",
     "text": [
      "3.1415926535\n",
      "8979323846\n",
      "2643383279\n"
     ]
    }
   ],
   "source": [
    "file_path = 'Resources/pi_digits.txt'\n",
    "\n",
    "with open(file_path) as file_object:\n",
    "    lines = file_object.readlines()\n",
    "\n",
    "for line in lines:\n",
    "    print(line.strip())"
   ]
  },
  {
   "cell_type": "markdown",
   "id": "68f67ca4-e3db-46bc-9985-76627a910db1",
   "metadata": {},
   "source": [
    "The __readlines()__ method takes each line from the file and stores it in a list. This list is then stored in __lines__, which we can continue <br>\n",
    "to work with after the __with__ block ends. We use a simple __for__ loop to print each line from __lines__. <br>\n",
    "<br>\n",
    "#### -_Working with a File's Contents_\n",
    "After you've read a file into memory, you can do whatever you want with that data, so let's briefly explore the digits of _pi_. First, we'll <br>\n",
    "attempt to build a single string containing all the digits in the file with no whitespace in it:"
   ]
  },
  {
   "cell_type": "code",
   "execution_count": null,
   "id": "03e7adfb-bb94-4cdc-928b-c2007875105d",
   "metadata": {},
   "outputs": [],
   "source": []
  }
 ],
 "metadata": {
  "kernelspec": {
   "display_name": "Python 3 (ipykernel)",
   "language": "python",
   "name": "python3"
  },
  "language_info": {
   "codemirror_mode": {
    "name": "ipython",
    "version": 3
   },
   "file_extension": ".py",
   "mimetype": "text/x-python",
   "name": "python",
   "nbconvert_exporter": "python",
   "pygments_lexer": "ipython3",
   "version": "3.9.7"
  }
 },
 "nbformat": 4,
 "nbformat_minor": 5
}
