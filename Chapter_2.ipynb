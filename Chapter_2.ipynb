{
 "cells": [
  {
   "cell_type": "markdown",
   "id": "da0f1a42-4801-43f9-835d-0e7593d94ce4",
   "metadata": {},
   "source": [
    "# Chapter 2: Variables and Simple Data Types"
   ]
  },
  {
   "cell_type": "markdown",
   "id": "4089f3fa-461e-43b7-93c2-9842d5a4d931",
   "metadata": {},
   "source": [
    "What really happens when you run hello_world.py"
   ]
  },
  {
   "cell_type": "code",
   "execution_count": 11,
   "id": "0e7fa4c3-7c3b-486e-b5a6-60d31e242c03",
   "metadata": {},
   "outputs": [
    {
     "name": "stdout",
     "output_type": "stream",
     "text": [
      "Hello Pyton World!\n"
     ]
    }
   ],
   "source": [
    "print(\"Hello Pyton World!\")"
   ]
  },
  {
   "cell_type": "markdown",
   "id": "e2ce6b26-624c-43bb-87ce-a906b8046e69",
   "metadata": {},
   "source": [
    "***\n",
    "#### __Variables__"
   ]
  },
  {
   "cell_type": "code",
   "execution_count": 10,
   "id": "afe4607f-dfbe-4cb7-8259-64c6fd2e00cd",
   "metadata": {},
   "outputs": [
    {
     "name": "stdout",
     "output_type": "stream",
     "text": [
      "Hello Python Word!\n"
     ]
    }
   ],
   "source": [
    "message = \"Hello Python Word!\"\n",
    "print(message)"
   ]
  },
  {
   "cell_type": "markdown",
   "id": "264c6e17-318b-47e0-9e88-c4caca039e65",
   "metadata": {},
   "source": [
    "We get the same output but we've added a _variable_ named message. Now lets add a blank line to the code and then add two new lines of code:"
   ]
  },
  {
   "cell_type": "code",
   "execution_count": 9,
   "id": "ee219338-0270-43ac-b0e4-91639cef5b38",
   "metadata": {},
   "outputs": [
    {
     "name": "stdout",
     "output_type": "stream",
     "text": [
      "Hello Python World!\n",
      "Hello Crash Course world!\n"
     ]
    }
   ],
   "source": [
    "message = \"Hello Python World!\"\n",
    "print(message)\n",
    "\n",
    "message = \"Hello Crash Course world!\"\n",
    "print(message)"
   ]
  },
  {
   "cell_type": "markdown",
   "id": "fdb4e4eb-5128-45af-b927-bcc66f0ecb59",
   "metadata": {},
   "source": [
    "You can change the value of a variable in your program at any time, Python will always keep track of its current value."
   ]
  },
  {
   "cell_type": "markdown",
   "id": "991ed275-16ce-458b-aa8f-142caa3d9917",
   "metadata": {},
   "source": [
    "***\n",
    "#### __Naming and Using Variables__"
   ]
  },
  {
   "cell_type": "markdown",
   "id": "59c20cac-5942-4f3b-9472-1c11d9ea61d1",
   "metadata": {},
   "source": [
    "A few rules and guidelines to using variables.\n",
    " - Variable names can contain only letters, numbers and underscores. They can't start with a number.\n",
    " - Spaces are not allowed in variable names.\n",
    " - Avoid using Python keywords abd function names as variable names.\n",
    " - Variables names should be short but descriptive.\n",
    " - Be careful of using lowercase letter \"l\" abd uppercase letter \"O\".\n"
   ]
  },
  {
   "cell_type": "markdown",
   "id": "2e766710-4e7b-4f73-92ea-1b2bde72a858",
   "metadata": {},
   "source": [
    "*** \n",
    "#### __Strings__"
   ]
  },
  {
   "cell_type": "code",
   "execution_count": null,
   "id": "93c23aba-a78d-4ebe-87de-572b6dafce67",
   "metadata": {},
   "outputs": [],
   "source": []
  }
 ],
 "metadata": {
  "kernelspec": {
   "display_name": "Python 3 (ipykernel)",
   "language": "python",
   "name": "python3"
  },
  "language_info": {
   "codemirror_mode": {
    "name": "ipython",
    "version": 3
   },
   "file_extension": ".py",
   "mimetype": "text/x-python",
   "name": "python",
   "nbconvert_exporter": "python",
   "pygments_lexer": "ipython3",
   "version": "3.9.7"
  }
 },
 "nbformat": 4,
 "nbformat_minor": 5
}
