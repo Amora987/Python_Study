{
 "cells": [
  {
   "cell_type": "markdown",
   "id": "13ab202d-678d-4ea3-a236-ef9629234f06",
   "metadata": {},
   "source": [
    "### Chapter 9 Classes\n",
    "In object-oriented programming you write classes that represent real-world things and situations, and you <br>\n",
    "create _objects_ based on these classes. When you write a class, you define the general behavior that a whole <br>\n",
    "category of objects can have. <br>\n",
    "\n",
    "Making an object from a class is called instantiation, and you work with _instances_ of a class. In this chapter <br>\n",
    "you'll write classes and create instances of those classes. You'll specify the kind of information that can be stored <br>\n",
    "in instances, and you'll define actions that can be taken with these instances.\n",
    "***\n",
    "### Creating and Using a Class\n",
    "Let's start by writing a simple class, Dog, that represents a dog - not one dog in particular, but any dog. What <br>\n",
    "do we know about most pet dogs? Well they all have a name and age. We also know that most dogs sit and roll over. <br>\n",
    "Those two pieces of information (name and age) and those two behaviors (sit and roll over) will go in our Dog class <br>\n",
    "because they're common to most dogs. This class will tell Python how to make an object representing a dog. After our <br>\n",
    "class is written, we'll use it to make individual instances, each of which represents one specific dog. <br>\n",
    "\n",
    "#### -_Creating the Dog Class_\n",
    "Each instance created from the Dog class will store a name and an age, and we'll give each dog the ability to sit( ) and<br>\n",
    "and roll_over( ):"
   ]
  },
  {
   "cell_type": "code",
   "execution_count": 1,
   "id": "f8a52a21-209d-4b91-b75a-efce10e78d65",
   "metadata": {},
   "outputs": [],
   "source": [
    "class Dog():\n",
    "    # A simple attempt to model a dog.\n",
    "    \n",
    "    def __init__(self, name, age):\n",
    "        # Initialize name and age attributes.\n",
    "        self.name = name\n",
    "        self.age = age\n",
    "    \n",
    "    def sit(self):\n",
    "        #Simulate a dog sitting in response to a command.\n",
    "        print(self.name.title() + \" is now sitting.\")\n",
    "    \n",
    "    def roll_over(self):\n",
    "        # Simulate rolling over in response to a commond.\n",
    "        print(self.name.title() + \" rolled over!\")"
   ]
  },
  {
   "cell_type": "markdown",
   "id": "45754c14-ad6f-4f3a-a13b-62e692bf0cda",
   "metadata": {},
   "source": [
    "1. Define a class called Dog. By convention, capitalized names refer to classes in Python.\n",
    "2. Write a docstring describing what this class does. <br>\n",
    "\n",
    "<br>\n",
    "The __init__( ) Method:\n",
    "<br>\n",
    "A function that's part of a class is a _method_. The __init__( ) method is a special method Python runs automatically <br>\n",
    "whenever we create a new instance based on the Dog class.<br>\n",
    "<br>\n",
    "We define the __init__( ) method to have three parameters: self, name, and age. The self parameter is required in the <br>\n",
    "method definition, and it must come first before the other parameters. It must be included in the definition because when <br>\n",
    "Python calls this __init__( ) method later (to create an instance of Dog), the method call will automatically pass the self <br>\n",
    "argument. <br>\n",
    "<br>\n",
    "The two variables defined each have the prefix self. Any variable prefixed with self is available to every method in the class, <br>\n",
    "and we'll also be able to access these variables through any instance created from the class. Variables that are accessible <br>\n",
    "through instances like this are called attributes. <br>\n",
    "<br>\n",
    "The Dog class has two other methods defined: sit( ) and roll_over( ). Because these methods dont need additional information like<br>\n",
    "a name or age, we just define them to have one parameter, self. For now, sit( ) and roll_over( ) don't do much."
   ]
  },
  {
   "cell_type": "markdown",
   "id": "76793c30-80a3-4b3a-80cf-fdda79becc5a",
   "metadata": {},
   "source": [
    "#### -_Making an Instance from a Class_\n",
    "Think of a class as set of instructions for how to make an instance. The class Dog is a set of instructions that tells Python <br>\n",
    "how to make individual instances representing specific dogs. <br>\n",
    "Let's make an instance representing a specific dog:"
   ]
  },
  {
   "cell_type": "code",
   "execution_count": 1,
   "id": "0d8758ce-fc2b-478b-a369-21b924302053",
   "metadata": {},
   "outputs": [
    {
     "name": "stdout",
     "output_type": "stream",
     "text": [
      "My dog's name is Willie.\n",
      "My dog is 6 years old.\n"
     ]
    }
   ],
   "source": [
    "class Dog():\n",
    "    # A simple attempt to model a dog.\n",
    "    \n",
    "    def __init__(self, name, age):\n",
    "        # Initialize name and age attributes.\n",
    "        self.name = name\n",
    "        self.age = age\n",
    "    \n",
    "    def sit(self):\n",
    "        #Simulate a dog sitting in response to a command.\n",
    "        print(self.name.title() + \" is now sitting.\")\n",
    "    \n",
    "    def roll_over(self):\n",
    "        # Simulate rolling over in response to a commond.\n",
    "        print(self.name.title() + \" rolled over!\")\n",
    "        \n",
    "my_dog = Dog('willie', 6)\n",
    "print(\"My dog's name is \" + my_dog.name.title() + \".\")\n",
    "print(\"My dog is \" + str(my_dog.age) + \" years old.\")"
   ]
  },
  {
   "cell_type": "markdown",
   "id": "254dc2ff-4426-4aa9-b95e-0f447a74dd13",
   "metadata": {},
   "source": [
    "We store the instance in the variable my_dog. The naming convention is helpful here: we can usually assume that a capitalized <br>\n",
    "name like Dog refers to a class and a lowercase name like my_dog refers to a single instance created from a class.<br>\n",
    "<br>\n",
    "__Accessing Attributes__ <br>\n",
    "To access the attributes of an instance, you use a dot notation. We access the value of my_dog's attribute name by writing:<br>\n",
    "> my_dog.name <br>\n",
    "\n",
    "Dot notation is used often in Python. This syntax demonstrates how Python finds an attribute's value. <br>\n",
    "<br>\n",
    "__Calling Methods__ <br>\n",
    "After we create an instance from the class Dog, we can use dot notation to call any method defined in Dog. <br>\n",
    "Let's make our dog sit and roll over:"
   ]
  },
  {
   "cell_type": "code",
   "execution_count": 2,
   "id": "34ab079a-66e5-487e-af43-15e555ca99b8",
   "metadata": {},
   "outputs": [
    {
     "name": "stdout",
     "output_type": "stream",
     "text": [
      "Willie is now sitting.\n",
      "Willie rolled over!\n"
     ]
    }
   ],
   "source": [
    "class Dog():\n",
    "    # A simple attempt to model a dog.\n",
    "    \n",
    "    def __init__(self, name, age):\n",
    "        # Initialize name and age attributes.\n",
    "        self.name = name\n",
    "        self.age = age\n",
    "    \n",
    "    def sit(self):\n",
    "        #Simulate a dog sitting in response to a command.\n",
    "        print(self.name.title() + \" is now sitting.\")\n",
    "    \n",
    "    def roll_over(self):\n",
    "        # Simulate rolling over in response to a commond.\n",
    "        print(self.name.title() + \" rolled over!\")\n",
    "        \n",
    "my_dog = Dog('willie', 6)\n",
    "\n",
    "my_dog.sit()\n",
    "my_dog.roll_over()"
   ]
  },
  {
   "cell_type": "markdown",
   "id": "3d879807-36f5-4413-8799-979ed1b49579",
   "metadata": {},
   "source": [
    "To call a method, give the name of the instance (in this case, __my_dog__) and the method you want to call, <br>\n",
    "seperated by a dot. When Python reads my_dog.sit(), it looks for the method sit() in the class Dog and runs <br>\n",
    "that code. Python interprets the line my_dog.roll_over() in the same way. <br>\n",
    "\n",
    "__Creating Multiple Instances__ <br>\n",
    "You can create as many instances from a class as you need. Let's create a second dog called your_dog:"
   ]
  },
  {
   "cell_type": "code",
   "execution_count": 4,
   "id": "570a7331-d6af-41b1-a7bf-ba6cf07d3d34",
   "metadata": {},
   "outputs": [
    {
     "name": "stdout",
     "output_type": "stream",
     "text": [
      "My dog's name is  Willie.\n",
      "My dog is 6 years old.\n",
      "Willie is now sitting.\n",
      "\n",
      "Your dog's name is Lucy.\n",
      "Your dog is 3 years  old.\n",
      "Lucy is now sitting.\n"
     ]
    }
   ],
   "source": [
    "class Dog():\n",
    "    # A simple attempt to model a dog.\n",
    "    \n",
    "    def __init__(self, name, age):\n",
    "        # Initialize name and age attributes.\n",
    "        self.name = name\n",
    "        self.age = age\n",
    "    \n",
    "    def sit(self):\n",
    "        #Simulate a dog sitting in response to a command.\n",
    "        print(self.name.title() + \" is now sitting.\")\n",
    "    \n",
    "    def roll_over(self):\n",
    "        # Simulate rolling over in response to a commond.\n",
    "        print(self.name.title() + \" rolled over!\")\n",
    "        \n",
    "my_dog = Dog('willie', 6)\n",
    "your_dog = Dog('lucy', 3)\n",
    "\n",
    "print(\"My dog's name is  \" + my_dog.name.title() + \".\")\n",
    "print(\"My dog is \" + str(my_dog.age) + \" years old.\")\n",
    "my_dog.sit()\n",
    "print(\"\\nYour dog's name is \" + your_dog.name.title() + \".\")\n",
    "print(\"Your dog is \" + str(your_dog.age) + \" years  old.\")\n",
    "your_dog.sit()"
   ]
  },
  {
   "cell_type": "markdown",
   "id": "16043a96-0df9-4829-a8d5-73a5a7fbebc3",
   "metadata": {},
   "source": [
    "Each dog is a seperate instance with its own set of attributes, capable of the same set of actions. <br>\n",
    "<br>\n",
    "***\n",
    "### Working with Classes and Instances\n",
    "You can use classes to represent many real-world situations. One of the first tasks you'll want to do <br>\n",
    "is modify the attributes associated with a particular instance. You can modify the attributes of an instance <br>\n",
    "directly or write methods that update attributes in specific ways. <br>\n",
    "<br>\n",
    "__Car Class__ <br>\n",
    "Let's write a new class representing a car. Our class will store information about the kind of car we're working <br>\n",
    "with, and it will have a method that summarizes this information:"
   ]
  },
  {
   "cell_type": "code",
   "execution_count": 5,
   "id": "54fc2802-efca-46c6-ba05-e87daef1b44c",
   "metadata": {},
   "outputs": [
    {
     "name": "stdout",
     "output_type": "stream",
     "text": [
      "2016 Audi A4\n"
     ]
    }
   ],
   "source": [
    "class Car():\n",
    "    # A simple attempt to represent a car.\n",
    "    def __init__(self, make, model, year):\n",
    "        #Initialize attributes to describe a car.\n",
    "        self.make = make\n",
    "        self.model = model\n",
    "        self.year = year\n",
    "    def get_descriptive_name(self):\n",
    "        #Return a neatly formatted descriptive name\n",
    "        long_name = str(self.year) + \" \" + self.make + \" \" + self.model\n",
    "        return long_name.title()\n",
    "\n",
    "my_new_car = Car(\"audi\", \"a4\", 2016)\n",
    "print(my_new_car.get_descriptive_name())"
   ]
  },
  {
   "cell_type": "markdown",
   "id": "7d235c3a-718e-4252-9526-f0a4b8b8b13a",
   "metadata": {},
   "source": [
    "To make the class more interesting, let's add an attribute that changes over time. We'll add an attribute <br>\n",
    "that stores the car's overall mileage. <br>\n",
    "#### -_Setting a Default Value for an Attribute_\n",
    "Every attribute in a class needs an initial value, even if that value is 0 or an empty string. In some cases <br>\n",
    "when setting a default value, it makes sense to specify this initial value in the body of the __init__() method; <br>\n",
    "if you do this for an attribute, you don't have to include a parameter for that attribute. <br>\n",
    "<br>\n",
    "Let's add an attribute called __odometer_reading__ that always starts with a value of 0. We'll also add a method <br>\n",
    "__read_odometer__ that helps us read each car's odometer:"
   ]
  },
  {
   "cell_type": "code",
   "execution_count": 7,
   "id": "d2ef48f5-7bac-4258-8e8f-b5f9751314b6",
   "metadata": {},
   "outputs": [
    {
     "name": "stdout",
     "output_type": "stream",
     "text": [
      "2016 Audi A4\n",
      "This car has 0 miles on it.\n"
     ]
    }
   ],
   "source": [
    "class Car():\n",
    "    # A simple attempt to represent a car.\n",
    "    def __init__(self, make, model, year):\n",
    "        #Initialize attributes to describe a car.\n",
    "        self.make = make\n",
    "        self.model = model\n",
    "        self.year = year\n",
    "        self.odometer_reading = 0\n",
    "    def get_descriptive_name(self):\n",
    "        #Return a neatly formatted descriptive name\n",
    "        long_name = str(self.year) + \" \" + self.make + \" \" + self.model\n",
    "        return long_name.title()\n",
    "    def read_odometer(self):\n",
    "        #Print a statement showing the car's mileage.\n",
    "        print(\"This car has \" + str(self.odometer_reading) + \" miles on it.\")\n",
    "\n",
    "my_new_car = Car(\"audi\", \"a4\", 2016)\n",
    "print(my_new_car.get_descriptive_name())\n",
    "my_new_car.read_odometer()\n"
   ]
  },
  {
   "cell_type": "markdown",
   "id": "d53cafd0-c213-45c9-bbb1-04c849412467",
   "metadata": {},
   "source": [
    "Not many cars are sold with exactly 0 miles on the odometer, so we need a way to change the value of <br>\n",
    "this attribute.<br>\n",
    "\n",
    "#### -_Modifying Attribute Values_\n",
    "You can change an attribute's value in three ways: you can change the value directly through an instance, <br>\n",
    "set the value through a method, or increment the value (add a cert amount to it) through a method. <br>\n",
    "<br>\n",
    "__Modifying an Attribute's Value Directly__ <br>\n",
    "The simplest way to modify the value of an attribute is to access the attribute directly through an instance. <br>\n",
    "Here we set the odometer reading to directly:"
   ]
  },
  {
   "cell_type": "code",
   "execution_count": 8,
   "id": "bd69d7a3-d3cb-410e-b942-3f1f5893d5ea",
   "metadata": {},
   "outputs": [
    {
     "name": "stdout",
     "output_type": "stream",
     "text": [
      "2016 Audi A4\n",
      "This car has 23 miles on it.\n"
     ]
    }
   ],
   "source": [
    "class Car():\n",
    "    # A simple attempt to represent a car.\n",
    "    def __init__(self, make, model, year):\n",
    "        #Initialize attributes to describe a car.\n",
    "        self.make = make\n",
    "        self.model = model\n",
    "        self.year = year\n",
    "        self.odometer_reading = 0\n",
    "    def get_descriptive_name(self):\n",
    "        #Return a neatly formatted descriptive name\n",
    "        long_name = str(self.year) + \" \" + self.make + \" \" + self.model\n",
    "        return long_name.title()\n",
    "    def read_odometer(self):\n",
    "        #Print a statement showing the car's mileage.\n",
    "        print(\"This car has \" + str(self.odometer_reading) + \" miles on it.\")\n",
    "\n",
    "my_new_car = Car(\"audi\", \"a4\", 2016)\n",
    "print(my_new_car.get_descriptive_name())\n",
    "my_new_car.odometer_reading = 23\n",
    "my_new_car.read_odometer()"
   ]
  },
  {
   "cell_type": "markdown",
   "id": "31e06974-2684-469f-8748-89ad8c8c9b3c",
   "metadata": {},
   "source": [
    "__Modifying an Attribute's Value Through a Method__ <br>\n",
    "It can be helpful to have methods that update certain attributes for you. Instead of accessing the attribute directly, <br> \n",
    "you pass the new value to a method that handles the updateing internally."
   ]
  },
  {
   "cell_type": "code",
   "execution_count": 14,
   "id": "25b08100-d918-4ce0-a488-604f8ac7dcb9",
   "metadata": {},
   "outputs": [
    {
     "name": "stdout",
     "output_type": "stream",
     "text": [
      "2016 Audi A4\n",
      "This car has 23 miles on it.\n"
     ]
    }
   ],
   "source": [
    "class Car():\n",
    "    # A simple attempt to represent a car.\n",
    "    def __init__(self, make, model, year):\n",
    "        #Initialize attributes to describe a car.\n",
    "        self.make = make\n",
    "        self.model = model\n",
    "        self.year = year\n",
    "        self.odometer_reading = 0\n",
    "        \n",
    "    def get_descriptive_name(self):\n",
    "        #Return a neatly formatted descriptive name\n",
    "        long_name = str(self.year) + \" \" + self.make + \" \" + self.model\n",
    "        return long_name.title()\n",
    "    \n",
    "    def update_odometer(self, mileage):\n",
    "        #Set the odometer reading to the given value.\n",
    "        self.odometer_reading = mileage\n",
    "        \n",
    "    def read_odometer(self):\n",
    "        #Print a statement showing the car's mileage.\n",
    "        print(\"This car has \" + str(self.odometer_reading) + \" miles on it.\")\n",
    "\n",
    "my_new_car = Car(\"audi\", \"a4\", 2016)\n",
    "print(my_new_car.get_descriptive_name())\n",
    "my_new_car.update_odometer(23)\n",
    "my_new_car.read_odometer()"
   ]
  },
  {
   "cell_type": "markdown",
   "id": "85dae96f-ffc8-4a68-bb61-d4ead828ecc6",
   "metadata": {},
   "source": [
    "We can extend the method __update_odometer()__ to do additional work every time the odometer reading is modified. Let's add <br>\n",
    "a little logic to make sure no one tries to roll back the odometer reading:"
   ]
  },
  {
   "cell_type": "code",
   "execution_count": 20,
   "id": "dbe912e5-2fb4-4c35-8f5c-d57012805466",
   "metadata": {},
   "outputs": [
    {
     "name": "stdout",
     "output_type": "stream",
     "text": [
      "2016 Audi A4\n",
      "This car has 23 miles on it.\n"
     ]
    }
   ],
   "source": [
    "class Car():\n",
    "    # A simple attempt to represent a car.\n",
    "    def __init__(self, make, model, year):\n",
    "        #Initialize attributes to describe a car.\n",
    "        self.make = make\n",
    "        self.model = model\n",
    "        self.year = year\n",
    "        self.odometer_reading = 0\n",
    "        \n",
    "    def get_descriptive_name(self):\n",
    "        #Return a neatly formatted descriptive name\n",
    "        long_name = str(self.year) + \" \" + self.make + \" \" + self.model\n",
    "        return long_name.title()\n",
    "    \n",
    "    def update_odometer(self, mileage):\n",
    "        #Set the odometer reading to the given value.\n",
    "        #Reject the change if it attempts to roll the odometer back.\n",
    "        if mileage >= self.odometer_reading:\n",
    "            self.odometer_reading = mileage\n",
    "        else:\n",
    "            print(\"You can't roll back an odometer!\")\n",
    "    def read_odometer(self):\n",
    "        #Print a statement showing the car's mileage.\n",
    "        print(\"This car has \" + str(self.odometer_reading) + \" miles on it.\")\n",
    "\n",
    "my_new_car = Car(\"audi\", \"a4\", 2016)\n",
    "print(my_new_car.get_descriptive_name())\n",
    "my_new_car.update_odometer(23)\n",
    "my_new_car.read_odometer()"
   ]
  },
  {
   "cell_type": "markdown",
   "id": "369db0eb-05cf-4626-8461-e3cda41786b1",
   "metadata": {},
   "source": [
    "__Incrementing an Attribute's Value Through a Method__ <br>\n",
    "Sometimes you'll want to increment an attribute's value by a certain amount rather than set an entirely new value. Here's a <br>\n",
    "method that allows us to pass this incremental amount and add that value to the odometer reading:"
   ]
  },
  {
   "cell_type": "code",
   "execution_count": 21,
   "id": "a08ff94c-6a35-4dcd-a198-458b4b0d0e70",
   "metadata": {},
   "outputs": [
    {
     "name": "stdout",
     "output_type": "stream",
     "text": [
      "2016 Audi A4\n",
      "This car has 23500 miles on it.\n",
      "This car has 23600 miles on it.\n"
     ]
    }
   ],
   "source": [
    "class Car():\n",
    "    # A simple attempt to represent a car.\n",
    "    def __init__(self, make, model, year):\n",
    "        #Initialize attributes to describe a car.\n",
    "        self.make = make\n",
    "        self.model = model\n",
    "        self.year = year\n",
    "        self.odometer_reading = 0\n",
    "        \n",
    "    def get_descriptive_name(self):\n",
    "        #Return a neatly formatted descriptive name\n",
    "        long_name = str(self.year) + \" \" + self.make + \" \" + self.model\n",
    "        return long_name.title()\n",
    "    \n",
    "    def update_odometer(self, mileage):\n",
    "        #Set the odometer reading to the given value.\n",
    "        self.odometer_reading = mileage\n",
    "        \n",
    "    def read_odometer(self):\n",
    "        #Print a statement showing the car's mileage.\n",
    "        print(\"This car has \" + str(self.odometer_reading) + \" miles on it.\")\n",
    "    \n",
    "    def increment_odometer(self, miles):\n",
    "        #Add the give amount to the odometer reading\n",
    "        self.odometer_reading += miles\n",
    "\n",
    "my_used_car = Car(\"subaru\", \"outback\", 2013)\n",
    "print(my_new_car.get_descriptive_name())\n",
    "my_used_car.update_odometer(23500)\n",
    "my_used_car.read_odometer()\n",
    "my_used_car.increment_odometer(100)\n",
    "my_used_car.read_odometer()"
   ]
  },
  {
   "cell_type": "markdown",
   "id": "ec83e7cd-f1f2-4615-891a-33a2d7a84510",
   "metadata": {},
   "source": [
    "You can easily modify this method to reject negative increments so no one uses this function to roll back on odometer: <br>"
   ]
  },
  {
   "cell_type": "code",
   "execution_count": 24,
   "id": "8ccfb411-96f8-4109-9d94-df66ceabf500",
   "metadata": {},
   "outputs": [
    {
     "name": "stdout",
     "output_type": "stream",
     "text": [
      "2016 Audi A4\n",
      "This car has 23500 miles on it.\n",
      "This car has 23600 miles on it.\n"
     ]
    }
   ],
   "source": [
    "class Car():\n",
    "    # A simple attempt to represent a car.\n",
    "    def __init__(self, make, model, year):\n",
    "        #Initialize attributes to describe a car.\n",
    "        self.make = make\n",
    "        self.model = model\n",
    "        self.year = year\n",
    "        self.odometer_reading = 0\n",
    "        \n",
    "    def get_descriptive_name(self):\n",
    "        #Return a neatly formatted descriptive name\n",
    "        long_name = str(self.year) + \" \" + self.make + \" \" + self.model\n",
    "        return long_name.title()\n",
    "    \n",
    "    def update_odometer(self, mileage):\n",
    "        #Set the odometer reading to the given value.\n",
    "        self.odometer_reading = mileage\n",
    "        \n",
    "    def read_odometer(self):\n",
    "        #Print a statement showing the car's mileage.\n",
    "        print(\"This car has \" + str(self.odometer_reading) + \" miles on it.\")\n",
    "    \n",
    "    def increment_odometer(self, miles):\n",
    "        if miles >= 0:\n",
    "            #Add the give amount to the odometer reading\n",
    "            self.odometer_reading += miles\n",
    "        else:\n",
    "            print(\"No negative numbers\")\n",
    "\n",
    "my_used_car = Car(\"subaru\", \"outback\", 2013)\n",
    "print(my_new_car.get_descriptive_name())\n",
    "my_used_car.update_odometer(23500)\n",
    "my_used_car.read_odometer()\n",
    "my_used_car.increment_odometer(100)\n",
    "my_used_car.read_odometer()"
   ]
  },
  {
   "cell_type": "markdown",
   "id": "adc17f43-9e26-4c73-b788-1cafb47a12d0",
   "metadata": {},
   "source": [
    "***\n",
    "### Inheritance\n",
    "If the class you're writing is a specialized version of another class you wrote, you can use _inheritance_. When one class <br>\n",
    "_inherits_ from another, it automatically takes on all attributes and methods of the first class. The original class is called <br>\n",
    "the _parent class_, and the new class is the _child_class_. The child class inherits every attribute and the method from its parent <br>\n",
    "class but is also free to define new attributes and methods on its own.<br>\n",
    "\n",
    "#### -_The __ init __ ( ) Method for A Child Class_\n",
    "The first task Python has when creating an instance from a child class is to assign values to all attributes in the parent class. To do <br>\n",
    "this, the __ int __ ( ) method for a child class needs help from its parent class. <br>\n",
    "<br>\n",
    "Let's start by making a simple version of the ElectricCar class, which does everything the Car class does:"
   ]
  },
  {
   "cell_type": "code",
   "execution_count": 25,
   "id": "0267c02a-b9fd-406b-aab7-8a84612cbdff",
   "metadata": {},
   "outputs": [
    {
     "name": "stdout",
     "output_type": "stream",
     "text": [
      "2016 Tesla Model S\n"
     ]
    }
   ],
   "source": [
    "class Car():\n",
    "    # A simple attempt to represent a car.\n",
    "    def __init__(self, make, model, year):\n",
    "        #Initialize attributes to describe a car.\n",
    "        self.make = make\n",
    "        self.model = model\n",
    "        self.year = year\n",
    "        self.odometer_reading = 0\n",
    "        \n",
    "    def get_descriptive_name(self):\n",
    "        #Return a neatly formatted descriptive name\n",
    "        long_name = str(self.year) + \" \" + self.make + \" \" + self.model\n",
    "        return long_name.title()\n",
    "    \n",
    "    def update_odometer(self, mileage):\n",
    "        #Set the odometer reading to the given value.\n",
    "        #Reject the change if it attempts to roll the odometer back.\n",
    "        if mileage >= self.odometer_reading:\n",
    "            self.odometer_reading = mileage\n",
    "        else:\n",
    "            print(\"You can't roll back an odometer!\")\n",
    "    def read_odometer(self):\n",
    "        #Print a statement showing the car's mileage.\n",
    "        print(\"This car has \" + str(self.odometer_reading) + \" miles on it.\")\n",
    "    def increment_odometer(self, miles):\n",
    "        if miles >= 0:\n",
    "            #Add the give amount to the odometer reading\n",
    "            self.odometer_reading += miles\n",
    "        else:\n",
    "            print(\"No negative numbers\")\n",
    "class ElectricCar(Car):\n",
    "    #Represents aspects of a car, specific to electric vehicles.\n",
    "    def __init__(self, make, model, year):\n",
    "        #initialize attributes of the parent class.\n",
    "        super().__init__(make, model, year)\n",
    "my_tesla = ElectricCar(\"tesla\", \"model s\", 2016)\n",
    "print(my_tesla.get_descriptive_name())"
   ]
  },
  {
   "cell_type": "markdown",
   "id": "945ea9d5-2588-4f17-ad2b-4cbfac7d871e",
   "metadata": {},
   "source": [
    "> 1. When you create a child class, the parent class must be part of the current file and must appear before the child class <br>\n",
    "   in the file. <br>\n",
    "> 2. The name of the parent class must be included in the parentheses in the definition of the child class. \n",
    "> 3. The __ int __ ( ) method takes in the information required to make a Car instance.\n",
    "> 4. The super( ) function is a special function that helps Python make connections between the parent and child class. <br>\n",
    "\n",
    "\n",
    "The ElectricCar instance works just like an instance of Car, so now we can begin defining attributes and methods specific to electric cars. <br>"
   ]
  },
  {
   "cell_type": "markdown",
   "id": "216f2aef-0a0f-4349-9e90-b32b706eb0df",
   "metadata": {},
   "source": [
    "#### -_Defining Attributes and Methods for the Child Class_\n",
    "Once you have a child class that inherits from a parent class, you can add any new attributes and methods necessary to differentiate <br>\n",
    "the child class from the parent class.<br>\n",
    "<br>\n",
    "We'll store the battery size and write a method that prints a description of the battery:"
   ]
  },
  {
   "cell_type": "code",
   "execution_count": 27,
   "id": "6b279899-9f71-42bc-9b05-1800e574f1c4",
   "metadata": {},
   "outputs": [
    {
     "name": "stdout",
     "output_type": "stream",
     "text": [
      "2016 Tesla Model S\n",
      "This car has a 70-kWh battery.\n"
     ]
    }
   ],
   "source": [
    "class Car():\n",
    "    # A simple attempt to represent a car.\n",
    "    def __init__(self, make, model, year):\n",
    "        #Initialize attributes to describe a car.\n",
    "        self.make = make\n",
    "        self.model = model\n",
    "        self.year = year\n",
    "        self.odometer_reading = 0\n",
    "        \n",
    "    def get_descriptive_name(self):\n",
    "        #Return a neatly formatted descriptive name\n",
    "        long_name = str(self.year) + \" \" + self.make + \" \" + self.model\n",
    "        return long_name.title()\n",
    "    \n",
    "    def update_odometer(self, mileage):\n",
    "        #Set the odometer reading to the given value.\n",
    "        #Reject the change if it attempts to roll the odometer back.\n",
    "        if mileage >= self.odometer_reading:\n",
    "            self.odometer_reading = mileage\n",
    "        else:\n",
    "            print(\"You can't roll back an odometer!\")\n",
    "    def read_odometer(self):\n",
    "        #Print a statement showing the car's mileage.\n",
    "        print(\"This car has \" + str(self.odometer_reading) + \" miles on it.\")\n",
    "    def increment_odometer(self, miles):\n",
    "        if miles >= 0:\n",
    "            #Add the give amount to the odometer reading\n",
    "            self.odometer_reading += miles\n",
    "        else:\n",
    "            print(\"No negative numbers\")\n",
    "class ElectricCar(Car):\n",
    "    #Represents aspects of a car, specific to electric vehicles.\n",
    "    def __init__(self, make, model, year):\n",
    "        #initialize attributes of the parent class.\n",
    "        super().__init__(make, model, year)\n",
    "        self.battery_size = 70\n",
    "    \n",
    "    def describe_batter(self):\n",
    "        #Print a statement describing the battery size.\n",
    "        print(\"This car has a \" + str(self.battery_size) + \"-kWh battery.\")\n",
    "my_tesla = ElectricCar(\"tesla\", \"model s\", 2016)\n",
    "print(my_tesla.get_descriptive_name())\n",
    "my_tesla.describe_batter()"
   ]
  },
  {
   "cell_type": "markdown",
   "id": "ad455398-e6c3-49fd-b11f-c01075b7ffa4",
   "metadata": {},
   "source": [
    "#### -_Overriding Methods from the Parent Class_\n",
    "You can override any method from the parent class that doesn't fit what you're trying to model with the child class. To do <br>\n",
    "this, you define a method in the child class with the same name as the method you want to override in the parent class. Python will <br>\n",
    "disregard the parent class method and only pay attention to the method you define in the child class. <br>\n",
    "<br>\n",
    "Say the class Car had a method called fil_gas_tank(). This method is meaningless for an all-electric vehicle, so you might want to override <br>\n",
    "this method:"
   ]
  },
  {
   "cell_type": "code",
   "execution_count": 28,
   "id": "024303e5-de8e-44cc-bdf8-6fd2813991db",
   "metadata": {},
   "outputs": [],
   "source": [
    "class ElectricCar(Car): \n",
    "    # --snip--\n",
    "    def fill_gas_tank(self):\n",
    "        #Electric cars don't have a gas tank.\n",
    "        print(\"This car doesn't need a gas tank!\")"
   ]
  },
  {
   "cell_type": "markdown",
   "id": "f0524040-1b01-4a52-8663-8731cb30168b",
   "metadata": {},
   "source": [
    "Now if someone tries to call fill_gas_tank with an electric car, Python will ignore the method fill_gas_tank() in Car and run the <br>\n",
    "the code isntead. <br>\n",
    "<br>\n",
    "#### -_Instances as Attributes_\n",
    "When modeling something from a real world in code, you may find that you're adding more and more detail to a class. You'll find that you <br>\n",
    "have a growing list of attributes and methods and that your files are becoming lengthy. In these situations, you might recognize that part <br>\n",
    "of one class can be written as a seperate class. You can break your large class into smaller classes that work together."
   ]
  },
  {
   "cell_type": "code",
   "execution_count": 1,
   "id": "a92891ae-5476-4820-8faf-e71d9d06662a",
   "metadata": {},
   "outputs": [
    {
     "name": "stdout",
     "output_type": "stream",
     "text": [
      "2016 Tesla Model S\n",
      "This car has a 70-kWh battery.\n"
     ]
    }
   ],
   "source": [
    "class Car():\n",
    "    # A simple attempt to represent a car.\n",
    "    def __init__(self, make, model, year):\n",
    "        #Initialize attributes to describe a car.\n",
    "        self.make = make\n",
    "        self.model = model\n",
    "        self.year = year\n",
    "        self.odometer_reading = 0\n",
    "        \n",
    "    def get_descriptive_name(self):\n",
    "        #Return a neatly formatted descriptive name\n",
    "        long_name = str(self.year) + \" \" + self.make + \" \" + self.model\n",
    "        return long_name.title()\n",
    "    \n",
    "    def update_odometer(self, mileage):\n",
    "        #Set the odometer reading to the given value.\n",
    "        #Reject the change if it attempts to roll the odometer back.\n",
    "        if mileage >= self.odometer_reading:\n",
    "            self.odometer_reading = mileage\n",
    "        else:\n",
    "            print(\"You can't roll back an odometer!\")\n",
    "    def read_odometer(self):\n",
    "        #Print a statement showing the car's mileage.\n",
    "        print(\"This car has \" + str(self.odometer_reading) + \" miles on it.\")\n",
    "    def increment_odometer(self, miles):\n",
    "        if miles >= 0:\n",
    "            #Add the give amount to the odometer reading\n",
    "            self.odometer_reading += miles\n",
    "        else:\n",
    "            print(\"No negative numbers\")\n",
    "class Battery():\n",
    "    #A simple attempt to model a battery for an electric car.\n",
    "    def __init__(self, battery_size = 70):\n",
    "        #A simple attempt to model a battery for an electric car.\n",
    "        self.battery_size = battery_size\n",
    "    def describe_battery(self):\n",
    "        #Print a statement describing the battery size\n",
    "        print(\"This car has a \" + str(self.battery_size) + \"-kWh battery.\")\n",
    "\n",
    "class ElectricCar(Car):\n",
    "    def __init__(self, make, model, year):\n",
    "        #Initialize attributes of parent class.\n",
    "        #Then initialize attributes specific to an electric car.\n",
    "        super().__init__(make, model, year)\n",
    "        self.battery = Battery()\n",
    "\n",
    "my_tesla = ElectricCar(\"tesla\", \"model s\", 2016)\n",
    "\n",
    "print(my_tesla.get_descriptive_name())\n",
    "my_tesla.battery.describe_battery()\n",
    "            "
   ]
  },
  {
   "cell_type": "markdown",
   "id": "b16ccb62-ae66-41b4-93eb-9cc059263613",
   "metadata": {},
   "source": [
    "> 1. We define a new class called Battery that doesn't inherit from any other class.\n",
    "> 2. The __ int __ ( ) method has one parameter, battery_size, in addition to self.\n",
    "> 3. This is an optional parameter that sets the battery's size to 70 if no value is provided.\n",
    "> 4. In the ElectricCar class, we now add an attribute called self.battery"
   ]
  },
  {
   "cell_type": "markdown",
   "id": "1b65275c-e0e5-4aae-802c-c411d33ec93b",
   "metadata": {},
   "source": [
    "Let's add another method to Battery that reports the range of the car based on the battery size:"
   ]
  },
  {
   "cell_type": "code",
   "execution_count": 2,
   "id": "4ca69039-417c-4d96-9df8-51bb063c88a0",
   "metadata": {},
   "outputs": [
    {
     "name": "stdout",
     "output_type": "stream",
     "text": [
      "2016 Tesla Model S\n",
      "This car has a 70-kWh battery.\n",
      "This car can go approximately 240 miles on a full charge.\n"
     ]
    }
   ],
   "source": [
    "class Car():\n",
    "    # A simple attempt to represent a car.\n",
    "    def __init__(self, make, model, year):\n",
    "        #Initialize attributes to describe a car.\n",
    "        self.make = make\n",
    "        self.model = model\n",
    "        self.year = year\n",
    "        self.odometer_reading = 0\n",
    "        \n",
    "    def get_descriptive_name(self):\n",
    "        #Return a neatly formatted descriptive name\n",
    "        long_name = str(self.year) + \" \" + self.make + \" \" + self.model\n",
    "        return long_name.title()\n",
    "    \n",
    "    def update_odometer(self, mileage):\n",
    "        #Set the odometer reading to the given value.\n",
    "        #Reject the change if it attempts to roll the odometer back.\n",
    "        if mileage >= self.odometer_reading:\n",
    "            self.odometer_reading = mileage\n",
    "        else:\n",
    "            print(\"You can't roll back an odometer!\")\n",
    "    def read_odometer(self):\n",
    "        #Print a statement showing the car's mileage.\n",
    "        print(\"This car has \" + str(self.odometer_reading) + \" miles on it.\")\n",
    "    def increment_odometer(self, miles):\n",
    "        if miles >= 0:\n",
    "            #Add the give amount to the odometer reading\n",
    "            self.odometer_reading += miles\n",
    "        else:\n",
    "            print(\"No negative numbers\")\n",
    "class Battery():\n",
    "    #A simple attempt to model a battery for an electric car.\n",
    "    def __init__(self, battery_size = 70):\n",
    "        #A simple attempt to model a battery for an electric car.\n",
    "        self.battery_size = battery_size\n",
    "    def describe_battery(self):\n",
    "        #Print a statement describing the battery size\n",
    "        print(\"This car has a \" + str(self.battery_size) + \"-kWh battery.\")\n",
    "    def get_range(self):\n",
    "        #Print a statement about the range this battery provides.\n",
    "        if self.battery_size == 70:\n",
    "            range = 240\n",
    "        elif self.battery_size == 85:\n",
    "            range = 270\n",
    "        message = \"This car can go approximately \" + str(range)\n",
    "        message += \" miles on a full charge.\"\n",
    "        print(message)\n",
    "\n",
    "class ElectricCar(Car):\n",
    "    def __init__(self, make, model, year):\n",
    "        #Initialize attributes of parent class.\n",
    "        #Then initialize attributes specific to an electric car.\n",
    "        super().__init__(make, model, year)\n",
    "        self.battery = Battery()\n",
    "\n",
    "my_tesla = ElectricCar(\"tesla\", \"model s\", 2016)\n",
    "\n",
    "print(my_tesla.get_descriptive_name())\n",
    "my_tesla.battery.describe_battery()\n",
    "my_tesla.battery.get_range()            "
   ]
  },
  {
   "cell_type": "markdown",
   "id": "edef5e29-2b46-444e-80c1-1287a863d66c",
   "metadata": {},
   "source": [
    "#### -_Modeling Real-World Objects_\n",
    "As you begin to model more complicated items like electric cars, you'll wrestle with interesting questions. Is the range of an electric car a property of the <br>\n",
    "battery or of the car? If we're only describing one car, it's probably fine to maintain the association of the method get_range() with the Battery class. But <br>\n",
    "if we're describing a manufacturer's entire line of cars, we probably want to move get_range( ) to the ElectricCar class. \n",
    "***\n",
    "### Importing Classes\n",
    "Python lets you store classes in modules and then import the classes you need into your main program. <br>\n",
    "<br>\n",
    "#### -_Importing a Single Class_\n",
    "Let's create a module containing just the Car class. This brings up a subtle naming issue: we already have a file named _car.py_ in this chapter, but this module <br>\n",
    "should be named _car.py_ because it contains code representing a car. Here's _car.py_ with just the code from the class Car:"
   ]
  },
  {
   "cell_type": "code",
   "execution_count": 3,
   "id": "6a0392a7-1bb1-403d-a4a9-a6a0642764da",
   "metadata": {},
   "outputs": [],
   "source": [
    "# Car.py A class that can be used to represent a car.\n",
    "class Car():\n",
    "    #A simple attempt to represent a car.\n",
    "    def __init__(self, make, model, year):\n",
    "        #Initialize attributes to describe a car.\n",
    "        self.make = make\n",
    "        self.model = model\n",
    "        self.year =  year\n",
    "        self.odometer_reading = 0\n",
    "    \n",
    "    def get_descriptive_name(self):\n",
    "        #Return a neatly formatted descriptive name.\n",
    "        long_name = str(self.year) + \" \" + self.make + \" \" + self.model\n",
    "        return long_name.title()\n",
    "    \n",
    "    def read_odometer(self):\n",
    "        #Print a statement showing the car's mileage\n",
    "        print(\"This car has \" + str(self.odometer_reading) + \" miles on it.\")\n",
    "    \n",
    "    def update_odometer(self, mileage):\n",
    "        #Set the odometer reading to the given value\n",
    "        #Reject the change if it attempts to roll the odometer back.\n",
    "        if mileage >= self.odometer_reading:\n",
    "            self.odometer_reading = mileage\n",
    "        else:\n",
    "            print(\"You can't roll back an odometer!\")\n",
    "    def increment_odometer(self, miles):\n",
    "        #Add the given amount to the odometer reading\n",
    "        self.odometer_reading += miles"
   ]
  },
  {
   "cell_type": "markdown",
   "id": "e17573ab-d1f3-40a7-adad-c6a731ab0bc0",
   "metadata": {},
   "source": [
    "Include a module-level docstring that briefly describes the contents of this module. <br>\n",
    "<br>\n",
    "Make a seperate file called _my_car.py_. This file will import the Car class and then create an instance from that class:"
   ]
  },
  {
   "cell_type": "code",
   "execution_count": null,
   "id": "5feafabf-0a59-4448-a4f4-fe2936282c4a",
   "metadata": {},
   "outputs": [],
   "source": [
    "from car import Car\n",
    "\n",
    "my_new_car = Car(\"audi\", \"a4\", 2016)\n",
    "print(my_new_car.get_descriptive_name())\n",
    "\n",
    "my_new_car.odometer_reading = 23\n",
    "my_new_car.read_odometer()"
   ]
  },
  {
   "cell_type": "markdown",
   "id": "6fe6a482-ce09-4cf8-b3d9-996977015e43",
   "metadata": {},
   "source": [
    "#### -_Storing Multiple Classes in a Module_\n",
    "You can store as many classes as you need in a single module, although each class in a module should be related somehow. <br>\n",
    "#### -_Importing Multiple Classes from a Module_\n",
    "You can import as many classes as you need into a program file. If we want to make a regular car and an electric car in the same file, we need to import both classes, <br>\n",
    "Car, and ElectricCar:"
   ]
  },
  {
   "cell_type": "code",
   "execution_count": null,
   "id": "646ebb4b-29a3-468e-afdf-fc07a24e10c5",
   "metadata": {},
   "outputs": [],
   "source": [
    "from car import Car, ElectricCar\n",
    "\n",
    "my_beetle = Car(\"volkswagen\", \"beetle\", 2016)\n",
    "print(my_beetle.get_descriptive_name())\n",
    "\n",
    "my_tesla = ElectricCar(\"tesla\", \"roadster\", 2016)\n",
    "print(my_tesla.get_descriptive_name())"
   ]
  },
  {
   "cell_type": "markdown",
   "id": "bdde71c8-8bbf-4273-98dd-9287c26a5d01",
   "metadata": {},
   "source": []
  }
 ],
 "metadata": {
  "kernelspec": {
   "display_name": "Python 3 (ipykernel)",
   "language": "python",
   "name": "python3"
  },
  "language_info": {
   "codemirror_mode": {
    "name": "ipython",
    "version": 3
   },
   "file_extension": ".py",
   "mimetype": "text/x-python",
   "name": "python",
   "nbconvert_exporter": "python",
   "pygments_lexer": "ipython3",
   "version": "3.9.7"
  }
 },
 "nbformat": 4,
 "nbformat_minor": 5
}
