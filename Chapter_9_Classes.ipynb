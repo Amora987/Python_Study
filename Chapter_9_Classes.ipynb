{
 "cells": [
  {
   "cell_type": "markdown",
   "id": "13ab202d-678d-4ea3-a236-ef9629234f06",
   "metadata": {},
   "source": [
    "### Chapter 9 Classes\n",
    "In object-oriented programming you write classes that represent real-world things and situations, and you <br>\n",
    "create _objects_ based on these classes. When you write a class, you define the general behavior that a whole <br>\n",
    "category of objects can have. <br>\n",
    "\n",
    "Making an object from a class is called instantiation, and you work with _instances_ of a class. In this chapter <br>\n",
    "you'll write classes and create instances of those classes. You'll specify the kind of information that can be stored <br>\n",
    "in instances, and you'll define actions that can be taken with these instances.\n",
    "***\n",
    "### Creating and Using a Class\n",
    "Let's start by writing a simple class, Dog, that represents a dog - not one dog in particular, but any dog. What <br>\n",
    "do we know about most pet dogs? Well they all have a name and age. We also know that most dogs sit and roll over. <br>\n",
    "Those two pieces of information (name and age) and those two behaviors (sit and roll over) will go in our Dog class <br>\n",
    "because they're common to most dogs. This class will tell Python how to make an object representing a dog. After our <br>\n",
    "class is written, we'll use it to make individual instances, each of which represents one specific dog. <br>\n",
    "\n",
    "#### -_Creating the Dog Class_\n",
    "Each instance created from the Dog class will store a name and an age, and we'll give each dog the ability to sit( ) and<br>\n",
    "and roll_over( ):"
   ]
  },
  {
   "cell_type": "code",
   "execution_count": 1,
   "id": "f8a52a21-209d-4b91-b75a-efce10e78d65",
   "metadata": {},
   "outputs": [],
   "source": [
    "class Dog():\n",
    "    # A simple attempt to model a dog.\n",
    "    \n",
    "    def __init__(self, name, age):\n",
    "        # Initialize name and age attributes.\n",
    "        self.name = name\n",
    "        self.age = age\n",
    "    \n",
    "    def sit(self):\n",
    "        #Simulate a dog sitting in response to a command.\n",
    "        print(self.name.title() + \" is now sitting.\")\n",
    "    \n",
    "    def roll_over(self):\n",
    "        # Simulate rolling over in response to a commond.\n",
    "        print(self.name.title() + \" rolled over!\")"
   ]
  },
  {
   "cell_type": "markdown",
   "id": "45754c14-ad6f-4f3a-a13b-62e692bf0cda",
   "metadata": {},
   "source": [
    "1. Define a class called Dog. By convention, capitalized names refer to classes in Python.\n",
    "2. Write a docstring describing what this class does. <br>\n",
    "\n",
    "<br>\n",
    "The __init__( ) Method:\n",
    "<br>\n",
    "A function that's part of a class is a _method_. The __init__( ) method is a special method Python runs automatically <br>\n",
    "whenever we create a new instance based on the Dog class.<br>\n",
    "<br>\n",
    "We define the __init__( ) method to have three parameters: self, name, and age. The self parameter is required in the <br>\n",
    "method definition, and it must come first before the other parameters. It must be included in the definition because when <br>\n",
    "Python calls this __init__( ) method later (to create an instance of Dog), the method call will automatically pass the self <br>\n",
    "argument. <br>\n",
    "<br>\n",
    "The two variables defined each have the prefix self. Any variable prefixed with self is available to every method in the class, <br>\n",
    "and we'll also be able to access these variables through any instance created from the class. Variables that are accessible <br>\n",
    "through instances like this are called attributes."
   ]
  },
  {
   "cell_type": "markdown",
   "id": "76793c30-80a3-4b3a-80cf-fdda79becc5a",
   "metadata": {},
   "source": [
    "The Dog class has two other methods defined: sit( ) and roll_over( ). "
   ]
  }
 ],
 "metadata": {
  "kernelspec": {
   "display_name": "Python 3 (ipykernel)",
   "language": "python",
   "name": "python3"
  },
  "language_info": {
   "codemirror_mode": {
    "name": "ipython",
    "version": 3
   },
   "file_extension": ".py",
   "mimetype": "text/x-python",
   "name": "python",
   "nbconvert_exporter": "python",
   "pygments_lexer": "ipython3",
   "version": "3.9.7"
  }
 },
 "nbformat": 4,
 "nbformat_minor": 5
}
