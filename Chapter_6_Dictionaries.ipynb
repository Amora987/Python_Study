{
 "cells": [
  {
   "cell_type": "markdown",
   "id": "3f38470c-c985-46e6-8481-61566902863f",
   "metadata": {},
   "source": [
    "### Chapter 6 Dictionaries\n",
    "Understading dictionaries allows you to model a variety of real-world objects more accurately. You'll be able to store any two kinds of <br>\n",
    "information that can be matched up, as such as a list of words and their meanings, a list of people's naes and their favorite numbers, a list <br>\n",
    "of mountains and their elevations, and so forth."
   ]
  },
  {
   "cell_type": "markdown",
   "id": "3dae2617-40bb-47ea-ac1b-37910f4c48f7",
   "metadata": {},
   "source": [
    "***\n",
    "#### A Simple Dictionary \n",
    "Consider a game featuring aliens that can have different colors and point values. This simple dictionary stores information about a <br>\n",
    "particular alien:"
   ]
  },
  {
   "cell_type": "code",
   "execution_count": 7,
   "id": "dc9d1c04-e5cb-454a-b370-c6e54b0d424e",
   "metadata": {},
   "outputs": [
    {
     "name": "stdout",
     "output_type": "stream",
     "text": [
      "green\n",
      "5\n"
     ]
    }
   ],
   "source": [
    "alien_0 = {'color': 'green', 'points': 5}\n",
    "print(alien_0['color'])\n",
    "print(alien_0['points'])"
   ]
  },
  {
   "cell_type": "markdown",
   "id": "f260285d-6812-4c1b-8c89-07c6cd0264cc",
   "metadata": {},
   "source": [
    "The dictionary alien_0 stores the alien's color and point value. <br>\n",
    "<br>\n",
    "***\n",
    "#### Working with Dictionaries\n",
    "A _dictionary_ in Python is a collection of _key-value pairs_. Each _key_ is connected to a value, and you can use a key to access the value <br>\n",
    "associated with that key. A key's value can be a number, string, list, or even another dictionary. A dictionary is wrapped in braces, { }, with <br>\n",
    "a series of key value pairs inside the braces. <br>\n",
    "<br>\n",
    "\n",
    "#### -_Accessing Valuesin a Dictionary_\n",
    "To get the value associated with a key, give the name of the dictionary and then place the key inside a set of square brackets, as shown here:"
   ]
  },
  {
   "cell_type": "code",
   "execution_count": 8,
   "id": "16aceb4b-1a63-4893-9c9c-962d976c78fb",
   "metadata": {},
   "outputs": [
    {
     "name": "stdout",
     "output_type": "stream",
     "text": [
      "green\n"
     ]
    }
   ],
   "source": [
    "alien_0 = {'color':'green'}\n",
    "print(alien_0['color'])"
   ]
  },
  {
   "cell_type": "markdown",
   "id": "3e303901-0553-4457-a1e3-6b98789e0d7d",
   "metadata": {},
   "source": [
    "You can have an unlimited number of key-value pairs in a dictionary."
   ]
  },
  {
   "cell_type": "code",
   "execution_count": 9,
   "id": "b9dfdddd-9952-4b5d-adee-99b0dc115a00",
   "metadata": {},
   "outputs": [
    {
     "name": "stdout",
     "output_type": "stream",
     "text": [
      "You just earned 5 points!\n"
     ]
    }
   ],
   "source": [
    "alien_0 = {'color': 'green',\n",
    "           'points': 5\n",
    "          }\n",
    "new_points = alien_0['points']\n",
    "print(\"You just earned \" + str(new_points) + \" points!\")"
   ]
  },
  {
   "cell_type": "markdown",
   "id": "2752ff51-c1aa-4dd0-9b48-d0669ea9f993",
   "metadata": {},
   "source": [
    "#### -_Adding New Key-Value Pairs_\n",
    "To add a new key-value pair, you would give the name of the dictionary followed by the new key in square brackets along with the new value.<br>\n",
    "Let's add two new pieces of information to the alien_0 dictionary: the alien's x- and y- coordinates, which will help us display the alien in <br> particular position on the screen."
   ]
  },
  {
   "cell_type": "code",
   "execution_count": 10,
   "id": "92d2db96-04da-4e09-99cc-9c3789ce961d",
   "metadata": {},
   "outputs": [
    {
     "name": "stdout",
     "output_type": "stream",
     "text": [
      "{'color': 'green', 'points': 5}\n",
      "{'color': 'green', 'points': 5, 'x_position': 0, 'y_position': 25}\n"
     ]
    }
   ],
   "source": [
    "alien_0 = {'color': 'green',\n",
    "           'points': 5\n",
    "          }\n",
    "print(alien_0)\n",
    "\n",
    "alien_0['x_position'] = 0\n",
    "alien_0['y_position'] = 25\n",
    "print(alien_0)"
   ]
  },
  {
   "cell_type": "markdown",
   "id": "7bf0cb9b-e850-4ee2-9757-8187513d8be8",
   "metadata": {},
   "source": [
    "Note: PYthon doesn't care about the order in which your store each key_value pair; it cares only about the connection between each <br>\n",
    "key and its value."
   ]
  },
  {
   "cell_type": "markdown",
   "id": "b0f46049-cc6d-4654-8d5f-5bff171ac8e1",
   "metadata": {},
   "source": [
    "#### -_Starting with an Empty Dictionary_\n",
    "It's sometimes convenient, or even necessary, to start with an empty dictionary and then add each new item to it. To start filling in an <br>\n",
    "empty dictionary, define a dictionary with an empty set of braces and then add each key-value pair on its own line. For example, here's how <br>\n",
    "to build the alien_0 dictionary using this approach:"
   ]
  },
  {
   "cell_type": "code",
   "execution_count": 11,
   "id": "ebeb9de0-a92d-4083-baf0-643843f05fb9",
   "metadata": {},
   "outputs": [
    {
     "name": "stdout",
     "output_type": "stream",
     "text": [
      "{'color': 'green', 'points': 5}\n"
     ]
    }
   ],
   "source": [
    "alien_0 = {}\n",
    "alien_0['color'] = 'green'\n",
    "alien_0['points'] = 5\n",
    "print(alien_0)"
   ]
  },
  {
   "cell_type": "markdown",
   "id": "3bbd4ad8-79cf-455e-ab09-f3a3d3029bb0",
   "metadata": {},
   "source": [
    "Typically, you'll use empty dictionaries when storing user-supplied data in a dictionary or when you write code that generates a large number <br> \n",
    "of key-value pairs automatically. <br>\n",
    "<br>\n",
    "#### -_Modifying Values in a Dictionary_\n",
    "To modify a value in a dictionary, give the name of the dictionary with the key in square brackets and then the new value you want associated <br>\n",
    "with that key. For example, consider an alien that changes fromgreen to yellow as a game progresses:"
   ]
  },
  {
   "cell_type": "code",
   "execution_count": 12,
   "id": "2ffee183-a21f-4bc1-9f09-14513a8fa8d6",
   "metadata": {},
   "outputs": [
    {
     "name": "stdout",
     "output_type": "stream",
     "text": [
      "The alien is green.\n",
      "The alien is now yellow.\n"
     ]
    }
   ],
   "source": [
    "alien_0 = {'color': 'green', 'points': 5}\n",
    "print(\"The alien is \" + alien_0['color'] + \".\")\n",
    "\n",
    "alien_0['color'] = 'yellow'\n",
    "print(\"The alien is now \" + alien_0['color'] + \".\")"
   ]
  },
  {
   "cell_type": "markdown",
   "id": "277570b1-3b3b-4817-9074-ade453056843",
   "metadata": {},
   "source": [
    "For a more intersting example, let's track the position of an alien that can move at different speeds. We'll store a value representing <br>\n",
    "the alien's current speed and then use it to determine how far to the right the alien should move:"
   ]
  },
  {
   "cell_type": "code",
   "execution_count": 13,
   "id": "2ff60f54-1341-4f1f-9abe-8e0146eec130",
   "metadata": {},
   "outputs": [
    {
     "name": "stdout",
     "output_type": "stream",
     "text": [
      "Original x-position: 0\n",
      "New x-position: 2\n"
     ]
    }
   ],
   "source": [
    "alien_0 = {'x_position':0, 'y_position': 5, 'speed': 'medium'}\n",
    "print('Original x-position: ' + str(alien_0['x_position']))\n",
    "\n",
    "# Move the alien to the right\n",
    "# Determine how far to move the alien based on its current speed.\n",
    "if alien_0['speed'] == 'slow':\n",
    "    x_increment = 1\n",
    "elif alien_0['speed'] == 'medium':\n",
    "    x_increment = 2\n",
    "else: \n",
    "    # This must be a false alien.\n",
    "    x_increment = 3\n",
    "\n",
    "# The new position is the old position plus the increment.\n",
    "alien_0['x_position'] = alien_0['x_position'] + x_increment\n",
    "\n",
    "print(\"New x-position: \" + str(alien_0['x_position']))"
   ]
  },
  {
   "cell_type": "markdown",
   "id": "e9b9724e-9822-468d-80f9-fff40e5126f3",
   "metadata": {},
   "source": [
    "This technique is pretty cool: by changing one value in the alien's dictionary, you can change the overall behavior of the alien. <br>\n",
    "<br>\n",
    "#### -_Removing Key-Value Pairs_\n",
    "When you no longer need a piece of information that's stored in a dictionary, you can use the __del__ statement to completely remove <br>\n",
    "a key-value pair. All __del__ needs is the name of the dictionary and the key that you want to remove. For example let's remove the key <br>\n",
    "'points' from the alien_0 dictionary along with its value:"
   ]
  },
  {
   "cell_type": "code",
   "execution_count": 14,
   "id": "fda840de-1da9-468a-9ae3-3acc1c9f9134",
   "metadata": {},
   "outputs": [
    {
     "name": "stdout",
     "output_type": "stream",
     "text": [
      "{'color': 'green', 'points': 5}\n",
      "{'color': 'green'}\n"
     ]
    }
   ],
   "source": [
    "alien_0 = {'color': 'green', 'points': 5}\n",
    "print(alien_0)\n",
    "\n",
    "del alien_0['points']\n",
    "print(alien_0)"
   ]
  },
  {
   "cell_type": "markdown",
   "id": "a369771e-bc4c-4f9c-afb3-cd2b8942aae2",
   "metadata": {},
   "source": [
    "Note: _Be aware that the deleted key_value pair is removed permanently._ <br>\n",
    "<br>\n",
    "#### -_A Dictionary of Similar Objects_ \n",
    "You can also use a dictionary to store one kind of information about many objects. For example, say you want to poll a number <br>\n",
    "of people and ask them what their favorite programming language is. A dictionary is usefull for storing the results of a simple poll:"
   ]
  },
  {
   "cell_type": "code",
   "execution_count": 15,
   "id": "39288e8b-b342-4c0f-b2f8-e21f70ae0b13",
   "metadata": {},
   "outputs": [
    {
     "name": "stdout",
     "output_type": "stream",
     "text": [
      "Sarah's favorite language is C.\n"
     ]
    }
   ],
   "source": [
    "favorite_languages = {'jen': 'python',\n",
    "                     'sarah': 'c',\n",
    "                     'edward':'ruby',\n",
    "                     'phil':'python',\n",
    "                    }\n",
    "print(\"Sarah's favorite language is \" + favorite_languages['sarah'].title() + \".\")"
   ]
  },
  {
   "cell_type": "markdown",
   "id": "7087ac91-0a59-40a8-a7fc-20d62f8853d6",
   "metadata": {},
   "source": [
    "***\n",
    "### Looping Through a Dictionary \n",
    "Several different ways exist to loop through them. You can loop through all of a dictionary's key-value pairs, through its keys, or through its <br>\n",
    "values. <br>\n",
    "\n",
    "#### -_Looping Through All Key-Value Pairs_ \n",
    "The following dictionary would store one person's userame, first name, and last name:"
   ]
  },
  {
   "cell_type": "code",
   "execution_count": 16,
   "id": "50382326-829e-4726-8384-d94122c134ea",
   "metadata": {},
   "outputs": [],
   "source": [
    "user_0 = {\n",
    "    'username': 'efermi',\n",
    "    'first':'enrico',\n",
    "    'last' : 'fermi',\n",
    "}"
   ]
  },
  {
   "cell_type": "markdown",
   "id": "ab8873e6-60f2-42af-923b-5bebfc271f8b",
   "metadata": {},
   "source": [
    "You can access any single piece of information about user_0 based on what you've already learned in this chapter. But what if you wanted <br>\n",
    "to see everything stored in this user's dictionary? To do so, you could loop through the dictionary using a __for__ loop:"
   ]
  },
  {
   "cell_type": "code",
   "execution_count": 17,
   "id": "5d865cb0-2405-4469-bc9c-7bae7b2f6b3d",
   "metadata": {},
   "outputs": [
    {
     "name": "stdout",
     "output_type": "stream",
     "text": [
      "\n",
      "Key: Username\n",
      "Value: Efermi\n",
      "\n",
      "Key: First\n",
      "Value: Enrico\n",
      "\n",
      "Key: Last\n",
      "Value: Fermi\n"
     ]
    }
   ],
   "source": [
    "for key, value in user_0.items():\n",
    "    print(\"\\nKey: \" + key.title())\n",
    "    print(\"Value: \" + value.title())"
   ]
  },
  {
   "cell_type": "markdown",
   "id": "2e44454a-5aa8-4366-a526-1fdfc8898cc9",
   "metadata": {},
   "source": [
    "To write a __for__ loop for a dictionary, you create names for the two variables that will hold the key and value in each key-value pair.The __for__ <br> statement includes the name of the dictionary followed by the method __items()__, which returns a list of key-value pairs. The __for__ loop then <br> stores each of these pairs in the two variables provided."
   ]
  },
  {
   "cell_type": "code",
   "execution_count": 18,
   "id": "757fb063-d843-4d71-83f5-b73a69f29d8c",
   "metadata": {},
   "outputs": [
    {
     "name": "stdout",
     "output_type": "stream",
     "text": [
      "Jen's favorite language is Python.\n",
      "Sarah's favorite language is C.\n",
      "Edward's favorite language is Ruby.\n",
      "Phil's favorite language is Python.\n"
     ]
    }
   ],
   "source": [
    "for name, language in favorite_languages.items():\n",
    "    print(name.title() + \"'s favorite language is \" + language.title() + \".\")"
   ]
  },
  {
   "cell_type": "markdown",
   "id": "ce9c9aa2-daa6-4c46-90dc-25a371e7933b",
   "metadata": {},
   "source": [
    "The key is stored in the variable __name__,and the value is stored in the variable __language__. <br>\n",
    "#### -_Looping Through All the Keys in a Dictionary_\n",
    "The keys( ) method is useful when you don't need to work with all of the values in a dictionary.\n"
   ]
  },
  {
   "cell_type": "code",
   "execution_count": 19,
   "id": "94bf2d3c-22fc-45bd-a3ea-1f3151028992",
   "metadata": {},
   "outputs": [
    {
     "name": "stdout",
     "output_type": "stream",
     "text": [
      "Jen\n",
      "Sarah\n",
      "Edward\n",
      "Phil\n"
     ]
    }
   ],
   "source": [
    "for name in favorite_languages.keys():\n",
    "    print(name.title())"
   ]
  },
  {
   "cell_type": "markdown",
   "id": "3da78f03-0cb2-4f36-a60a-c3b93804256b",
   "metadata": {},
   "source": [
    "Looping through the keys is actually the default behavior when looping through a dictionary."
   ]
  },
  {
   "cell_type": "code",
   "execution_count": 21,
   "id": "353ab248-da8c-4667-b7c9-0e0258d18b8a",
   "metadata": {},
   "outputs": [
    {
     "name": "stdout",
     "output_type": "stream",
     "text": [
      "Jen\n",
      "Sarah\n",
      "Hi Sarah, I see your favorite language is C!\n",
      "Edward\n",
      "Phil\n",
      "Hi Phil, I see your favorite language is Python!\n"
     ]
    }
   ],
   "source": [
    "friends = ['phil', 'sarah']\n",
    "for name in favorite_languages.keys():\n",
    "    print(name.title())\n",
    "    \n",
    "    if name in friends:\n",
    "        print(\"Hi \" + name.title() + \", I see your favorite language is \" + favorite_languages[name].title() + \"!\")"
   ]
  },
  {
   "cell_type": "markdown",
   "id": "e2b5df29-68bf-4ab5-8a8b-8f6628770d48",
   "metadata": {},
   "source": [
    "You can alsouse the keys( ) method to find out if a particular person was polled. This time, let's find out if Erin took the poll:"
   ]
  },
  {
   "cell_type": "code",
   "execution_count": 24,
   "id": "65087f39-2c84-4fee-9c98-e4031905c489",
   "metadata": {},
   "outputs": [
    {
     "name": "stdout",
     "output_type": "stream",
     "text": [
      "Erin, please take our poll!\n"
     ]
    }
   ],
   "source": [
    "if 'erin' not in favorite_languages.keys():\n",
    "    print(\"Erin, please take our poll!\")"
   ]
  },
  {
   "cell_type": "markdown",
   "id": "a04814eb-b998-408e-9fe5-77e9ab2cb97f",
   "metadata": {},
   "source": [
    "The keys( ) method isn't just for looping: It actually returns a list of all the keys, and the checks the list if 'erin' is in the list.<br>\n",
    "#### -_Looping Through a Dictionary's Keys in Order_\n",
    "A dictionary always maintains a clear connection between each key and its associated value, but you never get the items from a dictionary in <br>\n",
    "any predictable order. <br>\n",
    "<br>\n",
    "One way to return items in a certain order is to sort the keys as they're returned in the __for__ loop. You can use the __sorted( )__ function <br>\n",
    "to get a copy of the keys in order:"
   ]
  },
  {
   "cell_type": "code",
   "execution_count": 25,
   "id": "7d77e20b-1e8e-49b7-a48d-077e60486e00",
   "metadata": {},
   "outputs": [
    {
     "name": "stdout",
     "output_type": "stream",
     "text": [
      "Edward, thank you for taking the poll.\n",
      "Jen, thank you for taking the poll.\n",
      "Phil, thank you for taking the poll.\n",
      "Sarah, thank you for taking the poll.\n"
     ]
    }
   ],
   "source": [
    "for name in sorted(favorite_languages.keys()):\n",
    "    print(name.title() + \", thank you for taking the poll.\")"
   ]
  },
  {
   "cell_type": "markdown",
   "id": "fb3122fd-1dd5-45da-a818-35774831a0e3",
   "metadata": {},
   "source": [
    "This tells PYthon to list all keys in the dictionary and sort that list before looping through it.<br>\n",
    "#### -_Looping Through All Values in a Dictionary_\n",
    "You can use the __values( )__ method to return a list of values without any keys. For example, say we simply wanted a list of all languages <br>\n",
    "chosen in our programming language poll without the name of the person who chose each language:"
   ]
  },
  {
   "cell_type": "code",
   "execution_count": 26,
   "id": "6cab1c85-3ebe-4156-90cb-08681e5aede3",
   "metadata": {},
   "outputs": [
    {
     "name": "stdout",
     "output_type": "stream",
     "text": [
      "The following languages have been mentioned:\n",
      "Python\n",
      "C\n",
      "Ruby\n",
      "Python\n"
     ]
    }
   ],
   "source": [
    "print(\"The following languages have been mentioned:\")\n",
    "for language in favorite_languages.values():\n",
    "    print(language.title())"
   ]
  },
  {
   "cell_type": "markdown",
   "id": "c6be9202-ee58-4785-9332-1a9f0de95468",
   "metadata": {},
   "source": [
    "This approach pulls all the values from the dictionary without checking for repeats. To see each language chosen without repetition, we can use a <br>\n",
    "_set_. A set is similar to a list except that each item in the set must be unique:"
   ]
  },
  {
   "cell_type": "code",
   "execution_count": 27,
   "id": "d584fecf-7577-42c2-b48f-0d39c17742f3",
   "metadata": {},
   "outputs": [
    {
     "name": "stdout",
     "output_type": "stream",
     "text": [
      "Ruby\n",
      "Python\n",
      "C\n"
     ]
    }
   ],
   "source": [
    "for language in set(favorite_languages.values()):\n",
    "    print(language.title())"
   ]
  },
  {
   "cell_type": "markdown",
   "id": "e8af8324-b5a3-4e49-b6f1-7617320d7ba0",
   "metadata": {},
   "source": [
    "***\n",
    "### Nesting\n",
    "Storing a set of dictionaries in a list or a list of items as a value in a dictionary. This is called _nesting_. You can nest a set of <br>\n",
    "dictionaries inside a list, a list of items inside a dictionary, or even a dictionary insides another dictionary. Nesting is a powerful feature."
   ]
  },
  {
   "cell_type": "markdown",
   "id": "669f6fab-2a15-462e-a7e2-900fc00997ae",
   "metadata": {
    "tags": []
   },
   "source": [
    "#### -_A List of Dictionaries_\n",
    "The alien_0 dictionary contains a variety of information about one alien, but it has no room to store information about a second alien. <br>\n",
    "One way to make a list of aliens in which each alien is a dictionary of information about that alien. For Example:"
   ]
  },
  {
   "cell_type": "code",
   "execution_count": 1,
   "id": "5bcf6e39-4aa8-429d-9187-b0ff8ba3eba2",
   "metadata": {},
   "outputs": [
    {
     "name": "stdout",
     "output_type": "stream",
     "text": [
      "{'color': 'green', 'points': 5}\n",
      "{'color': 'yellow', 'point': 10}\n",
      "{'color': 'red', 'point': 15}\n"
     ]
    }
   ],
   "source": [
    "alien_0 = {'color':'green', 'points': 5}\n",
    "alien_1 = {'color': 'yellow', 'point': 10}\n",
    "alien_2 = {'color': 'red', 'point': 15}\n",
    "\n",
    "aliens = [alien_0, alien_1, alien_2]\n",
    "\n",
    "for alien in aliens:\n",
    "    print(alien)"
   ]
  },
  {
   "cell_type": "markdown",
   "id": "e6eaedfb-693e-4582-a196-e729a9ba80a7",
   "metadata": {},
   "source": [
    "A more realistic example would involve more than three aliens with code that automatically generates each alein. In the following example <br>\n",
    "we use range( ) to create a fleet of 30 aliens:"
   ]
  },
  {
   "cell_type": "code",
   "execution_count": 5,
   "id": "6c96baa4-caa8-49e5-a07b-7a7f9aa3283b",
   "metadata": {},
   "outputs": [
    {
     "name": "stdout",
     "output_type": "stream",
     "text": [
      "{'color': 'green', 'points': 5, 'speed': 'slow'}\n",
      "{'color': 'green', 'points': 5, 'speed': 'slow'}\n",
      "{'color': 'green', 'points': 5, 'speed': 'slow'}\n",
      "{'color': 'green', 'points': 5, 'speed': 'slow'}\n",
      "{'color': 'green', 'points': 5, 'speed': 'slow'}\n",
      "...\n",
      "Total number of aliens 30\n"
     ]
    }
   ],
   "source": [
    "#Make an empty list for storing aliens.\n",
    "aliens = []\n",
    "\n",
    "#Make 30 green aliens\n",
    "for alien_number in range(30):\n",
    "    new_alien = {'color': 'green', 'points': 5, 'speed': 'slow'}\n",
    "    aliens.append(new_alien)\n",
    "\n",
    "#show the first 5 aliens.\n",
    "for alien in aliens[:5]:\n",
    "    print(alien)\n",
    "print('...')\n",
    "\n",
    "#show how many aliens have been created\n",
    "print('Total number of aliens ' + str(len(aliens)))"
   ]
  },
  {
   "cell_type": "markdown",
   "id": "47472749-7fdc-4857-98be-f7614b5b96ff",
   "metadata": {},
   "source": [
    "The aliens all have the same characteristics, but Python considers each one a seperate object, which allows us to modify each alien individually. <br>\n",
    "Imagine that on aspect of the game has some aliens changing color and moving faster as the game progresses. When it's time to change color and <br>\n",
    "moving faster as the game progress. When it's time to change colors, we can use a __for__ loop and an __if__ statement to change the color of <br>\n",
    "aliens."
   ]
  },
  {
   "cell_type": "code",
   "execution_count": 7,
   "id": "1822bb6a-3337-46e7-adcd-b59b331dfc20",
   "metadata": {},
   "outputs": [
    {
     "name": "stdout",
     "output_type": "stream",
     "text": [
      "{'color': 'yellow', 'points': 10, 'speed': 'medium'}\n",
      "{'color': 'yellow', 'points': 10, 'speed': 'medium'}\n",
      "{'color': 'yellow', 'points': 10, 'speed': 'medium'}\n",
      "{'color': 'green', 'points': 5, 'speed': 'slow'}\n",
      "{'color': 'green', 'points': 5, 'speed': 'slow'}\n",
      "...\n",
      "Total number of aliens 30\n"
     ]
    }
   ],
   "source": [
    "#Make an empty list for storing aliens.\n",
    "aliens = []\n",
    "\n",
    "#Make 30 green aliens\n",
    "for alien_number in range(30):\n",
    "    new_alien = {'color': 'green', 'points': 5, 'speed': 'slow'}\n",
    "    aliens.append(new_alien)\n",
    "    \n",
    "for alien in aliens[0:3]:\n",
    "    if alien['color'] == 'green':\n",
    "        alien['color'] = 'yellow'\n",
    "        alien['speed'] = 'medium'\n",
    "        alien['points'] = 10\n",
    "\n",
    "#show the first 5 aliens.\n",
    "for alien in aliens[:5]:\n",
    "    print(alien)\n",
    "print('...')\n",
    "\n",
    "#show how many aliens have been created\n",
    "print('Total number of aliens ' + str(len(aliens)))"
   ]
  },
  {
   "cell_type": "markdown",
   "id": "4cde0bd5-3341-485f-93fa-74cc7d6bac16",
   "metadata": {},
   "source": [
    "You could also expand this loop by adding an __elif__ block that turns yellow aliens to red, fast-moving ones worth 15 points each. Without <br>\n",
    "showing the entire program again."
   ]
  },
  {
   "cell_type": "code",
   "execution_count": 8,
   "id": "462352fa-8a33-4373-9cd6-7237ee51b8a4",
   "metadata": {},
   "outputs": [
    {
     "name": "stdout",
     "output_type": "stream",
     "text": [
      "{'color': 'yellow', 'points': 10, 'speed': 'medium'}\n",
      "{'color': 'yellow', 'points': 10, 'speed': 'medium'}\n",
      "{'color': 'yellow', 'points': 10, 'speed': 'medium'}\n",
      "{'color': 'green', 'points': 5, 'speed': 'slow'}\n",
      "{'color': 'green', 'points': 5, 'speed': 'slow'}\n",
      "...\n",
      "Total number of aliens 30\n"
     ]
    }
   ],
   "source": [
    "#Make an empty list for storing aliens.\n",
    "aliens = []\n",
    "\n",
    "#Make 30 green aliens\n",
    "for alien_number in range(30):\n",
    "    new_alien = {'color': 'green', 'points': 5, 'speed': 'slow'}\n",
    "    aliens.append(new_alien)\n",
    "    \n",
    "for alien in aliens[0:3]:\n",
    "    if alien['color'] == 'green':\n",
    "        alien['color'] = 'yellow'\n",
    "        alien['speed'] = 'medium'\n",
    "        alien['points'] = 10\n",
    "    elif alien['color'] == 'yellow':\n",
    "        alien['color'] = 'red'\n",
    "        alien['speed'] = 'fast'\n",
    "        alien['points'] = 15\n",
    "\n",
    "#show the first 5 aliens.\n",
    "for alien in aliens[:5]:\n",
    "    print(alien)\n",
    "print('...')\n",
    "\n",
    "#show how many aliens have been created\n",
    "print('Total number of aliens ' + str(len(aliens)))"
   ]
  },
  {
   "cell_type": "markdown",
   "id": "ca980e9c-7498-48d7-8efa-22774d49f319",
   "metadata": {},
   "source": [
    "***\n",
    "#### -_A List in Dictionaries_\n",
    "Rather than putting a dictionary inside a list, it's sometime useful to put a list inside a dictionary."
   ]
  },
  {
   "cell_type": "code",
   "execution_count": 14,
   "id": "9c3970e0-844d-422d-9119-e3fd3f5b0ec3",
   "metadata": {},
   "outputs": [
    {
     "name": "stdout",
     "output_type": "stream",
     "text": [
      "You ordered a thick -crust pizza with the following toppings:\n",
      "\tmushroom\n",
      "\textra cheese\n"
     ]
    }
   ],
   "source": [
    "# Store information about a pizza being ordered\n",
    "pizza = {\n",
    "    'crust': 'thick',\n",
    "    'toppings':['mushroom', 'extra cheese']\n",
    "}\n",
    "# Summarize the order\n",
    "print(\"You ordered a \" + pizza['crust'] + \" -crust pizza \" + \"with the following toppings:\")\n",
    "\n",
    "for topping in pizza['toppings']:\n",
    "    print(\"\\t\" + topping)"
   ]
  },
  {
   "cell_type": "markdown",
   "id": "40575c3c-0909-481e-a037-ebc99ff0f5e9",
   "metadata": {},
   "source": [
    "You can nest a list inside a dictionary any time you want more than one value to be associated with a single key in a dictionary. In the earlier <br>\n",
    "example of favorite programming languages, if we were to store each peron's responses in a list, people could choose more than one favorite language. "
   ]
  },
  {
   "cell_type": "code",
   "execution_count": 15,
   "id": "c3a9819a-c97b-47fa-8be3-23741b6165f9",
   "metadata": {},
   "outputs": [
    {
     "name": "stdout",
     "output_type": "stream",
     "text": [
      "\n",
      " Jen's favorite languages are: \n",
      "\t Python\n",
      "\t Ruby\n",
      "\n",
      " Sarah's favorite languages are: \n",
      "\t C\n",
      "\n",
      " Edward's favorite languages are: \n",
      "\t Ruby\n",
      "\t Go\n",
      "\n",
      " Phil's favorite languages are: \n",
      "\t Python\n",
      "\t Haskell\n"
     ]
    }
   ],
   "source": [
    "favorite_languages = {\n",
    "    'jen': ['python', 'ruby'],\n",
    "    'sarah':['c'],\n",
    "    'edward': ['ruby','go'],\n",
    "    'phil': ['python', 'haskell'],\n",
    "}\n",
    "\n",
    "for name, languages in favorite_languages.items():\n",
    "    print(\"\\n \" + name.title() + \"'s favorite languages are: \")\n",
    "    for language in languages:\n",
    "        print(\"\\t \" + language.title())"
   ]
  },
  {
   "cell_type": "markdown",
   "id": "eea110ca-c35e-4d4a-887d-cc80764d8ecf",
   "metadata": {},
   "source": [
    "#### -_A Dictionary in a Dictionary_\n",
    "You can nest a dictionary inside another dictionary, but your code can get complicated quickly when you do. "
   ]
  },
  {
   "cell_type": "code",
   "execution_count": 18,
   "id": "4423dcc0-77ad-447b-af3b-9049be9a37ce",
   "metadata": {},
   "outputs": [
    {
     "name": "stdout",
     "output_type": "stream",
     "text": [
      "\n",
      "Username: aeinstein\n",
      "\tFull name: Albert Einstein\n",
      "\tLocation: Princeton\n",
      "\n",
      "Username: mcurie\n",
      "\tFull name: Marie Curie\n",
      "\tLocation: Paris\n"
     ]
    }
   ],
   "source": [
    "users = {\n",
    "    'aeinstein':{\n",
    "        'first': 'albert',\n",
    "        'last' : 'einstein',\n",
    "        'location': 'princeton',\n",
    "    },\n",
    "    'mcurie':{\n",
    "        'first': 'marie',\n",
    "        'last': 'curie',\n",
    "        'location': 'paris',\n",
    "    },\n",
    "}\n",
    "\n",
    "for username, user_info in users.items():\n",
    "    print(\"\\nUsername: \" + username)\n",
    "    full_name = user_info['first'] + \" \" +user_info['last']\n",
    "    location = user_info['location']\n",
    "    \n",
    "    print(\"\\tFull name: \" + full_name.title())\n",
    "    print(\"\\tLocation: \" + location.title())"
   ]
  }
 ],
 "metadata": {
  "kernelspec": {
   "display_name": "Python 3 (ipykernel)",
   "language": "python",
   "name": "python3"
  },
  "language_info": {
   "codemirror_mode": {
    "name": "ipython",
    "version": 3
   },
   "file_extension": ".py",
   "mimetype": "text/x-python",
   "name": "python",
   "nbconvert_exporter": "python",
   "pygments_lexer": "ipython3",
   "version": "3.9.7"
  }
 },
 "nbformat": 4,
 "nbformat_minor": 5
}
