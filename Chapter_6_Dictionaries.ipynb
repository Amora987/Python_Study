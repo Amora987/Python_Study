{
 "cells": [
  {
   "cell_type": "markdown",
   "id": "3f38470c-c985-46e6-8481-61566902863f",
   "metadata": {},
   "source": [
    "### Chapter 6 Dictionaries\n",
    "Understading dictionaries allows you to model a variety of real-world objects more accurately. You'll be able to store any two kinds of <br>\n",
    "information that can be matched up, as such as a list of words and their meanings, a list of people's naes and their favorite numbers, a list <br>\n",
    "of mountains and their elevations, and so forth."
   ]
  },
  {
   "cell_type": "markdown",
   "id": "3dae2617-40bb-47ea-ac1b-37910f4c48f7",
   "metadata": {},
   "source": [
    "***\n",
    "#### A Simple Dictionary \n",
    "Consider a game featuring aliens that can have different colors and point values. This simple dictionary stores information about a <br>\n",
    "particular alien:"
   ]
  },
  {
   "cell_type": "code",
   "execution_count": 2,
   "id": "dc9d1c04-e5cb-454a-b370-c6e54b0d424e",
   "metadata": {},
   "outputs": [
    {
     "name": "stdout",
     "output_type": "stream",
     "text": [
      "green\n",
      "5\n"
     ]
    }
   ],
   "source": [
    "alien_0 = {'color': 'green', 'points': 5}\n",
    "print(alien_0['color'])\n",
    "print(alien_0['points'])"
   ]
  },
  {
   "cell_type": "markdown",
   "id": "f260285d-6812-4c1b-8c89-07c6cd0264cc",
   "metadata": {},
   "source": [
    "The dictionary alien_0 stores the alien's color and point value. <br>\n",
    "<br>\n",
    "***\n",
    "#### Working with Dictionaries\n",
    "A _dictionary_ in Python is a collection of _key-value pairs_. Each _key_ is connected to a value, and you can use a key to access the value <br>\n",
    "associated with that key. A key's value can be a number, string, list, or even another dictionary. A dictionary is wrapped in braces, { }, with <br>\n",
    "a series of key value pairs inside the braces. <br>\n",
    "<br>\n",
    "\n",
    "#### -_Accessing Valuesin a Dictionary_\n",
    "To get the value associated with a key, give the name of the dictionary and then place the key inside a set of square brackets, as shown here:"
   ]
  },
  {
   "cell_type": "code",
   "execution_count": 3,
   "id": "16aceb4b-1a63-4893-9c9c-962d976c78fb",
   "metadata": {},
   "outputs": [
    {
     "name": "stdout",
     "output_type": "stream",
     "text": [
      "green\n"
     ]
    }
   ],
   "source": [
    "alien_0 = {'color':'green'}\n",
    "print(alien_0['color'])"
   ]
  },
  {
   "cell_type": "markdown",
   "id": "3e303901-0553-4457-a1e3-6b98789e0d7d",
   "metadata": {},
   "source": [
    "You can have an unlimited number of key-value pairs in a dictionary."
   ]
  },
  {
   "cell_type": "code",
   "execution_count": 4,
   "id": "b9dfdddd-9952-4b5d-adee-99b0dc115a00",
   "metadata": {},
   "outputs": [
    {
     "name": "stdout",
     "output_type": "stream",
     "text": [
      "You just earned 5 points!\n"
     ]
    }
   ],
   "source": [
    "alien_0 = {'color': 'green',\n",
    "           'points': 5\n",
    "          }\n",
    "new_points = alien_0['points']\n",
    "print(\"You just earned \" + str(new_points) + \" points!\")"
   ]
  },
  {
   "cell_type": "markdown",
   "id": "2752ff51-c1aa-4dd0-9b48-d0669ea9f993",
   "metadata": {},
   "source": [
    "#### -_Adding New Key-Value Pairs_\n",
    "To add a new key-value pair, you would give the name of the dictionary followed by the new key in square brackets along with the new value.<br>\n",
    "Let's add two new pieces of information to the alien_0 dictionary: the alien's x- and y- coordinates, which will help us display the alien in <br> particular position on the screen."
   ]
  },
  {
   "cell_type": "code",
   "execution_count": 6,
   "id": "92d2db96-04da-4e09-99cc-9c3789ce961d",
   "metadata": {},
   "outputs": [
    {
     "name": "stdout",
     "output_type": "stream",
     "text": [
      "{'color': 'green', 'points': 5}\n",
      "{'color': 'green', 'points': 5, 'x_position': 0, 'y_position': 25}\n"
     ]
    }
   ],
   "source": [
    "alien_0 = {'color': 'green',\n",
    "           'points': 5\n",
    "          }\n",
    "print(alien_0)\n",
    "\n",
    "alien_0['x_position'] = 0\n",
    "alien_0['y_position'] = 25\n",
    "print(alien_0)"
   ]
  },
  {
   "cell_type": "markdown",
   "id": "7bf0cb9b-e850-4ee2-9757-8187513d8be8",
   "metadata": {},
   "source": [
    "Note: PYthon doesn't care about the order in which your store each key_value pair; it cares only about the connection between each <br>\n",
    "key and its value."
   ]
  },
  {
   "cell_type": "markdown",
   "id": "b0f46049-cc6d-4654-8d5f-5bff171ac8e1",
   "metadata": {},
   "source": [
    "#### -_Starting with an Empty Dictionary_\n",
    "It's sometimes convenient, or even necessary, to start with an empty dictionary and then add each new item to it. To start filling in an <br>\n",
    "empty dictionary, define a dictionary with an empty set of braces and then add each key-value pair on its own line. For example, here's how <br>\n",
    "to build the alien_0 dictionary using this approach:"
   ]
  },
  {
   "cell_type": "code",
   "execution_count": 7,
   "id": "ebeb9de0-a92d-4083-baf0-643843f05fb9",
   "metadata": {},
   "outputs": [
    {
     "name": "stdout",
     "output_type": "stream",
     "text": [
      "{'color': 'green', 'points': 5}\n"
     ]
    }
   ],
   "source": [
    "alien_0 = {}\n",
    "alien_0['color'] = 'green'\n",
    "alien_0['points'] = 5\n",
    "print(alien_0)"
   ]
  },
  {
   "cell_type": "markdown",
   "id": "3bbd4ad8-79cf-455e-ab09-f3a3d3029bb0",
   "metadata": {},
   "source": [
    "Typically, you'll use empty dictionaries when storing user-supplied data in a dictionary or when you write code that generates a large number <br> \n",
    "of key-value pairs automatically. <br>\n",
    "<br>\n",
    "#### -_Modifying Values in a Dictionary_\n",
    "To modify a value in a dictionary, give the name of the dictionary with the key in square brackets and then the new value you want associated <br>\n",
    "with that key. For example, consider an alien that changes fromgreen to yellow as a game progresses:"
   ]
  },
  {
   "cell_type": "code",
   "execution_count": 8,
   "id": "2ffee183-a21f-4bc1-9f09-14513a8fa8d6",
   "metadata": {},
   "outputs": [
    {
     "name": "stdout",
     "output_type": "stream",
     "text": [
      "The alien is green.\n",
      "The alien is now yellow.\n"
     ]
    }
   ],
   "source": [
    "alien_0 = {'color': 'green', 'points': 5}\n",
    "print(\"The alien is \" + alien_0['color'] + \".\")\n",
    "\n",
    "alien_0['color'] = 'yellow'\n",
    "print(\"The alien is now \" + alien_0['color'] + \".\")"
   ]
  },
  {
   "cell_type": "markdown",
   "id": "277570b1-3b3b-4817-9074-ade453056843",
   "metadata": {},
   "source": [
    "For a more intersting example, let's track the position of an alien that can move at different speeds. We'll store a value representing <br>\n",
    "the alien's current speed and then use it to determine how far to the right the alien should move:"
   ]
  },
  {
   "cell_type": "code",
   "execution_count": 11,
   "id": "2ff60f54-1341-4f1f-9abe-8e0146eec130",
   "metadata": {},
   "outputs": [
    {
     "name": "stdout",
     "output_type": "stream",
     "text": [
      "Original x-position: 0\n",
      "New x-position: 2\n"
     ]
    }
   ],
   "source": [
    "alien_0 = {'x_position':0, 'y_position': 5, 'speed': 'medium'}\n",
    "print('Original x-position: ' + str(alien_0['x_position']))\n",
    "\n",
    "# Move the alien to the right\n",
    "# Determine how far to move the alien based on its current speed.\n",
    "if alien_0['speed'] == 'slow':\n",
    "    x_increment = 1\n",
    "elif alien_0['speed'] == 'medium':\n",
    "    x_increment = 2\n",
    "else: \n",
    "    # This must be a false alien.\n",
    "    x_increment = 3\n",
    "\n",
    "# The new position is the old position plus the increment.\n",
    "alien_0['x_position'] = alien_0['x_position'] + x_increment\n",
    "\n",
    "print(\"New x-position: \" + str(alien_0['x_position']))"
   ]
  },
  {
   "cell_type": "markdown",
   "id": "e9b9724e-9822-468d-80f9-fff40e5126f3",
   "metadata": {},
   "source": [
    "This technique is pretty cool: by changing one value in the alien's dictionary, you can change the overall behavior of the alien. <br>\n",
    "<br>\n",
    "#### -_Removing Key-Value Pairs_\n",
    "When you no longer need a piece of information that's stored in a dictionary, you can use the __del__ statement to completely remove <br>\n",
    "a key-value pair. All __del__ needs is the name of the dictionary and the key that you want to remove. For example let's remove the key <br>\n",
    "'points' from the alien_0 dictionary along with its value:"
   ]
  },
  {
   "cell_type": "code",
   "execution_count": 13,
   "id": "fda840de-1da9-468a-9ae3-3acc1c9f9134",
   "metadata": {},
   "outputs": [
    {
     "name": "stdout",
     "output_type": "stream",
     "text": [
      "{'color': 'green', 'points': 5}\n",
      "{'color': 'green'}\n"
     ]
    }
   ],
   "source": [
    "alien_0 = {'color': 'green', 'points': 5}\n",
    "print(alien_0)\n",
    "\n",
    "del alien_0['points']\n",
    "print(alien_0)"
   ]
  },
  {
   "cell_type": "markdown",
   "id": "a369771e-bc4c-4f9c-afb3-cd2b8942aae2",
   "metadata": {},
   "source": [
    "Note: _Be aware that the deleted key_value pair is removed permanently._ <br>\n",
    "<br>\n",
    "#### -_A Dictionary of Similar Objects_ \n",
    "You can also use a dictionary to store one kind of information about many objects. For example, say you want to poll a number <br>\n",
    "of people and ask them what their favorite programming language is. A dictionary is usefull for storing the results of a simple poll:"
   ]
  },
  {
   "cell_type": "code",
   "execution_count": 16,
   "id": "39288e8b-b342-4c0f-b2f8-e21f70ae0b13",
   "metadata": {},
   "outputs": [
    {
     "name": "stdout",
     "output_type": "stream",
     "text": [
      "Sarah's favorite language is C.\n"
     ]
    }
   ],
   "source": [
    "favorite_languages = {'jen': 'python',\n",
    "                     'sarah': 'c',\n",
    "                     'edward':'ruby',\n",
    "                     'phil':'python',\n",
    "                    }\n",
    "print(\"Sarah's favorite language is \" + favorite_languages['sarah'].title() + \".\")"
   ]
  },
  {
   "cell_type": "markdown",
   "id": "7087ac91-0a59-40a8-a7fc-20d62f8853d6",
   "metadata": {},
   "source": [
    "***\n",
    "### Looping Through a Dictionary \n",
    "Several different ways exist to loop through them. You can loop through all of a dictionary's key-value pairs, through its keys, or through its <br>\n",
    "values."
   ]
  },
  {
   "cell_type": "code",
   "execution_count": null,
   "id": "50382326-829e-4726-8384-d94122c134ea",
   "metadata": {},
   "outputs": [],
   "source": []
  }
 ],
 "metadata": {
  "kernelspec": {
   "display_name": "Python 3 (ipykernel)",
   "language": "python",
   "name": "python3"
  },
  "language_info": {
   "codemirror_mode": {
    "name": "ipython",
    "version": 3
   },
   "file_extension": ".py",
   "mimetype": "text/x-python",
   "name": "python",
   "nbconvert_exporter": "python",
   "pygments_lexer": "ipython3",
   "version": "3.9.7"
  }
 },
 "nbformat": 4,
 "nbformat_minor": 5
}
