{
 "cells": [
  {
   "cell_type": "markdown",
   "id": "68fcd97f-7b47-4516-8983-9232d0cdc834",
   "metadata": {},
   "source": [
    "# Chapter 3: Introducing Lists"
   ]
  },
  {
   "cell_type": "markdown",
   "id": "dffbc321-13b4-4dca-845b-986da2cd500c",
   "metadata": {},
   "source": [
    "Lists allow you to store sets of information in one place. "
   ]
  },
  {
   "cell_type": "markdown",
   "id": "8f081e38-2134-4d7b-9312-cbd608a453bf",
   "metadata": {
    "tags": []
   },
   "source": [
    "### What is a List?"
   ]
  },
  {
   "cell_type": "markdown",
   "id": "77bae4e6-78d6-4064-b269-402eee57f02b",
   "metadata": {},
   "source": [
    "A _list_ is a collection of items in a particular order. A list usually contains <br>\n",
    "more than one element, its good practice to make the name of the list plural. <br>\n",
    "<br>\n",
    "In Python, square brackets ([ ]) indicate a list and individual elements in the list <br> are seperated by commas."
   ]
  },
  {
   "cell_type": "code",
   "execution_count": 50,
   "id": "c567c43e-df84-432e-8bf1-1cfb1a2e5f9f",
   "metadata": {},
   "outputs": [
    {
     "name": "stdout",
     "output_type": "stream",
     "text": [
      "['trek', 'cannodale', 'redline', 'specialized']\n"
     ]
    }
   ],
   "source": [
    "#Ex:\n",
    "#created a list of bicycles to display\n",
    "bicycles = ['trek', 'cannodale', 'redline', 'specialized']\n",
    "print(bicycles)"
   ]
  },
  {
   "cell_type": "markdown",
   "id": "2a2f33dd-63ac-49be-bf9e-7695607b5372",
   "metadata": {},
   "source": [
    "#### - _Accessing Elements in a List_"
   ]
  },
  {
   "cell_type": "markdown",
   "id": "c4860253-38fd-4128-a00a-41f734bc4a03",
   "metadata": {},
   "source": [
    "You can access any element in a list by telling Python the position, or _index_ <br>\n",
    "of the item desired. To access an item in a list, write the name of the list followed <br>\n",
    "by the index of the item enclosed in squared brackets."
   ]
  },
  {
   "cell_type": "code",
   "execution_count": 51,
   "id": "a884f581-7c03-4240-9641-dc98a95afb25",
   "metadata": {},
   "outputs": [
    {
     "name": "stdout",
     "output_type": "stream",
     "text": [
      "trek\n"
     ]
    }
   ],
   "source": [
    "#Ex:\n",
    "# we only want to see the first item in the list\n",
    "print(bicycles[0])"
   ]
  },
  {
   "cell_type": "markdown",
   "id": "b77dda26-a349-4d56-be26-d61b2d77f12d",
   "metadata": {},
   "source": [
    "We can also manipulate the item from the list using string methods."
   ]
  },
  {
   "cell_type": "code",
   "execution_count": 52,
   "id": "3c2bf863-8cc7-49e7-9d42-b805dffb0fdf",
   "metadata": {},
   "outputs": [
    {
     "name": "stdout",
     "output_type": "stream",
     "text": [
      "Trek\n"
     ]
    }
   ],
   "source": [
    "#Ex:\n",
    "# We want the output of the item from the list to be titled format\n",
    "print(bicycles[0].title())"
   ]
  },
  {
   "cell_type": "markdown",
   "id": "1c26f6c5-24a5-4951-a55b-2fc213826cad",
   "metadata": {},
   "source": [
    "#### - _Using Individual Values from a List_"
   ]
  },
  {
   "cell_type": "markdown",
   "id": "5cd39ec1-7544-45ab-b387-69c4661c0a07",
   "metadata": {},
   "source": [
    "You can take values from a list and use them individually."
   ]
  },
  {
   "cell_type": "code",
   "execution_count": 53,
   "id": "e7964312-f030-4e1d-baf2-c3ed3298433b",
   "metadata": {},
   "outputs": [
    {
     "name": "stdout",
     "output_type": "stream",
     "text": [
      "My first bicycle was a Trek.\n"
     ]
    }
   ],
   "source": [
    "#Ex:\n",
    "# Composing a message using an item from the bicycle list \n",
    "message = \"My first bicycle was a \" + bicycles[0].title() + \".\"\n",
    "print(message)"
   ]
  },
  {
   "cell_type": "markdown",
   "id": "e96d309b-3083-4809-8484-9e7109c36e83",
   "metadata": {},
   "source": [
    "***\n",
    "### Changing, Adding, and Removing Elements"
   ]
  },
  {
   "cell_type": "markdown",
   "id": "2333a1b8-3b92-4799-a67b-70fc322d8dca",
   "metadata": {},
   "source": [
    "Most lists you create will be dynamic, meaning you'll build a list <br>\n",
    "and then add and remove elemnts from it."
   ]
  },
  {
   "cell_type": "markdown",
   "id": "18b75f84-091e-4199-9229-bafb4accaa08",
   "metadata": {},
   "source": [
    "#### - _Modifying Elements in a List_"
   ]
  },
  {
   "cell_type": "markdown",
   "id": "3080c63e-7522-43c3-a16b-a529793424f9",
   "metadata": {},
   "source": [
    "The syntax for modifying an element is similar to accessing <br> \n",
    "an element in a list. To change an element, use the name of the <br>\n",
    "list followed by the index of the element you want to change, and <br>\n",
    "then provide the new value to want the item to have."
   ]
  },
  {
   "cell_type": "code",
   "execution_count": 54,
   "id": "9bade11f-12ed-49d5-88d0-4f2b5c4a0a36",
   "metadata": {},
   "outputs": [
    {
     "name": "stdout",
     "output_type": "stream",
     "text": [
      "['honda', 'yamaha', 'suzuki']\n"
     ]
    }
   ],
   "source": [
    "#Ex:\n",
    "# Here is a list of motorcycles\n",
    "motorcycles = ['honda','yamaha', 'suzuki']\n",
    "print(motorcycles)"
   ]
  },
  {
   "cell_type": "code",
   "execution_count": 55,
   "id": "e68996e0-b66c-475f-b5b3-7e1aa397081f",
   "metadata": {},
   "outputs": [
    {
     "name": "stdout",
     "output_type": "stream",
     "text": [
      "['ducati', 'yamaha', 'suzuki']\n"
     ]
    }
   ],
   "source": [
    "#Ex:\n",
    "# We changed our minds we want ducati instead of honda\n",
    "motorcycles[0] = 'ducati'\n",
    "print(motorcycles)"
   ]
  },
  {
   "cell_type": "markdown",
   "id": "30d3b897-f0d3-4437-9c97-cbf267ff85cc",
   "metadata": {},
   "source": [
    "#### - _Adding Elements to a List_"
   ]
  },
  {
   "cell_type": "markdown",
   "id": "5a77fff3-e181-4825-8310-bf800ae0883a",
   "metadata": {},
   "source": [
    "Sometimes you may need to add a new element to a list for some reason.\n",
    "\n",
    "In Python it's called _append_. When you append an item to a list, the <br>\n",
    "new element is added to the end of the list."
   ]
  },
  {
   "cell_type": "code",
   "execution_count": 56,
   "id": "a0c917d3-7e13-4ea9-b7c8-035688e02b31",
   "metadata": {},
   "outputs": [
    {
     "name": "stdout",
     "output_type": "stream",
     "text": [
      "['honda', 'yamaha', 'suzuki', 'ducati']\n"
     ]
    }
   ],
   "source": [
    "#Ex:\n",
    "# Instead of replacing honda, we want to leave it in the list and add ducati to the end\n",
    "motorcycles = ['honda','yamaha', 'suzuki']\n",
    "motorcycles.append('ducati')\n",
    "print(motorcycles)"
   ]
  },
  {
   "cell_type": "markdown",
   "id": "a790fc98-1e5f-472f-9796-b1d7e98dcd08",
   "metadata": {},
   "source": [
    "The append( ) method makes it easy to build lists dynamicall. You can start <br> with an empty list and then add items to the list using a series of append( ) statements."
   ]
  },
  {
   "cell_type": "code",
   "execution_count": 57,
   "id": "82dbcff8-92eb-4616-932b-905b13006000",
   "metadata": {},
   "outputs": [
    {
     "name": "stdout",
     "output_type": "stream",
     "text": [
      "['honda', 'yamaha', 'suzuki']\n"
     ]
    }
   ],
   "source": [
    "motorcycles = []\n",
    "motorcycles.append('honda')\n",
    "motorcycles.append('yamaha')\n",
    "motorcycles.append('suzuki')\n",
    "print(motorcycles)"
   ]
  },
  {
   "cell_type": "markdown",
   "id": "67bf6017-36a3-4ee0-b176-555a9a1dc361",
   "metadata": {},
   "source": [
    "#### - _Inserting Elements into a List_"
   ]
  },
  {
   "cell_type": "markdown",
   "id": "0b0c4c43-4b45-47c5-ab4b-1f335dd20efb",
   "metadata": {},
   "source": [
    "To add an item anywhere in a list use the insert() method. You can do so <br>\n",
    "by specifying the index of the new element and the value of the new item."
   ]
  },
  {
   "cell_type": "code",
   "execution_count": 58,
   "id": "19011d19-0a6f-4cf4-91da-1c189133c648",
   "metadata": {},
   "outputs": [
    {
     "name": "stdout",
     "output_type": "stream",
     "text": [
      "['ducati', 'honda', 'yamaha', 'suzuki']\n"
     ]
    }
   ],
   "source": [
    "#Ex:\n",
    "# Inserting Ducati before honda\n",
    "motorcycles.insert(0,'ducati')\n",
    "print(motorcycles)"
   ]
  },
  {
   "cell_type": "markdown",
   "id": "f51f434b-a272-4e4a-a2e6-5c2e25d0874c",
   "metadata": {
    "tags": []
   },
   "source": [
    "#### - _Removing Elements from a List_"
   ]
  },
  {
   "cell_type": "markdown",
   "id": "d4c2b394-aceb-44bd-a759-e68bfe07a63f",
   "metadata": {},
   "source": [
    "You might want to remove an item or a set of items from a list. "
   ]
  },
  {
   "cell_type": "markdown",
   "id": "61bcaaa3-25f0-4797-a701-da43dd079cbc",
   "metadata": {},
   "source": [
    "#### Remove an Item Using the del statement\n",
    "If you know thhe position of the item you want to remove from a list, <br>\n",
    "you can use the _del_ statement."
   ]
  },
  {
   "cell_type": "code",
   "execution_count": 60,
   "id": "245e349c-39ec-44b5-8020-0d60357d1936",
   "metadata": {},
   "outputs": [
    {
     "name": "stdout",
     "output_type": "stream",
     "text": [
      "['yamaha', 'suzuki']\n"
     ]
    }
   ],
   "source": [
    "motorcycles = ['honda', 'yamaha', 'suzuki']\n",
    "del motorcycles[0]\n",
    "print(motorcycles)"
   ]
  },
  {
   "cell_type": "markdown",
   "id": "f9de28f7-5a7c-47e6-91ce-210daa4a61da",
   "metadata": {},
   "source": [
    "You can no longer access the the value that was removed from the list, <br> \n",
    "using the del statement."
   ]
  },
  {
   "cell_type": "markdown",
   "id": "16fb23fb-7d69-4511-9b52-8cf575e5e49b",
   "metadata": {},
   "source": [
    "#### Remove an Item Using the Pop( ) Method"
   ]
  },
  {
   "cell_type": "code",
   "execution_count": null,
   "id": "0fee5db0-16b6-4aad-9808-2984710d554e",
   "metadata": {},
   "outputs": [],
   "source": []
  }
 ],
 "metadata": {
  "kernelspec": {
   "display_name": "Python 3 (ipykernel)",
   "language": "python",
   "name": "python3"
  },
  "language_info": {
   "codemirror_mode": {
    "name": "ipython",
    "version": 3
   },
   "file_extension": ".py",
   "mimetype": "text/x-python",
   "name": "python",
   "nbconvert_exporter": "python",
   "pygments_lexer": "ipython3",
   "version": "3.9.7"
  }
 },
 "nbformat": 4,
 "nbformat_minor": 5
}
