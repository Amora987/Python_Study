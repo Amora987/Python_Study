{
 "cells": [
  {
   "cell_type": "markdown",
   "id": "68fcd97f-7b47-4516-8983-9232d0cdc834",
   "metadata": {},
   "source": [
    "# Chapter 3: Introducing Lists"
   ]
  },
  {
   "cell_type": "markdown",
   "id": "dffbc321-13b4-4dca-845b-986da2cd500c",
   "metadata": {},
   "source": [
    "Lists allow you to store sets of information in one place. "
   ]
  },
  {
   "cell_type": "markdown",
   "id": "8f081e38-2134-4d7b-9312-cbd608a453bf",
   "metadata": {
    "tags": []
   },
   "source": [
    "### What is a List?"
   ]
  },
  {
   "cell_type": "markdown",
   "id": "77bae4e6-78d6-4064-b269-402eee57f02b",
   "metadata": {},
   "source": [
    "A _list_ is a collection of items in a particular order. A list usually contains <br>\n",
    "more than one element, its good practice to make the name of the list plural. <br>\n",
    "<br>\n",
    "In Python, square brackets ([ ]) indicate a list and individual elements in the list <br> are seperated by commas."
   ]
  },
  {
   "cell_type": "code",
   "execution_count": 50,
   "id": "c567c43e-df84-432e-8bf1-1cfb1a2e5f9f",
   "metadata": {},
   "outputs": [
    {
     "name": "stdout",
     "output_type": "stream",
     "text": [
      "['trek', 'cannodale', 'redline', 'specialized']\n"
     ]
    }
   ],
   "source": [
    "#Ex:\n",
    "#created a list of bicycles to display\n",
    "bicycles = ['trek', 'cannodale', 'redline', 'specialized']\n",
    "print(bicycles)"
   ]
  },
  {
   "cell_type": "markdown",
   "id": "2a2f33dd-63ac-49be-bf9e-7695607b5372",
   "metadata": {},
   "source": [
    "#### - _Accessing Elements in a List_"
   ]
  },
  {
   "cell_type": "markdown",
   "id": "c4860253-38fd-4128-a00a-41f734bc4a03",
   "metadata": {},
   "source": [
    "You can access any element in a list by telling Python the position, or _index_ <br>\n",
    "of the item desired. To access an item in a list, write the name of the list followed <br>\n",
    "by the index of the item enclosed in squared brackets."
   ]
  },
  {
   "cell_type": "code",
   "execution_count": 51,
   "id": "a884f581-7c03-4240-9641-dc98a95afb25",
   "metadata": {},
   "outputs": [
    {
     "name": "stdout",
     "output_type": "stream",
     "text": [
      "trek\n"
     ]
    }
   ],
   "source": [
    "#Ex:\n",
    "# we only want to see the first item in the list\n",
    "print(bicycles[0])"
   ]
  },
  {
   "cell_type": "markdown",
   "id": "b77dda26-a349-4d56-be26-d61b2d77f12d",
   "metadata": {},
   "source": [
    "We can also manipulate the item from the list using string methods."
   ]
  },
  {
   "cell_type": "code",
   "execution_count": 52,
   "id": "3c2bf863-8cc7-49e7-9d42-b805dffb0fdf",
   "metadata": {},
   "outputs": [
    {
     "name": "stdout",
     "output_type": "stream",
     "text": [
      "Trek\n"
     ]
    }
   ],
   "source": [
    "#Ex:\n",
    "# We want the output of the item from the list to be titled format\n",
    "print(bicycles[0].title())"
   ]
  },
  {
   "cell_type": "markdown",
   "id": "1c26f6c5-24a5-4951-a55b-2fc213826cad",
   "metadata": {},
   "source": [
    "#### - _Using Individual Values from a List_"
   ]
  },
  {
   "cell_type": "markdown",
   "id": "5cd39ec1-7544-45ab-b387-69c4661c0a07",
   "metadata": {},
   "source": [
    "You can take values from a list and use them individually."
   ]
  },
  {
   "cell_type": "code",
   "execution_count": 53,
   "id": "e7964312-f030-4e1d-baf2-c3ed3298433b",
   "metadata": {},
   "outputs": [
    {
     "name": "stdout",
     "output_type": "stream",
     "text": [
      "My first bicycle was a Trek.\n"
     ]
    }
   ],
   "source": [
    "#Ex:\n",
    "# Composing a message using an item from the bicycle list \n",
    "message = \"My first bicycle was a \" + bicycles[0].title() + \".\"\n",
    "print(message)"
   ]
  },
  {
   "cell_type": "markdown",
   "id": "e96d309b-3083-4809-8484-9e7109c36e83",
   "metadata": {},
   "source": [
    "***\n",
    "### Changing, Adding, and Removing Elements"
   ]
  },
  {
   "cell_type": "markdown",
   "id": "2333a1b8-3b92-4799-a67b-70fc322d8dca",
   "metadata": {},
   "source": [
    "Most lists you create will be dynamic, meaning you'll build a list <br>\n",
    "and then add and remove elemnts from it."
   ]
  },
  {
   "cell_type": "markdown",
   "id": "18b75f84-091e-4199-9229-bafb4accaa08",
   "metadata": {},
   "source": [
    "#### - _Modifying Elements in a List_"
   ]
  },
  {
   "cell_type": "markdown",
   "id": "3080c63e-7522-43c3-a16b-a529793424f9",
   "metadata": {},
   "source": [
    "The syntax for modifying an element is similar to accessing <br> \n",
    "an element in a list. To change an element, use the name of the <br>\n",
    "list followed by the index of the element you want to change, and <br>\n",
    "then provide the new value to want the item to have."
   ]
  },
  {
   "cell_type": "code",
   "execution_count": 54,
   "id": "9bade11f-12ed-49d5-88d0-4f2b5c4a0a36",
   "metadata": {},
   "outputs": [
    {
     "name": "stdout",
     "output_type": "stream",
     "text": [
      "['honda', 'yamaha', 'suzuki']\n"
     ]
    }
   ],
   "source": [
    "#Ex:\n",
    "# Here is a list of motorcycles\n",
    "motorcycles = ['honda','yamaha', 'suzuki']\n",
    "print(motorcycles)"
   ]
  },
  {
   "cell_type": "code",
   "execution_count": 55,
   "id": "e68996e0-b66c-475f-b5b3-7e1aa397081f",
   "metadata": {},
   "outputs": [
    {
     "name": "stdout",
     "output_type": "stream",
     "text": [
      "['ducati', 'yamaha', 'suzuki']\n"
     ]
    }
   ],
   "source": [
    "#Ex:\n",
    "# We changed our minds we want ducati instead of honda\n",
    "motorcycles[0] = 'ducati'\n",
    "print(motorcycles)"
   ]
  },
  {
   "cell_type": "markdown",
   "id": "30d3b897-f0d3-4437-9c97-cbf267ff85cc",
   "metadata": {},
   "source": [
    "#### - _Adding Elements to a List_"
   ]
  },
  {
   "cell_type": "markdown",
   "id": "5a77fff3-e181-4825-8310-bf800ae0883a",
   "metadata": {},
   "source": [
    "Sometimes you may need to add a new element to a list for some reason.\n",
    "\n",
    "In Python it's called _append_. When you append an item to a list, the <br>\n",
    "new element is added to the end of the list."
   ]
  },
  {
   "cell_type": "code",
   "execution_count": 56,
   "id": "a0c917d3-7e13-4ea9-b7c8-035688e02b31",
   "metadata": {},
   "outputs": [
    {
     "name": "stdout",
     "output_type": "stream",
     "text": [
      "['honda', 'yamaha', 'suzuki', 'ducati']\n"
     ]
    }
   ],
   "source": [
    "#Ex:\n",
    "# Instead of replacing honda, we want to leave it in the list and add ducati to the end\n",
    "motorcycles = ['honda','yamaha', 'suzuki']\n",
    "motorcycles.append('ducati')\n",
    "print(motorcycles)"
   ]
  },
  {
   "cell_type": "markdown",
   "id": "a790fc98-1e5f-472f-9796-b1d7e98dcd08",
   "metadata": {},
   "source": [
    "The append( ) method makes it easy to build lists dynamicall. You can start <br> with an empty list and then add items to the list using a series of append( ) statements."
   ]
  },
  {
   "cell_type": "code",
   "execution_count": 57,
   "id": "82dbcff8-92eb-4616-932b-905b13006000",
   "metadata": {},
   "outputs": [
    {
     "name": "stdout",
     "output_type": "stream",
     "text": [
      "['honda', 'yamaha', 'suzuki']\n"
     ]
    }
   ],
   "source": [
    "motorcycles = []\n",
    "motorcycles.append('honda')\n",
    "motorcycles.append('yamaha')\n",
    "motorcycles.append('suzuki')\n",
    "print(motorcycles)"
   ]
  },
  {
   "cell_type": "markdown",
   "id": "67bf6017-36a3-4ee0-b176-555a9a1dc361",
   "metadata": {},
   "source": [
    "#### - _Inserting Elements into a List_"
   ]
  },
  {
   "cell_type": "markdown",
   "id": "0b0c4c43-4b45-47c5-ab4b-1f335dd20efb",
   "metadata": {},
   "source": [
    "To add an item anywhere in a list use the insert() method. You can do so <br>\n",
    "by specifying the index of the new element and the value of the new item."
   ]
  },
  {
   "cell_type": "code",
   "execution_count": 58,
   "id": "19011d19-0a6f-4cf4-91da-1c189133c648",
   "metadata": {},
   "outputs": [
    {
     "name": "stdout",
     "output_type": "stream",
     "text": [
      "['ducati', 'honda', 'yamaha', 'suzuki']\n"
     ]
    }
   ],
   "source": [
    "#Ex:\n",
    "# Inserting Ducati before honda\n",
    "motorcycles.insert(0,'ducati')\n",
    "print(motorcycles)"
   ]
  },
  {
   "cell_type": "markdown",
   "id": "f51f434b-a272-4e4a-a2e6-5c2e25d0874c",
   "metadata": {
    "tags": []
   },
   "source": [
    "#### - _Removing Elements from a List_"
   ]
  },
  {
   "cell_type": "markdown",
   "id": "d4c2b394-aceb-44bd-a759-e68bfe07a63f",
   "metadata": {},
   "source": [
    "You might want to remove an item or a set of items from a list. "
   ]
  },
  {
   "cell_type": "markdown",
   "id": "61bcaaa3-25f0-4797-a701-da43dd079cbc",
   "metadata": {},
   "source": [
    "#### Remove an Item Using the del statement\n",
    "If you know thhe position of the item you want to remove from a list, <br>\n",
    "you can use the _del_ statement."
   ]
  },
  {
   "cell_type": "code",
   "execution_count": 60,
   "id": "245e349c-39ec-44b5-8020-0d60357d1936",
   "metadata": {},
   "outputs": [
    {
     "name": "stdout",
     "output_type": "stream",
     "text": [
      "['yamaha', 'suzuki']\n"
     ]
    }
   ],
   "source": [
    "motorcycles = ['honda', 'yamaha', 'suzuki']\n",
    "del motorcycles[0]\n",
    "print(motorcycles)"
   ]
  },
  {
   "cell_type": "markdown",
   "id": "f9de28f7-5a7c-47e6-91ce-210daa4a61da",
   "metadata": {},
   "source": [
    "You can no longer access the the value that was removed from the list, <br> \n",
    "using the del statement."
   ]
  },
  {
   "cell_type": "markdown",
   "id": "16fb23fb-7d69-4511-9b52-8cf575e5e49b",
   "metadata": {},
   "source": [
    "#### Remove an Item Using the Pop( ) Method"
   ]
  },
  {
   "cell_type": "markdown",
   "id": "5e00bf5b-e41f-4942-ae74-87660cab13ce",
   "metadata": {},
   "source": [
    "Sometimes you'll want to use the value of an item after you remove it from <br>\n",
    "a list. The _pop( )_ method removes the last item in a list, but it lets you <br>\n",
    "work with that item after removing it. The term _pop_ comes from thinking of <br>\n",
    "a list as a stack of items and popping one item off the top of the stack."
   ]
  },
  {
   "cell_type": "code",
   "execution_count": 2,
   "id": "9ded5f43-6b3b-49bb-830b-6246cd466eef",
   "metadata": {},
   "outputs": [
    {
     "name": "stdout",
     "output_type": "stream",
     "text": [
      "['honda', 'yamaha', 'suzuki']\n"
     ]
    }
   ],
   "source": [
    "#Ex:\n",
    "# Let's pop a motorcycle from the list of motorcycles:\n",
    "motorcycles = ['honda', 'yamaha', 'suzuki']\n",
    "print(motorcycles)"
   ]
  },
  {
   "cell_type": "code",
   "execution_count": 4,
   "id": "55f05501-ab14-4541-8727-896baa44be3f",
   "metadata": {},
   "outputs": [
    {
     "name": "stdout",
     "output_type": "stream",
     "text": [
      "['honda']\n",
      "yamaha\n"
     ]
    }
   ],
   "source": [
    "popped_motorcycle = motorcycles.pop()\n",
    "print(motorcycles)\n",
    "print(popped_motorcycle)"
   ]
  },
  {
   "cell_type": "markdown",
   "id": "1b976531-74d0-4508-93d4-da1295ccd397",
   "metadata": {},
   "source": [
    "#### Popping Items from an Position in a List"
   ]
  },
  {
   "cell_type": "markdown",
   "id": "21cb1480-714c-4b23-835d-cb04785b8b0e",
   "metadata": {},
   "source": [
    "The _pop( )_ method can be used to remove an item in a list at any position <br>\n",
    "by including the index of the item you want to remove in parantheses."
   ]
  },
  {
   "cell_type": "code",
   "execution_count": 7,
   "id": "838cc864-2f88-4990-9009-a6d8bf41ec95",
   "metadata": {},
   "outputs": [
    {
     "name": "stdout",
     "output_type": "stream",
     "text": [
      "The first motorcycle I ownder was a Honda.\n"
     ]
    }
   ],
   "source": [
    "#Ex:\n",
    "motorcycles = ['honda', 'yamaha', 'suzuki']\n",
    "first_owned = motorcycles.pop(0)\n",
    "print(\"The first motorcycle I ownder was a \" + first_owned.title() + \".\")"
   ]
  },
  {
   "cell_type": "markdown",
   "id": "738e2a89-39ed-4da7-8ad6-851cf712ca4f",
   "metadata": {},
   "source": [
    "If you want to delede an item from a list and not use that item in any way <br>\n",
    "use the _del_ statement; if you want to use an item as you remove it, use <br>\n",
    "the _pop( )_"
   ]
  },
  {
   "cell_type": "markdown",
   "id": "be356817-aa70-401e-9052-3fe3e33f822e",
   "metadata": {},
   "source": [
    "#### Removing an Item by Value"
   ]
  },
  {
   "cell_type": "markdown",
   "id": "96c5c113-24a1-475e-b1c5-70092f664da5",
   "metadata": {},
   "source": [
    "If you only know the value of the item you want to remove, <br> \n",
    "you can use the _remove( )_ method"
   ]
  },
  {
   "cell_type": "code",
   "execution_count": 8,
   "id": "c578d142-3df3-4e14-9c17-e1fe08dc1ada",
   "metadata": {},
   "outputs": [
    {
     "name": "stdout",
     "output_type": "stream",
     "text": [
      "['honda', 'yamaha', 'suzuki', 'ducati']\n"
     ]
    }
   ],
   "source": [
    "#Ex:\n",
    "# We want to remove 'ducati'\n",
    "motorcycles = ['honda', 'yamaha', 'suzuki', 'ducati']\n",
    "print(motorcycles)"
   ]
  },
  {
   "cell_type": "code",
   "execution_count": 9,
   "id": "1ee459c1-b478-460f-981c-833a20e30a22",
   "metadata": {},
   "outputs": [
    {
     "name": "stdout",
     "output_type": "stream",
     "text": [
      "['honda', 'yamaha', 'suzuki']\n"
     ]
    }
   ],
   "source": [
    "motorcycles.remove('ducati')\n",
    "print(motorcycles)"
   ]
  },
  {
   "cell_type": "markdown",
   "id": "f90a9d20-153a-4376-9244-79a33404aaf4",
   "metadata": {},
   "source": [
    "As well as using the _remove( )_ method to work with a value that's <br>\n",
    "being removed from a list."
   ]
  },
  {
   "cell_type": "code",
   "execution_count": 10,
   "id": "2cd03d42-8800-4718-bebd-b5058dbce3b9",
   "metadata": {},
   "outputs": [
    {
     "name": "stdout",
     "output_type": "stream",
     "text": [
      "['honda', 'yamaha', 'suzuki', 'ducati']\n"
     ]
    }
   ],
   "source": [
    "#Ex:\n",
    "# Remove the value 'ducati' and print a reason for removing it from the list:\n",
    "motorcycles = ['honda', 'yamaha', 'suzuki', 'ducati']\n",
    "print(motorcycles)"
   ]
  },
  {
   "cell_type": "code",
   "execution_count": 11,
   "id": "bf8a7b83-720d-46bb-8239-368309efe3fe",
   "metadata": {},
   "outputs": [
    {
     "name": "stdout",
     "output_type": "stream",
     "text": [
      "['honda', 'yamaha', 'suzuki']\n",
      "\n",
      "A Ducati is too expensive for me.\n"
     ]
    }
   ],
   "source": [
    "too_expensive = 'ducati'\n",
    "motorcycles.remove(too_expensive)\n",
    "print(motorcycles)\n",
    "print(\"\\nA \" + too_expensive.title() + \" is too expensive for me.\")"
   ]
  },
  {
   "cell_type": "markdown",
   "id": "8a70320c-97ab-420f-8aae-5303ca9a7ca7",
   "metadata": {},
   "source": [
    "***\n",
    "### Organizing a List"
   ]
  },
  {
   "cell_type": "markdown",
   "id": "4cf35346-8aaf-4359-bced-1dd994a1d397",
   "metadata": {},
   "source": [
    "Often your lists will be created in an unpredictable order, becuase you <br>\n",
    "can't always control the order in which your users provide their data. Python <br>\n",
    "provides a number of different ways to organize your lists, depending on the <br>situation."
   ]
  },
  {
   "cell_type": "markdown",
   "id": "122063b1-43a2-427a-a59d-3bf9a2c655fb",
   "metadata": {},
   "source": [
    "#### - _Sorting a List Permanently_"
   ]
  },
  {
   "cell_type": "markdown",
   "id": "d7b4afc7-1e9a-4ad7-8f33-1293da9ebd97",
   "metadata": {},
   "source": [
    "Python's _sort()_ method makes it easy to sort a list."
   ]
  },
  {
   "cell_type": "code",
   "execution_count": 14,
   "id": "3baf1c03-15f0-4a83-a9b7-8cf58c02fc90",
   "metadata": {},
   "outputs": [
    {
     "name": "stdout",
     "output_type": "stream",
     "text": [
      "['audi', 'bmw', 'suburu', 'toyota']\n"
     ]
    }
   ],
   "source": [
    "#Ex: \n",
    "# Let's sort some cars in alphabetical order\n",
    "cars = ['bmw', 'audi', 'toyota', 'suburu']\n",
    "cars.sort()\n",
    "print(cars)"
   ]
  },
  {
   "cell_type": "markdown",
   "id": "100750c3-fe5c-472a-b0ec-829c9a98fe24",
   "metadata": {},
   "source": [
    "The _sort( )_ method changes the order of list permanently. The cars are <br>\n",
    "now in alphabetical order, and we can never revert to the original order."
   ]
  },
  {
   "cell_type": "markdown",
   "id": "e78595ba-be6c-4a25-b4ae-972ad233d11d",
   "metadata": {},
   "source": [
    "You can also sort this list in rever alphabetical oder by passing the <br>\n",
    "argument __reverse=true__ to the _sort( )_ method."
   ]
  },
  {
   "cell_type": "code",
   "execution_count": 15,
   "id": "ba9fd5f4-6369-4cf3-9121-a3034c26be83",
   "metadata": {},
   "outputs": [
    {
     "name": "stdout",
     "output_type": "stream",
     "text": [
      "['toyota', 'suburu', 'bmw', 'audi']\n"
     ]
    }
   ],
   "source": [
    "cars = ['bmw', 'audi', 'toyota', 'suburu']\n",
    "cars.sort(reverse = True)\n",
    "print(cars)"
   ]
  },
  {
   "cell_type": "markdown",
   "id": "cf322621-02c6-4130-987e-057c5a285374",
   "metadata": {},
   "source": [
    "#### - _Sorting a List Temporarily with the _sorted( )_ Function_"
   ]
  },
  {
   "cell_type": "markdown",
   "id": "49fa3b9d-0143-4f14-8d92-eadda0aca012",
   "metadata": {},
   "source": [
    "To maintain the original order of a list but present it in a sorted order, <br>\n",
    "you can use the _sorted( )_ function. The _sorted( )_ function lets you display <br> \n",
    "your list in a particular order but doesn't affect the actual order of the list."
   ]
  },
  {
   "cell_type": "code",
   "execution_count": 17,
   "id": "89dc4e4c-db4c-4e28-b204-bf84b82aa111",
   "metadata": {},
   "outputs": [
    {
     "name": "stdout",
     "output_type": "stream",
     "text": [
      "Here is the original list:\n",
      "['bmw', 'audi', 'toyota', 'suburu']\n"
     ]
    }
   ],
   "source": [
    "#Ex:\n",
    "cars = ['bmw', 'audi', 'toyota', 'suburu']\n",
    "print(\"Here is the original list:\")\n",
    "print(cars)"
   ]
  },
  {
   "cell_type": "code",
   "execution_count": 18,
   "id": "44404ae8-e190-45f8-aaaa-62d006a1166b",
   "metadata": {},
   "outputs": [
    {
     "name": "stdout",
     "output_type": "stream",
     "text": [
      "Here is the sorted list:\n",
      "['audi', 'bmw', 'suburu', 'toyota']\n"
     ]
    }
   ],
   "source": [
    "#Ex:\n",
    "print(\"Here is the sorted list:\")\n",
    "print(sorted(cars))"
   ]
  },
  {
   "cell_type": "code",
   "execution_count": 19,
   "id": "5af4c504-fd51-4730-8c41-08b5dce48d76",
   "metadata": {},
   "outputs": [
    {
     "name": "stdout",
     "output_type": "stream",
     "text": [
      "Here is the original list again:\n",
      "['bmw', 'audi', 'toyota', 'suburu']\n"
     ]
    }
   ],
   "source": [
    "#Ex:\n",
    "print(\"Here is the original list again:\")\n",
    "print(cars)"
   ]
  },
  {
   "cell_type": "markdown",
   "id": "94aa0fb6-aa9c-40e1-9d4e-2b3d38c831a2",
   "metadata": {},
   "source": [
    "The _sorted( )_ function can also accept a __reverse=True__ argument"
   ]
  },
  {
   "cell_type": "markdown",
   "id": "dcda1a6b-b157-45f8-b5f6-2e3a87f445ef",
   "metadata": {},
   "source": [
    "#### - _Printing a List in Reverse Order_"
   ]
  },
  {
   "cell_type": "markdown",
   "id": "e7928f0e-5c69-4d10-8932-1af8f83fa50e",
   "metadata": {},
   "source": [
    "To reverse the original order of a list, you can use the _reverse( )_ method."
   ]
  },
  {
   "cell_type": "code",
   "execution_count": 20,
   "id": "345cf9ad-bd70-4439-902a-334eb51205df",
   "metadata": {},
   "outputs": [
    {
     "name": "stdout",
     "output_type": "stream",
     "text": [
      "['bmw', 'audi', 'toyota', 'subaru']\n",
      "['subaru', 'toyota', 'audi', 'bmw']\n"
     ]
    }
   ],
   "source": [
    "#Ex:\n",
    "cars = ['bmw', 'audi', 'toyota', 'subaru']\n",
    "print(cars)\n",
    "\n",
    "cars.reverse()\n",
    "print(cars)"
   ]
  },
  {
   "cell_type": "markdown",
   "id": "51ac47a9-4aea-4c5b-9af4-8a9cfdcb9c87",
   "metadata": {},
   "source": [
    "It changes the order of a list permanently, but you can revert to the original order <br>\n",
    "anytime by applying _reverse( )_ function to the list a second time."
   ]
  },
  {
   "cell_type": "markdown",
   "id": "72289e48-77dd-434c-b998-31542992aa3b",
   "metadata": {},
   "source": [
    "#### - _Finding the Length of a List_"
   ]
  },
  {
   "cell_type": "markdown",
   "id": "68180456-f430-481e-9b86-3100032cf454",
   "metadata": {},
   "source": [
    "To find the length of a list use the _len( )_ function."
   ]
  },
  {
   "cell_type": "code",
   "execution_count": 23,
   "id": "73a31458-f6bb-4b8c-a17d-5b0f99c65b82",
   "metadata": {},
   "outputs": [
    {
     "data": {
      "text/plain": [
       "4"
      ]
     },
     "execution_count": 23,
     "metadata": {},
     "output_type": "execute_result"
    }
   ],
   "source": [
    "cars = ['bmw', 'audi', 'toyota', 'subaru']\n",
    "len(cars)"
   ]
  }
 ],
 "metadata": {
  "kernelspec": {
   "display_name": "Python 3 (ipykernel)",
   "language": "python",
   "name": "python3"
  },
  "language_info": {
   "codemirror_mode": {
    "name": "ipython",
    "version": 3
   },
   "file_extension": ".py",
   "mimetype": "text/x-python",
   "name": "python",
   "nbconvert_exporter": "python",
   "pygments_lexer": "ipython3",
   "version": "3.9.7"
  }
 },
 "nbformat": 4,
 "nbformat_minor": 5
}
