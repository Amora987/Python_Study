{
 "cells": [
  {
   "cell_type": "markdown",
   "id": "2714a3c1-a438-40a9-af9b-0f4551a9644c",
   "metadata": {},
   "source": [
    "### Chapter 7 User Input and While Loops\n",
    "In this chapter you'll learn how to accept user input so your program can then work with it. When your program needs a name, you'll be <br>\n",
    "able to prompt the user for a name. To do this, you'll use the __input( )__ function. <br>\n",
    "You'll use Python's __while__ loop to keep programs running as long as certain conditions remain true. With the ability to work <br> \n",
    "with user input and the ability to control how long your programs run, you'll be able to write fully interactive programs.<br>\n",
    "<br>\n",
    "***\n",
    "### How the input() Function Works\n",
    "The __input( )__ function pauses your program and waits for the user to enter some text. Once Python receives the user's input, <br>\n",
    "it stores it in a variable to make it convenient for you to work with. <br>\n"
   ]
  },
  {
   "cell_type": "code",
   "execution_count": 1,
   "id": "c38fe361-9ebf-4caa-968f-9376f8292ace",
   "metadata": {},
   "outputs": [
    {
     "name": "stdin",
     "output_type": "stream",
     "text": [
      "Tell me something, and I will repeat it back to you:  Hello Everyone!\n"
     ]
    },
    {
     "name": "stdout",
     "output_type": "stream",
     "text": [
      "Hello Everyone!\n"
     ]
    }
   ],
   "source": [
    "message = input(\"Tell me something, and I will repeat it back to you: \")\n",
    "print(message)"
   ]
  },
  {
   "cell_type": "markdown",
   "id": "29462b15-8508-432e-b775-af28415fd4a1",
   "metadata": {},
   "source": [
    "The __input( )__ function takes one argument: the _prompt_, or instructions, that we want to display to the user so they know <br>\n",
    "what to do. The program waits while the user enters their response and continues afterthe user presses ENTER. The response is stored <br>\n",
    "in the variable message, then print(message) displays the input back to the user. <br>\n",
    "<br>\n",
    "#### -_Writing Clear Prompts_\n",
    "Each time you use the __input( )__ function, you should include a clear, easy to follow prompt that tells the user exactly what kind of <br>\n",
    "information you're looking for."
   ]
  },
  {
   "cell_type": "code",
   "execution_count": 2,
   "id": "8001774e-87de-450e-93b4-2893d7b8533c",
   "metadata": {},
   "outputs": [
    {
     "name": "stdin",
     "output_type": "stream",
     "text": [
      "Please enter your name:  Alex Morales\n"
     ]
    },
    {
     "name": "stdout",
     "output_type": "stream",
     "text": [
      "Hello, Alex Morales!\n"
     ]
    }
   ],
   "source": [
    "name = input(\"Please enter your name: \")\n",
    "print(\"Hello, \" + name + \"!\")"
   ]
  },
  {
   "cell_type": "markdown",
   "id": "400d2cc3-6297-4c23-ad50-a411e4026d63",
   "metadata": {},
   "source": [
    "Sometimes you want to write a prompt that's longer than one line. You can store your prompt in a variable and pass that variable <br>\n",
    "to the __input( )__ function. This allows you to build your prompt over several lines then write a clean __input( )__ statement."
   ]
  },
  {
   "cell_type": "code",
   "execution_count": 4,
   "id": "ceadf274-34b1-41b3-9286-0bae65952fc7",
   "metadata": {},
   "outputs": [
    {
     "name": "stdin",
     "output_type": "stream",
     "text": [
      "If you tell us who you are, we can personalize the messages you see.\n",
      "What is your names?  Alex Morales\n"
     ]
    },
    {
     "name": "stdout",
     "output_type": "stream",
     "text": [
      "\n",
      "Hello, Alex Morales!\n"
     ]
    }
   ],
   "source": [
    "prompt = \"If you tell us who you are, we can personalize the messages you see.\"\n",
    "prompt += \"\\nWhat is your names? \"\n",
    "name  = input(prompt)\n",
    "print(\"\\nHello, \" + name + \"!\")"
   ]
  },
  {
   "cell_type": "markdown",
   "id": "45c0d99a-a05f-4258-bca6-972818d5b207",
   "metadata": {},
   "source": [
    "This is one way to build multi-line string.<br>\n",
    "<br>\n",
    "#### -_Using int() to accept Numerical Input_\n",
    "When you use the __input( )__ function, Python interprets everything the user enters as a string. Consider the following interpreter <br>\n",
    "session, which ask's for the user's age:"
   ]
  },
  {
   "cell_type": "code",
   "execution_count": 6,
   "id": "bfdab234-90b4-429b-bbe2-c0341fe41e25",
   "metadata": {},
   "outputs": [
    {
     "name": "stdin",
     "output_type": "stream",
     "text": [
      "How old are you?  21\n"
     ]
    },
    {
     "data": {
      "text/plain": [
       "'21'"
      ]
     },
     "execution_count": 6,
     "metadata": {},
     "output_type": "execute_result"
    }
   ],
   "source": [
    "age = input(\"How old are you? \")\n",
    "age"
   ]
  },
  {
   "cell_type": "markdown",
   "id": "365c8a49-9662-4b05-a6a7-334f41de8e36",
   "metadata": {},
   "source": [
    "Python returns 21 as '21', the string representation of the numerical value entered. If you try to use the input as a number, you'll <br>\n",
    "get an error. <br>\n",
    "We can resolve this issues by using the __int( )__ function, which tells Python to treat the input as a numerical value."
   ]
  },
  {
   "cell_type": "code",
   "execution_count": 7,
   "id": "14f0bad5-3584-4d93-9e4a-2414fb9eb04b",
   "metadata": {},
   "outputs": [
    {
     "name": "stdin",
     "output_type": "stream",
     "text": [
      "How old are you?  20\n"
     ]
    },
    {
     "data": {
      "text/plain": [
       "True"
      ]
     },
     "execution_count": 7,
     "metadata": {},
     "output_type": "execute_result"
    }
   ],
   "source": [
    "age = input(\"How old are you? \")\n",
    "age = int(age)\n",
    "age >= 18"
   ]
  },
  {
   "cell_type": "markdown",
   "id": "a595f516-84bf-442d-88c9-ced1cc594a05",
   "metadata": {},
   "source": [
    "Let's use the __int( )__ function in an actual program."
   ]
  },
  {
   "cell_type": "code",
   "execution_count": 8,
   "id": "b161120d-fcb6-4dcc-84f3-c09f2ba26fff",
   "metadata": {},
   "outputs": [
    {
     "name": "stdin",
     "output_type": "stream",
     "text": [
      "How tall are you, in inches?  66\n"
     ]
    },
    {
     "name": "stdout",
     "output_type": "stream",
     "text": [
      "\n",
      "You're tall enough to ride!\n"
     ]
    }
   ],
   "source": [
    "height = input(\"How tall are you, in inches? \")\n",
    "height = int(height)\n",
    "\n",
    "if height >= 36:\n",
    "    print(\"\\nYou're tall enough to ride!\")\n",
    "else:\n",
    "    print(\"\\nYou'll be able to ride when you're a little older.\")"
   ]
  },
  {
   "cell_type": "markdown",
   "id": "77f8ad52-f7cf-42ad-a34f-2bfd77d3c30e",
   "metadata": {},
   "source": [
    "Be sure to convert the input value to a numerical representation first. <br>\n",
    "#### -_The Modulo Operator_\n",
    "A useful tool for working with numerical information is the _modulo operator ( % )_ which divides one number by another number and <br>\n",
    "returns the remainder. The modulo operator just tells you what the remainder is."
   ]
  },
  {
   "cell_type": "code",
   "execution_count": 10,
   "id": "737f6988-a8e4-45a7-b6cf-fa0315c8b734",
   "metadata": {},
   "outputs": [
    {
     "name": "stdin",
     "output_type": "stream",
     "text": [
      "Enter a number, and I'll tell you if it's even or odd:  27\n"
     ]
    },
    {
     "name": "stdout",
     "output_type": "stream",
     "text": [
      "\n",
      "The number 27 is odd.\n"
     ]
    }
   ],
   "source": [
    "number = input(\"Enter a number, and I'll tell you if it's even or odd: \")\n",
    "number = int(number)\n",
    "\n",
    "if number % 2 == 0:\n",
    "    print(\"\\nThe number \" + str(number) + \" is even.\")\n",
    "else:\n",
    "    print(\"\\nThe number \" + str(number) + \" is odd.\")"
   ]
  },
  {
   "cell_type": "markdown",
   "id": "c46e81e6-7ec8-4c3e-a6ae-9fc1725e0e41",
   "metadata": {},
   "source": [
    "***\n",
    "#### Introducing while Loops\n",
    "The __for__ loop takes a collection of items and executes a block of code once for each item in the collection. In contrast, the <br> __while__ loop runs as long as a certain condition is true. <br>\n",
    "#### -_The while Loop in Action_\n",
    "You can use a __while__ loop to count up through a series of numbers. For example, the following __while__ loop countrs from 1 to 5:"
   ]
  },
  {
   "cell_type": "code",
   "execution_count": 11,
   "id": "0bad6dad-029e-4e44-8a75-f157f08b75cb",
   "metadata": {},
   "outputs": [
    {
     "name": "stdout",
     "output_type": "stream",
     "text": [
      "1\n",
      "2\n",
      "3\n",
      "4\n",
      "5\n"
     ]
    }
   ],
   "source": [
    "current_number = 1\n",
    "while current_number <= 5:\n",
    "    print(current_number)\n",
    "    current_number += 1"
   ]
  },
  {
   "cell_type": "markdown",
   "id": "56486919-4b67-4e83-be4c-a58000a08cb2",
   "metadata": {},
   "source": [
    "#### -_Letting the User Choose When to Quit_\n",
    "We can make the program run as long as the user wants by putting most of the program inside a __while__ loop. "
   ]
  },
  {
   "cell_type": "code",
   "execution_count": 14,
   "id": "4082f69b-feec-4ae1-bb9a-d274306008ea",
   "metadata": {},
   "outputs": [
    {
     "name": "stdin",
     "output_type": "stream",
     "text": [
      "\n",
      "Tell me something, and I will repeat it back to you: \n",
      "Enter 'quit' to end the program.  hello\n"
     ]
    },
    {
     "name": "stdout",
     "output_type": "stream",
     "text": [
      "hello\n"
     ]
    },
    {
     "name": "stdin",
     "output_type": "stream",
     "text": [
      "\n",
      "Tell me something, and I will repeat it back to you: \n",
      "Enter 'quit' to end the program.  how\n"
     ]
    },
    {
     "name": "stdout",
     "output_type": "stream",
     "text": [
      "how\n"
     ]
    },
    {
     "name": "stdin",
     "output_type": "stream",
     "text": [
      "\n",
      "Tell me something, and I will repeat it back to you: \n",
      "Enter 'quit' to end the program.  quit\n"
     ]
    },
    {
     "name": "stdout",
     "output_type": "stream",
     "text": [
      "quit\n"
     ]
    }
   ],
   "source": [
    "prompt = \"\\nTell me something, and I will repeat it back to you: \"\n",
    "prompt += \"\\nEnter 'quit' to end the program. \"\n",
    "message = \" \"\n",
    "while message != \"quit\":\n",
    "    message = input(prompt)\n",
    "    print(message)"
   ]
  },
  {
   "cell_type": "markdown",
   "id": "c4107a03-3cfe-4696-bd0e-22e8daedbfd9",
   "metadata": {},
   "source": [
    "The first time the program runs and Python reaches the __while__ statement, it needs to compare the value of _message_ to 'quit', <br>\n",
    "but no user input has been entered yet. If Python has nothing to compare, it won't be able to continue running the program. <br>\n",
    "To solve this problem, we make sure to give _message_ an initial value. <br>\n",
    "<br>\n",
    "This program works well, except that it prints the word 'quit' as if it were an actual message. A simple if test fixes this:"
   ]
  },
  {
   "cell_type": "code",
   "execution_count": 16,
   "id": "f06ead75-5f25-4a2f-aa3d-2038e8fe3e47",
   "metadata": {},
   "outputs": [
    {
     "name": "stdin",
     "output_type": "stream",
     "text": [
      "\n",
      "Tell me something, and I will repeat it back to you: \n",
      "Enter 'quit' to end the program.  helllo\n"
     ]
    },
    {
     "name": "stdout",
     "output_type": "stream",
     "text": [
      "helllo\n"
     ]
    },
    {
     "name": "stdin",
     "output_type": "stream",
     "text": [
      "\n",
      "Tell me something, and I will repeat it back to you: \n",
      "Enter 'quit' to end the program.  quit\n"
     ]
    }
   ],
   "source": [
    "prompt = \"\\nTell me something, and I will repeat it back to you: \"\n",
    "prompt += \"\\nEnter 'quit' to end the program. \"\n",
    "message = \" \"\n",
    "while message != \"quit\":\n",
    "    message = input(prompt)\n",
    "    if message != 'quit':\n",
    "        print(message)"
   ]
  },
  {
   "cell_type": "markdown",
   "id": "ecd90584-1785-42c0-a201-7665016e13a3",
   "metadata": {},
   "source": [
    "#### -_Using a Flag_\n",
    "&emsp; For a program that should run only as long as many conditions are true, you can define one variable that determines whether or not <br>\n",
    "the entire program is active. This variable, called a _flag_ acts as a signal to the program. We can write our programs so they run <br> while the flag is set to __True__ and stop running when any of the several events sets the value of the flag to __False__. As a <br>\n",
    "result our overall __while__ statement needs to check only one condition: whether or not the flag is currently __True__."
   ]
  },
  {
   "cell_type": "code",
   "execution_count": 17,
   "id": "e613c360-2a90-44e0-bf71-a7a4df4379b5",
   "metadata": {},
   "outputs": [
    {
     "name": "stdin",
     "output_type": "stream",
     "text": [
      "\n",
      "Tell me something, and I will repeat it back to you: \n",
      "Enter 'quit' to end the program.  hello\n"
     ]
    },
    {
     "name": "stdout",
     "output_type": "stream",
     "text": [
      "hello\n"
     ]
    },
    {
     "name": "stdin",
     "output_type": "stream",
     "text": [
      "\n",
      "Tell me something, and I will repeat it back to you: \n",
      "Enter 'quit' to end the program.  sup\n"
     ]
    },
    {
     "name": "stdout",
     "output_type": "stream",
     "text": [
      "sup\n"
     ]
    },
    {
     "name": "stdin",
     "output_type": "stream",
     "text": [
      "\n",
      "Tell me something, and I will repeat it back to you: \n",
      "Enter 'quit' to end the program.  quit\n"
     ]
    }
   ],
   "source": [
    "prompt = \"\\nTell me something, and I will repeat it back to you: \"\n",
    "prompt += \"\\nEnter 'quit' to end the program. \"\n",
    "active = True\n",
    "while active:\n",
    "    message = input(prompt)\n",
    "    \n",
    "    if message == 'quit':\n",
    "        active = False\n",
    "    else: \n",
    "        print(message)"
   ]
  },
  {
   "cell_type": "markdown",
   "id": "e8e2fa28-1839-4935-8de1-db99a9ec0548",
   "metadata": {},
   "source": [
    "#### -_Using break to Exit a Loop_\n",
    "To exit a __while__ loop immediately without running any remaining code in the loop, regardless of the results of any conditional test <br>\n",
    "use the __break__ statement. The __break__ statement directs the flow of your program; you can use it to control which lines of code <br> \n",
    "are executed and which aren't, so the program executes code that you want it to, when you want it to."
   ]
  },
  {
   "cell_type": "code",
   "execution_count": 19,
   "id": "01aa78d3-f853-43fe-8029-5c5baa7123b2",
   "metadata": {},
   "outputs": [
    {
     "name": "stdin",
     "output_type": "stream",
     "text": [
      "\n",
      "Please enter the name of the city you have visited: \n",
      "(Enter 'quit' when you are finished.)  Dallas\n"
     ]
    },
    {
     "name": "stdout",
     "output_type": "stream",
     "text": [
      "I'd love to go to Dallas!\n"
     ]
    },
    {
     "name": "stdin",
     "output_type": "stream",
     "text": [
      "\n",
      "Please enter the name of the city you have visited: \n",
      "(Enter 'quit' when you are finished.)  San Diego\n"
     ]
    },
    {
     "name": "stdout",
     "output_type": "stream",
     "text": [
      "I'd love to go to San Diego!\n"
     ]
    },
    {
     "name": "stdin",
     "output_type": "stream",
     "text": [
      "\n",
      "Please enter the name of the city you have visited: \n",
      "(Enter 'quit' when you are finished.)  Miami\n"
     ]
    },
    {
     "name": "stdout",
     "output_type": "stream",
     "text": [
      "I'd love to go to Miami!\n"
     ]
    },
    {
     "name": "stdin",
     "output_type": "stream",
     "text": [
      "\n",
      "Please enter the name of the city you have visited: \n",
      "(Enter 'quit' when you are finished.)  quit\n"
     ]
    }
   ],
   "source": [
    "prompt = \"\\nPlease enter the name of the city you have visited: \"\n",
    "prompt += \"\\n(Enter 'quit' when you are finished.) \"\n",
    "\n",
    "while True:\n",
    "    city = input(prompt)\n",
    "    \n",
    "    if city == \"quit\":\n",
    "        break\n",
    "    else:\n",
    "        print(\"I'd love to go to \" + city.title() + \"!\")"
   ]
  },
  {
   "cell_type": "markdown",
   "id": "8fe1f4ce-a9e7-4344-895e-28819d1f0737",
   "metadata": {},
   "source": [
    "A loop that start with __while__ __True__ will run forever unless it reaches a __break__ statement."
   ]
  },
  {
   "cell_type": "markdown",
   "id": "6e8c7f76-7962-45df-b12e-89c240500b22",
   "metadata": {},
   "source": [
    "#### Using continue in a Loop\n",
    "Rather than breaking out of a loop entirely without executing the rest of its code, you can use the __continue__ statement to return to <br>\n",
    "the beginning of the loop based on the result of a conditional test. For example, consider a loop that counts from 1 to 10 but prints <br>\n",
    "only the odd numbers in that range:"
   ]
  },
  {
   "cell_type": "code",
   "execution_count": 21,
   "id": "ded6c62d-96e2-4f5a-90e3-bd4507c2a69a",
   "metadata": {},
   "outputs": [
    {
     "name": "stdout",
     "output_type": "stream",
     "text": [
      "1\n",
      "3\n",
      "5\n",
      "7\n",
      "9\n"
     ]
    }
   ],
   "source": [
    "current_number = 0\n",
    "while current_number < 10:\n",
    "    current_number += 1\n",
    "    if current_number % 2 == 0:\n",
    "        continue\n",
    "    print(current_number)"
   ]
  },
  {
   "cell_type": "markdown",
   "id": "6d4b984f-f054-4dc2-b738-af42fb3fa301",
   "metadata": {},
   "source": [
    "***\n",
    "### Using a while Loop with List and Dictionaries\n",
    "To keep track of many users and pieces of information, we'll need to use lists and dictionaries with our __while__ loops. A __for__ loop<br>\n",
    "is effective for looping through a list, but you shouldn't modify a list inside a __for__ loop because Python will have trouble keeping <br>\n",
    "track of the items in the list. To modify a list as you work through it, use a __while__ loop. Using a __while__ loop with lists and <br>\n",
    "dictionaries allows you to collect, store and organize lots of input to examine and report on later.<br>\n",
    "#### -_Moving Items from One List to Another_\n",
    "Consider a list of newly registered but unverified users of a website. After we verfiy these users, how can we move them to a seperate <br> list of confirmed users? One way would be to use a __while__ loop to pull users from the list of unconfirmed users as we verify them, <br> and then add them to a seperate list of confirmed users. Here's what that code might look like:\n"
   ]
  },
  {
   "cell_type": "code",
   "execution_count": 22,
   "id": "74c055a6-cbde-4db4-9efa-af46abe6820c",
   "metadata": {},
   "outputs": [
    {
     "name": "stdout",
     "output_type": "stream",
     "text": [
      "Verifying user: Candace\n",
      "Verifying user: Brian\n",
      "Verifying user: Alice\n",
      "\n",
      "The following users have been confirmed:\n",
      "Candace\n",
      "Brian\n",
      "Alice\n"
     ]
    }
   ],
   "source": [
    "# Start with users that need to be verified\n",
    "# and an empty list to hold confirmed users.\n",
    "unconfirmed_users = ['alice', 'brian', 'candace']\n",
    "confirmed_users = []\n",
    "\n",
    "# Verify each user until there are no more unconfirmed users.\n",
    "# Move each verified user into the list of confirmed users.\n",
    "while unconfirmed_users:\n",
    "    current_user = unconfirmed_users.pop()\n",
    "    \n",
    "    print(\"Verifying user: \" + current_user.title())\n",
    "    confirmed_users.append(current_user)\n",
    "#display all confirmed users/\n",
    "print(\"\\nThe following users have been confirmed:\")\n",
    "for confirmed_user in confirmed_users:\n",
    "    print(confirmed_user.title())"
   ]
  },
  {
   "cell_type": "markdown",
   "id": "aa9dea3f-61b3-4b87-a203-85276986c6ba",
   "metadata": {},
   "source": [
    "We begin with a list of unconfirmed users and an empty list to hold confirmed users. The __while__ loop runs as long as the list <br>\n",
    "_unconfirmed_users_ is not empty. Within this loop, the __pop( )__ function removes the unverified users one at a time from the end of <br>\n",
    "_unconfirmed_users_.Candace is the last in the _unconfirmed_users_ list, her name will be the first to be removed, stored in <br>\n",
    "_current_user_, and then added to the _confirmed_users_ list.<br>\n",
    "#### -_Removing All Instances of Specific Values from a List_\n",
    "The __remove( )__ function worked because the value we were interested in appeared only once in the list. But what if you want to <br> \n",
    "remove all instances of that value, you can run a __while__ loop."
   ]
  },
  {
   "cell_type": "code",
   "execution_count": 24,
   "id": "a298eeee-1882-4efb-ac1c-1408935c478d",
   "metadata": {},
   "outputs": [
    {
     "name": "stdout",
     "output_type": "stream",
     "text": [
      "['dog', 'cat', 'dog', 'goldfish', 'cat', 'rabbit', 'cat']\n",
      "['dog', 'dog', 'goldfish', 'rabbit']\n"
     ]
    }
   ],
   "source": [
    "pets = ['dog', 'cat', 'dog', 'goldfish', 'cat', 'rabbit', 'cat']\n",
    "print(pets)\n",
    "\n",
    "while 'cat' in pets:\n",
    "    pets.remove('cat')\n",
    "print(pets)"
   ]
  },
  {
   "cell_type": "markdown",
   "id": "7895d2f1-498c-46d4-90fd-2934fa180f68",
   "metadata": {},
   "source": [
    "Python enters the __while__ loop because it finds the value 'cat' in the list at least once. Once inside the loop, Python removes <br>\n",
    "the first instance of 'cat', returns to the __while__ line, and then reenters the loop when it finds that 'cat' is still in the list. <br>\n",
    "It removes each instance of 'cat' until the value is no longer in the list.<br>\n",
    "\n",
    "#### Filling a Dictionary with User Input\n",
    "You can prompt for as much input as you need in each pass through a while loop. Let's make a polling program in which each pass through <br>\n",
    "the loop prompts for the participant's name and response. We'll store the data we gather in a dicitionary, because we want to connect <br>\n",
    "each response with a particular user:"
   ]
  },
  {
   "cell_type": "code",
   "execution_count": 35,
   "id": "a52aa02a-bc3f-4a76-bf96-df8d531425c0",
   "metadata": {},
   "outputs": [
    {
     "name": "stdin",
     "output_type": "stream",
     "text": [
      "\n",
      "What's your name?  Eric\n",
      "Which mountain would you like to climb someday?  Denali\n",
      "Would you like to let another person respond? (yes/no)  yes\n",
      "\n",
      "What's your name?  Lynn\n",
      "Which mountain would you like to climb someday?  Devil's Thumb\n",
      "Would you like to let another person respond? (yes/no)  no\n"
     ]
    },
    {
     "name": "stdout",
     "output_type": "stream",
     "text": [
      "\n",
      "---Poll Results---\n",
      "Eric would like to climb Devil's Thumb.\n",
      "Lynn would like to climb Devil's Thumb.\n"
     ]
    }
   ],
   "source": [
    "responses = {}\n",
    "\n",
    "#Set a flag to indicate that polling is active\n",
    "polling_active = True\n",
    "\n",
    "while polling_active:\n",
    "    #Prompt for the person's name and response.\n",
    "    name = input(\"\\nWhat's your name? \")\n",
    "    response = input(\"Which mountain would you like to climb someday? \")\n",
    "    \n",
    "    #Store the response in the dictionary\n",
    "    responses[name] = response\n",
    "    \n",
    "    #Find out if anyone else is going to take the poll.\n",
    "    repeat = input(\"Would you like to let another person respond? (yes/no) \")\n",
    "    if repeat == 'no':\n",
    "        polling_active = False\n",
    "        \n",
    "#Polling is complete.Show the results\n",
    "print(\"\\n---Poll Results---\")\n",
    "for name,respond in responses.items():\n",
    "    print(name + \" would like to climb \" + response + \".\")"
   ]
  },
  {
   "cell_type": "code",
   "execution_count": null,
   "id": "b507c010-e84a-45b8-bfec-52247675adbb",
   "metadata": {},
   "outputs": [],
   "source": []
  }
 ],
 "metadata": {
  "kernelspec": {
   "display_name": "Python 3 (ipykernel)",
   "language": "python",
   "name": "python3"
  },
  "language_info": {
   "codemirror_mode": {
    "name": "ipython",
    "version": 3
   },
   "file_extension": ".py",
   "mimetype": "text/x-python",
   "name": "python",
   "nbconvert_exporter": "python",
   "pygments_lexer": "ipython3",
   "version": "3.9.7"
  }
 },
 "nbformat": 4,
 "nbformat_minor": 5
}
