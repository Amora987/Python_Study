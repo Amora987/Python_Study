{
 "cells": [
  {
   "cell_type": "markdown",
   "id": "d03cb785-f46f-417f-910d-f2ac8113f6fb",
   "metadata": {},
   "source": [
    "### Chapter 10 Files and Exceptions\n",
    "Work with files so programs can quickly analyze lots data. <br>\n",
    "<br>\n"
   ]
  }
 ],
 "metadata": {
  "kernelspec": {
   "display_name": "Python 3 (ipykernel)",
   "language": "python",
   "name": "python3"
  },
  "language_info": {
   "codemirror_mode": {
    "name": "ipython",
    "version": 3
   },
   "file_extension": ".py",
   "mimetype": "text/x-python",
   "name": "python",
   "nbconvert_exporter": "python",
   "pygments_lexer": "ipython3",
   "version": "3.9.7"
  }
 },
 "nbformat": 4,
 "nbformat_minor": 5
}
