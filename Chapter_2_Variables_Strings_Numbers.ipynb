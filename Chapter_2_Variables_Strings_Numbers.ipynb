{
 "cells": [
  {
   "cell_type": "markdown",
   "id": "da0f1a42-4801-43f9-835d-0e7593d94ce4",
   "metadata": {},
   "source": [
    "# Chapter 2: Variables and Simple Data Types"
   ]
  },
  {
   "cell_type": "markdown",
   "id": "4089f3fa-461e-43b7-93c2-9842d5a4d931",
   "metadata": {},
   "source": [
    "What really happens when you run hello_world.py"
   ]
  },
  {
   "cell_type": "code",
   "execution_count": 11,
   "id": "0e7fa4c3-7c3b-486e-b5a6-60d31e242c03",
   "metadata": {},
   "outputs": [
    {
     "name": "stdout",
     "output_type": "stream",
     "text": [
      "Hello Pyton World!\n"
     ]
    }
   ],
   "source": [
    "print(\"Hello Pyton World!\")"
   ]
  },
  {
   "cell_type": "markdown",
   "id": "e2ce6b26-624c-43bb-87ce-a906b8046e69",
   "metadata": {},
   "source": [
    "***\n",
    "### __Variables__"
   ]
  },
  {
   "cell_type": "code",
   "execution_count": 10,
   "id": "afe4607f-dfbe-4cb7-8259-64c6fd2e00cd",
   "metadata": {},
   "outputs": [
    {
     "name": "stdout",
     "output_type": "stream",
     "text": [
      "Hello Python Word!\n"
     ]
    }
   ],
   "source": [
    "message = \"Hello Python Word!\"\n",
    "print(message)"
   ]
  },
  {
   "cell_type": "markdown",
   "id": "264c6e17-318b-47e0-9e88-c4caca039e65",
   "metadata": {},
   "source": [
    "We get the same output but we've added a _variable_ named message. Now lets add a blank line to the code and then add two new lines of code:"
   ]
  },
  {
   "cell_type": "code",
   "execution_count": 9,
   "id": "ee219338-0270-43ac-b0e4-91639cef5b38",
   "metadata": {},
   "outputs": [
    {
     "name": "stdout",
     "output_type": "stream",
     "text": [
      "Hello Python World!\n",
      "Hello Crash Course world!\n"
     ]
    }
   ],
   "source": [
    "message = \"Hello Python World!\"\n",
    "print(message)\n",
    "\n",
    "message = \"Hello Crash Course world!\"\n",
    "print(message)"
   ]
  },
  {
   "cell_type": "markdown",
   "id": "fdb4e4eb-5128-45af-b927-bcc66f0ecb59",
   "metadata": {},
   "source": [
    "You can change the value of a variable in your program at any time, Python will always keep track of its current value."
   ]
  },
  {
   "cell_type": "markdown",
   "id": "991ed275-16ce-458b-aa8f-142caa3d9917",
   "metadata": {},
   "source": [
    "#### - _Naming and Using Variables_"
   ]
  },
  {
   "cell_type": "markdown",
   "id": "59c20cac-5942-4f3b-9472-1c11d9ea61d1",
   "metadata": {},
   "source": [
    "A few rules and guidelines to using variables.\n",
    " - Variable names can contain only letters, numbers and underscores. They can't start with a number.\n",
    " - Spaces are not allowed in variable names.\n",
    " - Avoid using Python keywords abd function names as variable names.\n",
    " - Variables names should be short but descriptive.\n",
    " - Be careful of using lowercase letter \"l\" abd uppercase letter \"O\".\n"
   ]
  },
  {
   "cell_type": "markdown",
   "id": "2e766710-4e7b-4f73-92ea-1b2bde72a858",
   "metadata": {},
   "source": [
    "*** \n",
    "### __Strings__"
   ]
  },
  {
   "cell_type": "markdown",
   "id": "878bb3bb-40df-448c-887a-c15a73732583",
   "metadata": {},
   "source": [
    "Strings are a simple data type made of a series of characters. Anything inside quotes or apostrophes are considered a string in Python."
   ]
  },
  {
   "cell_type": "code",
   "execution_count": 2,
   "id": "46e511fc-5334-49b9-a01d-fd382043d14f",
   "metadata": {},
   "outputs": [
    {
     "name": "stdout",
     "output_type": "stream",
     "text": [
      "This is a string\n",
      "This is also a string.\n"
     ]
    }
   ],
   "source": [
    "#Ex:\n",
    "print(\"This is a string\")\n",
    "print('This is also a string.')"
   ]
  },
  {
   "cell_type": "markdown",
   "id": "f7cd35f6-989b-4783-abf3-2373f1fe09cc",
   "metadata": {},
   "source": [
    "#### - _Chaning Case in a String with Methods_"
   ]
  },
  {
   "cell_type": "markdown",
   "id": "63deac76-1430-4f59-8a91-02418053c6cd",
   "metadata": {},
   "source": [
    "With strings your can change the case of the words:"
   ]
  },
  {
   "cell_type": "code",
   "execution_count": 3,
   "id": "8f3c65ed-ee4d-4920-ab9c-5db1482e9b62",
   "metadata": {},
   "outputs": [
    {
     "name": "stdout",
     "output_type": "stream",
     "text": [
      "Ada Lovelace\n"
     ]
    }
   ],
   "source": [
    "#EX\n",
    "name = \"ada lovelace\"\n",
    "print(name.title())"
   ]
  },
  {
   "cell_type": "markdown",
   "id": "08fed07c-9f82-4ec6-bae9-0e0ebb76369c",
   "metadata": {},
   "source": [
    "A _method_ is an action you can perform on a piece of data. The dot (.) after name in name.title() tells Python <br> to make title() method act on the variable name. <br>\n",
    "<br>\n",
    "Several other methods are available for dealing with case as well:"
   ]
  },
  {
   "cell_type": "code",
   "execution_count": 4,
   "id": "3c20d980-7573-4545-8950-daf9d4376dd8",
   "metadata": {},
   "outputs": [
    {
     "name": "stdout",
     "output_type": "stream",
     "text": [
      "ADA LOVELACE\n",
      "ada lovelace\n"
     ]
    }
   ],
   "source": [
    "#Ex:\n",
    "name = \"Ada Lovelace\"\n",
    "print(name.upper())\n",
    "print(name.lower())"
   ]
  },
  {
   "cell_type": "markdown",
   "id": "628e9223-5912-49f2-99ab-ce2415a0e526",
   "metadata": {},
   "source": [
    "#### - _Combining or Concatenating Strings_"
   ]
  },
  {
   "cell_type": "markdown",
   "id": "8c238722-a6de-4231-bd87-bf0d97fe0e28",
   "metadata": {},
   "source": [
    "You can combine strings by assigning them seperate variables and then combining them when you want to display something"
   ]
  },
  {
   "cell_type": "code",
   "execution_count": 5,
   "id": "f88b02af-9678-42f9-80c2-4b74ca81bab0",
   "metadata": {},
   "outputs": [
    {
     "name": "stdout",
     "output_type": "stream",
     "text": [
      "ada lovelace\n"
     ]
    }
   ],
   "source": [
    "# Ex:\n",
    "first_name = \"ada\"\n",
    "last_name = \"lovelace\"\n",
    "full_name = first_name + \" \" + last_name\n",
    "print(full_name)"
   ]
  },
  {
   "cell_type": "markdown",
   "id": "5d31de4c-7ce7-420c-a959-9d2c1bb6f23e",
   "metadata": {},
   "source": [
    "Python uses the (+) symbol to combine strings, this method of using the (+) to combining strings is called <br> _concatenation_. "
   ]
  },
  {
   "cell_type": "code",
   "execution_count": 10,
   "id": "8b9b909c-0a82-4f5c-80f2-1cd88d96d7c9",
   "metadata": {},
   "outputs": [
    {
     "name": "stdout",
     "output_type": "stream",
     "text": [
      "Hello, Ada Lovelace!\n"
     ]
    }
   ],
   "source": [
    "#Ex:\n",
    "print(\"Hello,\" + \" \" + full_name.title() + \"!\")"
   ]
  },
  {
   "cell_type": "markdown",
   "id": "0dae7f25-4fbf-4777-a4a8-bed79fb7b008",
   "metadata": {},
   "source": [
    "It is possible to use concatenation to compose a message and then store the entire message in a variable. <br> Making the final print statement much simpler."
   ]
  },
  {
   "cell_type": "code",
   "execution_count": 11,
   "id": "3bcfda05-7f1c-47db-aa6a-0fa1b0db5e35",
   "metadata": {},
   "outputs": [
    {
     "name": "stdout",
     "output_type": "stream",
     "text": [
      "Hello, Ada Lovelace!\n"
     ]
    }
   ],
   "source": [
    "#Ex:\n",
    "message = \"Hello,\" + \" \" + full_name.title() + \"!\"\n",
    "print(message)"
   ]
  },
  {
   "cell_type": "markdown",
   "id": "af136a07-8dc5-4771-93c6-7ea835707aa6",
   "metadata": {},
   "source": [
    "#### - _Adding Whitespace to Strings with Tabs or Newlines_"
   ]
  },
  {
   "cell_type": "markdown",
   "id": "d580d89e-d04a-44c4-9077-3b388a75bbc0",
   "metadata": {},
   "source": [
    "In programing, _whitespaces_ refers to any nonprinting character such as spaces, tabs and end-of-line symbols. <br> Whitespaces organize your output so its easier to read."
   ]
  },
  {
   "cell_type": "markdown",
   "id": "3523c05e-14f3-40c8-9d2f-5a6caa50c1bf",
   "metadata": {},
   "source": [
    "* To add a tab next to your text, use the character combination \\t:"
   ]
  },
  {
   "cell_type": "code",
   "execution_count": 14,
   "id": "1d7a06ad-adeb-4b23-af7c-ec0cccb19047",
   "metadata": {},
   "outputs": [
    {
     "name": "stdout",
     "output_type": "stream",
     "text": [
      "Python\n",
      "\tPython\n"
     ]
    }
   ],
   "source": [
    "#Ex:\n",
    "print(\"Python\")\n",
    "print(\"\\tPython\")"
   ]
  },
  {
   "cell_type": "markdown",
   "id": "b7c88df9-6005-4b06-b1cd-46ca1c10d776",
   "metadata": {},
   "source": [
    "* To add a newline in a string, use the character combination \\n:"
   ]
  },
  {
   "cell_type": "code",
   "execution_count": 1,
   "id": "c1bf26b8-3a52-4da5-ade2-e093817465a6",
   "metadata": {},
   "outputs": [
    {
     "name": "stdout",
     "output_type": "stream",
     "text": [
      "Languages:\n",
      "Python\n",
      "C\n",
      "JavaScript\n"
     ]
    }
   ],
   "source": [
    "#Ex:\n",
    "print(\"Languages:\\nPython\\nC\\nJavaScript\")"
   ]
  },
  {
   "cell_type": "markdown",
   "id": "beb22259-8c5c-4e56-85e5-12de5fa66739",
   "metadata": {},
   "source": [
    "* You can also combine tabs and newlines in a single string by using \"\\n\\t\" tells Python to move to a new line <br> and start the next line with a tab."
   ]
  },
  {
   "cell_type": "code",
   "execution_count": 4,
   "id": "dd7d9c12-9288-480f-bf4d-ebb8f2281f07",
   "metadata": {},
   "outputs": [
    {
     "name": "stdout",
     "output_type": "stream",
     "text": [
      "Languages:\n",
      "\tPython\n",
      "\tC\n",
      "\tJavaScript\n"
     ]
    }
   ],
   "source": [
    "#Ex:\n",
    "print(\"Languages:\\n\\tPython\\n\\tC\\n\\tJavaScript\")"
   ]
  },
  {
   "cell_type": "markdown",
   "id": "e859aa51-3668-41b3-82aa-4b2f2a85aa6d",
   "metadata": {},
   "source": [
    "#### - _Stripping Whitespace_"
   ]
  },
  {
   "cell_type": "markdown",
   "id": "9d725c5d-e629-4efd-8510-4953ed8627d0",
   "metadata": {},
   "source": [
    "Python can look for extra whitespaces on the right and left sides of a string. To ensure that no white space exists <br> at the right end of a string, use the rstrip() method."
   ]
  },
  {
   "cell_type": "code",
   "execution_count": 2,
   "id": "935e58fc-a0aa-47ed-9efc-1438e996414f",
   "metadata": {},
   "outputs": [
    {
     "data": {
      "text/plain": [
       "'python '"
      ]
     },
     "execution_count": 2,
     "metadata": {},
     "output_type": "execute_result"
    }
   ],
   "source": [
    "#Ex:\n",
    "favorite_language = \"python \"\n",
    "favorite_language"
   ]
  },
  {
   "cell_type": "code",
   "execution_count": 3,
   "id": "550b038f-217b-4863-a583-57d58eafe75b",
   "metadata": {},
   "outputs": [
    {
     "data": {
      "text/plain": [
       "'python'"
      ]
     },
     "execution_count": 3,
     "metadata": {},
     "output_type": "execute_result"
    }
   ],
   "source": [
    "favorite_language.rstrip()"
   ]
  },
  {
   "cell_type": "markdown",
   "id": "1eae2411-2520-4aad-8020-edd5ce51fa49",
   "metadata": {},
   "source": [
    "However this only temporarily removes the whitespace. To remove the white space permanently, you <br> have to store the stripped value back to the variable."
   ]
  },
  {
   "cell_type": "code",
   "execution_count": 4,
   "id": "b65cac6d-a3c1-4c07-850c-0eadeda18add",
   "metadata": {},
   "outputs": [
    {
     "data": {
      "text/plain": [
       "'python'"
      ]
     },
     "execution_count": 4,
     "metadata": {},
     "output_type": "execute_result"
    }
   ],
   "source": [
    "favorite_language = 'python '\n",
    "favorite_language= favorite_language.rstrip()\n",
    "favorite_language"
   ]
  },
  {
   "cell_type": "markdown",
   "id": "5ab7d96d-474d-4379-af2a-46368402d33d",
   "metadata": {},
   "source": [
    "You can also strip whitespaces from the left side of a string using the lstrip() method or strip whitespace from <br> both sides at once using strip()"
   ]
  },
  {
   "cell_type": "code",
   "execution_count": 5,
   "id": "e161ce9f-faa8-40d8-ac29-8e5b8cacce28",
   "metadata": {},
   "outputs": [
    {
     "data": {
      "text/plain": [
       "'python '"
      ]
     },
     "execution_count": 5,
     "metadata": {},
     "output_type": "execute_result"
    }
   ],
   "source": [
    "favorite_language = ' python '\n",
    "favorite_language.lstrip()"
   ]
  },
  {
   "cell_type": "code",
   "execution_count": 9,
   "id": "d48f06fb-8b95-4020-99bc-884fdc6a2ae8",
   "metadata": {},
   "outputs": [
    {
     "data": {
      "text/plain": [
       "'python'"
      ]
     },
     "execution_count": 9,
     "metadata": {},
     "output_type": "execute_result"
    }
   ],
   "source": [
    "favorite_language.strip()"
   ]
  },
  {
   "cell_type": "markdown",
   "id": "dc21acb8-afb6-4f07-912e-a221bc09718d",
   "metadata": {},
   "source": [
    "#### - _Avoiding Syntax Errors with Strings_"
   ]
  },
  {
   "cell_type": "markdown",
   "id": "d87631ff-6f62-446d-a61b-b9cddff5697c",
   "metadata": {},
   "source": [
    "A syntax error occurs when Python doesn't recognize a section of your program as valid Python code. <br>\n",
    "using single quotes when there is an apoastrophe inside a string with single quotes will cause an error<br>\n",
    "because Python can't identify where the string should end:"
   ]
  },
  {
   "cell_type": "code",
   "execution_count": 10,
   "id": "fd8acf7e-6061-4cfe-a7eb-16a381c36708",
   "metadata": {},
   "outputs": [
    {
     "ename": "SyntaxError",
     "evalue": "invalid syntax (Temp/ipykernel_9428/1265700866.py, line 1)",
     "output_type": "error",
     "traceback": [
      "\u001b[1;36m  File \u001b[1;32m\"C:\\Users\\Alexs\\AppData\\Local\\Temp/ipykernel_9428/1265700866.py\"\u001b[1;36m, line \u001b[1;32m1\u001b[0m\n\u001b[1;33m    message = 'One of Python's strengths is its diverse community.'\u001b[0m\n\u001b[1;37m                             ^\u001b[0m\n\u001b[1;31mSyntaxError\u001b[0m\u001b[1;31m:\u001b[0m invalid syntax\n"
     ]
    }
   ],
   "source": [
    "message = 'One of Python's strengths is its diverse community.'\n",
    "print(message)"
   ]
  },
  {
   "cell_type": "markdown",
   "id": "72c69b67-46e0-45f3-9a29-e159e7f495af",
   "metadata": {},
   "source": [
    "***\n",
    "### __Numbers__"
   ]
  },
  {
   "cell_type": "markdown",
   "id": "b5591316-e569-431c-9428-43d5f4e3b1a5",
   "metadata": {},
   "source": [
    "#### - _Integers_"
   ]
  },
  {
   "cell_type": "markdown",
   "id": "ee8f347a-407f-41b9-816d-b103d77fb6f2",
   "metadata": {},
   "source": [
    "You can add(+), subtract(-), multipy(astrict), and dividie (/) integers in Pytho."
   ]
  },
  {
   "cell_type": "code",
   "execution_count": 11,
   "id": "93bb6eb8-bc01-40e5-9702-14d98613e531",
   "metadata": {},
   "outputs": [
    {
     "data": {
      "text/plain": [
       "5"
      ]
     },
     "execution_count": 11,
     "metadata": {},
     "output_type": "execute_result"
    }
   ],
   "source": [
    "2 + 3"
   ]
  },
  {
   "cell_type": "code",
   "execution_count": 12,
   "id": "83f8bbd4-9300-4a49-8af0-a3ba0da2b7af",
   "metadata": {},
   "outputs": [
    {
     "data": {
      "text/plain": [
       "1"
      ]
     },
     "execution_count": 12,
     "metadata": {},
     "output_type": "execute_result"
    }
   ],
   "source": [
    "3 - 2"
   ]
  },
  {
   "cell_type": "code",
   "execution_count": 14,
   "id": "23e144de-a09a-4fd1-9904-af85f7852eab",
   "metadata": {},
   "outputs": [
    {
     "data": {
      "text/plain": [
       "6"
      ]
     },
     "execution_count": 14,
     "metadata": {},
     "output_type": "execute_result"
    }
   ],
   "source": [
    "2 * 3"
   ]
  },
  {
   "cell_type": "code",
   "execution_count": 15,
   "id": "cfce3c56-7d3d-4dca-86cb-ecde84c04c8d",
   "metadata": {},
   "outputs": [
    {
     "data": {
      "text/plain": [
       "1.5"
      ]
     },
     "execution_count": 15,
     "metadata": {},
     "output_type": "execute_result"
    }
   ],
   "source": [
    "3/2"
   ]
  },
  {
   "cell_type": "markdown",
   "id": "02968628-7f4a-468a-a356-cf1d6ff43785",
   "metadata": {},
   "source": [
    "Python uses two multiplication symbols to represent exponenets:"
   ]
  },
  {
   "cell_type": "code",
   "execution_count": 21,
   "id": "e1c7a537-6d2e-4fa8-93c6-dd59819d4bc0",
   "metadata": {},
   "outputs": [
    {
     "data": {
      "text/plain": [
       "8"
      ]
     },
     "execution_count": 21,
     "metadata": {},
     "output_type": "execute_result"
    }
   ],
   "source": [
    "2**3"
   ]
  },
  {
   "cell_type": "markdown",
   "id": "69af1efb-a563-4b6a-9ce6-ec064676947d",
   "metadata": {},
   "source": [
    "Python supports the order of operations as well so you can use multiple operations. <br> As well supports parantheses to modify order of operations."
   ]
  },
  {
   "cell_type": "code",
   "execution_count": 25,
   "id": "b083323d-a6ea-4d9c-87c3-6a913f2e60a9",
   "metadata": {},
   "outputs": [
    {
     "data": {
      "text/plain": [
       "14"
      ]
     },
     "execution_count": 25,
     "metadata": {},
     "output_type": "execute_result"
    }
   ],
   "source": [
    "2 + 3 * 4"
   ]
  },
  {
   "cell_type": "code",
   "execution_count": 23,
   "id": "8dc90f13-611e-421f-9f42-156d5007b8f7",
   "metadata": {},
   "outputs": [
    {
     "data": {
      "text/plain": [
       "20"
      ]
     },
     "execution_count": 23,
     "metadata": {},
     "output_type": "execute_result"
    }
   ],
   "source": [
    "(2+3)*4"
   ]
  },
  {
   "cell_type": "markdown",
   "id": "adb5072c-39e6-42d6-ac29-f74ac44c4ab9",
   "metadata": {},
   "source": [
    "#### - _Floats_"
   ]
  },
  {
   "cell_type": "markdown",
   "id": "cae6edf6-de2f-4e5b-8ec7-c8b59ead3a07",
   "metadata": {},
   "source": [
    "Numbers with decimal point are a _float_."
   ]
  },
  {
   "cell_type": "code",
   "execution_count": 24,
   "id": "6600d678-b8ff-4c48-8860-3f42594fd158",
   "metadata": {},
   "outputs": [
    {
     "data": {
      "text/plain": [
       "0.2"
      ]
     },
     "execution_count": 24,
     "metadata": {},
     "output_type": "execute_result"
    }
   ],
   "source": [
    "0.1 + 0.1"
   ]
  },
  {
   "cell_type": "markdown",
   "id": "82ded90a-3b3c-4383-8c17-c78aa33db9e2",
   "metadata": {},
   "source": [
    "Be aware that sometimes you can get an arbitrary number of decimal places in your answer:"
   ]
  },
  {
   "cell_type": "code",
   "execution_count": 26,
   "id": "3f1bf646-316a-421c-8988-b602205862fa",
   "metadata": {},
   "outputs": [
    {
     "data": {
      "text/plain": [
       "0.30000000000000004"
      ]
     },
     "execution_count": 26,
     "metadata": {},
     "output_type": "execute_result"
    }
   ],
   "source": [
    "0.2 + 0.1"
   ]
  },
  {
   "cell_type": "markdown",
   "id": "c7f756f7-6b0a-4bc8-86d4-5e8db320bc73",
   "metadata": {},
   "source": [
    "#### - _Avoid Type Errors with the str() Function_"
   ]
  },
  {
   "cell_type": "code",
   "execution_count": null,
   "id": "691f6fe7-8a03-4802-9ff5-c3f6f9b56da1",
   "metadata": {},
   "outputs": [],
   "source": []
  }
 ],
 "metadata": {
  "kernelspec": {
   "display_name": "Python 3 (ipykernel)",
   "language": "python",
   "name": "python3"
  },
  "language_info": {
   "codemirror_mode": {
    "name": "ipython",
    "version": 3
   },
   "file_extension": ".py",
   "mimetype": "text/x-python",
   "name": "python",
   "nbconvert_exporter": "python",
   "pygments_lexer": "ipython3",
   "version": "3.9.7"
  }
 },
 "nbformat": 4,
 "nbformat_minor": 5
}
