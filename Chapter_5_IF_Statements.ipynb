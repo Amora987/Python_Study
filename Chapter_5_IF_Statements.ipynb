{
 "cells": [
  {
   "cell_type": "markdown",
   "id": "4ec520a1-66b1-49df-bd6a-7dae18514b51",
   "metadata": {},
   "source": [
    "# Chapter 5: IF Statements"
   ]
  },
  {
   "cell_type": "markdown",
   "id": "0132a881-b8a2-4ceb-8496-4148a98180ab",
   "metadata": {},
   "source": [
    "You'll learn to write simple _if statements_ and apply this concept to lists, so you'll be able to write a _for loop_ <br>\n",
    "that handles most items in a list one way but handles certain items with specific values in a different way."
   ]
  },
  {
   "cell_type": "markdown",
   "id": "51b609c6-6118-4d33-a7a1-ce03de69494a",
   "metadata": {},
   "source": [
    "#### A Simple Example"
   ]
  },
  {
   "cell_type": "markdown",
   "id": "1e66255b-16d4-4770-b53f-a197c3de160a",
   "metadata": {},
   "source": [
    "Car names are proper names, so the names of most cars should be printed in title case. However, the value <br>\n",
    "'bmw' should be printed in all uppercase. The following code loops through a list of car names and looks for <br>\n",
    "the value 'bmw'. Whenever the value is 'bmw', its printed in uppercase instead of title case:"
   ]
  },
  {
   "cell_type": "code",
   "execution_count": 6,
   "id": "6904eb6d-e551-42d2-ad89-ca33bb81490e",
   "metadata": {},
   "outputs": [
    {
     "name": "stdout",
     "output_type": "stream",
     "text": [
      "Audi\n",
      "BMW\n",
      "Subaru\n",
      "Toyota\n"
     ]
    }
   ],
   "source": [
    "#Ex: if statement format\n",
    "cars = ['audi', 'bmw', 'subaru', 'toyota']\n",
    "\n",
    "for car in cars:\n",
    "    if car == 'bmw':\n",
    "        print(car.upper())\n",
    "    else:\n",
    "        print(car.title())"
   ]
  },
  {
   "cell_type": "markdown",
   "id": "c0158cba-1881-4c69-b8f6-aacbf6c6ba77",
   "metadata": {},
   "source": [
    "***\n",
    "#### Conditional Tests"
   ]
  },
  {
   "cell_type": "markdown",
   "id": "cec80d9d-1c56-4aff-9251-3a32272c8554",
   "metadata": {},
   "source": [
    "In every _if statement_ there is an experssion that can be evaulated as __True__ or __False__ and is called a _conditional test_. <br>\n",
    "Python uses the values True and False to decide wether the code in an _if statement_ should be executed. If a conditional test evaluates <br>\n",
    "to __True__, Python executes the code following the _if statement_. If the test evaluates to __False__, Python ignores the code following <br>\n",
    "the _if statement_."
   ]
  },
  {
   "cell_type": "markdown",
   "id": "ed182ef2-331e-4448-8d2f-8172f5ddf83d",
   "metadata": {},
   "source": [
    "#### - _Checking for Equality_"
   ]
  },
  {
   "cell_type": "markdown",
   "id": "6d94d53f-dd12-4986-bb7b-dae39afe491e",
   "metadata": {},
   "source": [
    "Most condition tests compare the current value of a variable to a specific value of interest. The simplest conditional test checks whether <br>\n",
    "the value of a variable is equal to the value of interest:"
   ]
  },
  {
   "cell_type": "code",
   "execution_count": 2,
   "id": "f9b9d369-621d-42a2-b03e-940dfa86fdc6",
   "metadata": {},
   "outputs": [
    {
     "data": {
      "text/plain": [
       "True"
      ]
     },
     "execution_count": 2,
     "metadata": {},
     "output_type": "execute_result"
    }
   ],
   "source": [
    "#Ex: True equality operator\n",
    "car = 'bmw'\n",
    "car == 'bmw'"
   ]
  },
  {
   "cell_type": "markdown",
   "id": "eb6cc7ad-b459-4e66-b06f-b8f40c16791d",
   "metadata": {},
   "source": [
    "The first line sets the value of car to 'bmw' using a single equal sign. The second line checks whether the value of car is 'bmw' using <br>\n",
    "a double equal sign ( == ). This _equality operator_ returns __True__ if the values on the left and right sie of the operator match, and <br>\n",
    "__False__ if they don't match."
   ]
  },
  {
   "cell_type": "code",
   "execution_count": 3,
   "id": "45a4e42d-70eb-4dce-b6ef-998b27ba65e2",
   "metadata": {},
   "outputs": [
    {
     "data": {
      "text/plain": [
       "False"
      ]
     },
     "execution_count": 3,
     "metadata": {},
     "output_type": "execute_result"
    }
   ],
   "source": [
    "#Ex:False equality operator\n",
    "car = 'audi'\n",
    "car == 'bmw'"
   ]
  },
  {
   "cell_type": "markdown",
   "id": "d4560cfa-82e4-4551-8325-239a83a9d4ea",
   "metadata": {},
   "source": [
    "#### - _Ignoring Case When Checking for Equality_"
   ]
  },
  {
   "cell_type": "markdown",
   "id": "b2840d3c-8db7-49b4-b92a-1d00ff1e3b76",
   "metadata": {},
   "source": [
    "Testing for eqaulity is case sensitive in Python:"
   ]
  },
  {
   "cell_type": "code",
   "execution_count": 5,
   "id": "3d6d4f95-a476-4428-99e2-a412928386c7",
   "metadata": {},
   "outputs": [
    {
     "data": {
      "text/plain": [
       "False"
      ]
     },
     "execution_count": 5,
     "metadata": {},
     "output_type": "execute_result"
    }
   ],
   "source": [
    "#Ex: testomg case sensitive\n",
    "car = 'Toyota'\n",
    "car == 'toyota'"
   ]
  },
  {
   "cell_type": "markdown",
   "id": "902754a5-ed77-48f3-a785-5301141251d6",
   "metadata": {},
   "source": [
    "You can convert the variable's value to lowercase before doing the comparison:"
   ]
  },
  {
   "cell_type": "code",
   "execution_count": 7,
   "id": "741cde6d-f3c4-4854-8355-4a7097a10653",
   "metadata": {},
   "outputs": [
    {
     "data": {
      "text/plain": [
       "True"
      ]
     },
     "execution_count": 7,
     "metadata": {},
     "output_type": "execute_result"
    }
   ],
   "source": [
    "#Ex:converting the variable before comparison\n",
    "car = 'Audi'\n",
    "car.lower() == 'audi'"
   ]
  },
  {
   "cell_type": "markdown",
   "id": "aea306fd-f318-4b3c-932d-757557cb86a9",
   "metadata": {},
   "source": [
    "#### - _Checking for Ineqaulity_"
   ]
  },
  {
   "cell_type": "markdown",
   "id": "3dfe77d3-a737-4cd2-9014-ce5319ccde51",
   "metadata": {},
   "source": [
    "The exclamation point and an equal sign ( != ) represent two values are not equal. "
   ]
  },
  {
   "cell_type": "code",
   "execution_count": 9,
   "id": "941c62be-8005-4c12-9dd2-4e8f7c12ed5c",
   "metadata": {},
   "outputs": [
    {
     "name": "stdout",
     "output_type": "stream",
     "text": [
      "Hold the anchovies!\n"
     ]
    }
   ],
   "source": [
    "#Ex: using the exclamation to check for inequality\n",
    "requested_topping = 'mushrooms'\n",
    "\n",
    "if requested_topping != 'anchovies':\n",
    "    print('Hold the anchovies!')"
   ]
  },
  {
   "cell_type": "markdown",
   "id": "ed789d33-894b-4784-b011-ec3d703de840",
   "metadata": {},
   "source": [
    "#### - _Numerical Comparisons_"
   ]
  },
  {
   "cell_type": "markdown",
   "id": "5f4b35ea-d933-4c67-af79-751ac2d81414",
   "metadata": {},
   "source": [
    "Testing numerical value is straightforward"
   ]
  },
  {
   "cell_type": "code",
   "execution_count": null,
   "id": "bdd8a904-1516-41f7-b75a-82099352026b",
   "metadata": {},
   "outputs": [],
   "source": [
    "#Ex: numerical comparison\n",
    "age = 18\n",
    "age == 18"
   ]
  },
  {
   "cell_type": "code",
   "execution_count": 11,
   "id": "11c476ba-c6f6-45ec-8d4b-28821dbe15df",
   "metadata": {},
   "outputs": [
    {
     "data": {
      "text/plain": [
       "False"
      ]
     },
     "execution_count": 11,
     "metadata": {},
     "output_type": "execute_result"
    }
   ],
   "source": [
    "#Ex: including various mathematical comparisons in your conditional statements\n",
    "age =19 \n",
    "age < 21\n",
    "age <= 21\n",
    "age > 21\n",
    "age >= 21"
   ]
  },
  {
   "cell_type": "markdown",
   "id": "7897a1e6-b7a4-458e-acff-be64b02d55a6",
   "metadata": {},
   "source": [
    "#### - _Checking Multiple Conditions_\n",
    "Sometimes you'll want to check multiple conditions at the sametime."
   ]
  },
  {
   "cell_type": "markdown",
   "id": "1ea772d2-f9a3-4da2-a501-ac5cf4d87256",
   "metadata": {},
   "source": [
    "* #### Using _and_ to Check Multiple Conditions"
   ]
  },
  {
   "cell_type": "markdown",
   "id": "6b8defb3-8c57-440b-bcb4-c7685b173a1b",
   "metadata": {},
   "source": [
    "To check whether two conditions are bot __True__ simultaneously, use the keyword _and_ to combine the two conditional tests; <br>\n",
    "if each test passes, the over all expression evaluates to __True__. If either test fails or if both tests fail, the expression evaluates to __False__"
   ]
  },
  {
   "cell_type": "code",
   "execution_count": 14,
   "id": "714bd187-9f3b-4bba-80f8-3a419958ab9e",
   "metadata": {},
   "outputs": [
    {
     "data": {
      "text/plain": [
       "False"
      ]
     },
     "execution_count": 14,
     "metadata": {},
     "output_type": "execute_result"
    }
   ],
   "source": [
    "#Ex: Using and to check two conditions at the same time for False\n",
    "age_0 = 22\n",
    "age_1 = 18\n",
    "age_0 >= 21 and age_1 >= 21"
   ]
  },
  {
   "cell_type": "code",
   "execution_count": 16,
   "id": "bd87bf73-6205-4152-9806-a7eb761fcfbd",
   "metadata": {},
   "outputs": [
    {
     "data": {
      "text/plain": [
       "True"
      ]
     },
     "execution_count": 16,
     "metadata": {},
     "output_type": "execute_result"
    }
   ],
   "source": [
    "# Ex: Using and to check two conditions at the same time for True\n",
    "age_1 = 22\n",
    "age_0 = 22\n",
    "age_0 >= 21 and age_1 >= 21"
   ]
  },
  {
   "cell_type": "markdown",
   "id": "11ca88c9-19a7-4dd1-8516-bd7e4466ed27",
   "metadata": {},
   "source": [
    "Using paranthesis keeps the code clean and readable."
   ]
  },
  {
   "cell_type": "code",
   "execution_count": 17,
   "id": "6a73c1a7-4676-4856-97fd-eb22b197d09c",
   "metadata": {},
   "outputs": [
    {
     "data": {
      "text/plain": [
       "True"
      ]
     },
     "execution_count": 17,
     "metadata": {},
     "output_type": "execute_result"
    }
   ],
   "source": [
    "#Ex: clean and readable code\n",
    "(age_0 >= 21) and (age_1 >= 21)"
   ]
  },
  {
   "cell_type": "markdown",
   "id": "41b585bb-6bb4-4913-8a37-a8026c66d949",
   "metadata": {},
   "source": [
    "* #### Using _or_ to Check Multiple Conditions"
   ]
  },
  {
   "cell_type": "markdown",
   "id": "ae85b5fc-0453-4261-b60c-3e633428279b",
   "metadata": {},
   "source": [
    "The keyword _or_ allows you to check multiple conditions as well, but it passes when either or both of the individual tests pass. <br> \n",
    "An _or_ expression fails only when both individual tests fail."
   ]
  },
  {
   "cell_type": "code",
   "execution_count": 18,
   "id": "f867b794-820e-4704-905c-0ccee1569783",
   "metadata": {},
   "outputs": [
    {
     "data": {
      "text/plain": [
       "True"
      ]
     },
     "execution_count": 18,
     "metadata": {},
     "output_type": "execute_result"
    }
   ],
   "source": [
    "age_0 = 22\n",
    "age_1 = 18\n",
    "\n",
    "age_0 >= 21 or age_1 >= 21"
   ]
  },
  {
   "cell_type": "code",
   "execution_count": 19,
   "id": "f05bb6c0-6b57-4462-a41a-47bbd494fc04",
   "metadata": {},
   "outputs": [
    {
     "data": {
      "text/plain": [
       "False"
      ]
     },
     "execution_count": 19,
     "metadata": {},
     "output_type": "execute_result"
    }
   ],
   "source": [
    "age_0 = 18\n",
    "age_0 >= 21 or age_1 >= 21"
   ]
  },
  {
   "cell_type": "markdown",
   "id": "b18707a2-04ae-4182-8767-ec20951344ba",
   "metadata": {},
   "source": [
    "#### - _Checking Whether a Value Is in a List_"
   ]
  },
  {
   "cell_type": "markdown",
   "id": "5cd96b10-3c05-48cc-b328-b04a2f56e302",
   "metadata": {},
   "source": [
    "Check whether a list contains a certain value before taking action. To find a if a particular value is already in a list, use <br>\n",
    "the keyword _in_."
   ]
  },
  {
   "cell_type": "code",
   "execution_count": 20,
   "id": "ae713bc7-bc72-47af-81a8-9115408d9313",
   "metadata": {},
   "outputs": [
    {
     "data": {
      "text/plain": [
       "True"
      ]
     },
     "execution_count": 20,
     "metadata": {},
     "output_type": "execute_result"
    }
   ],
   "source": [
    "#Ex: Checking whether a certain toppings are in the list of pizza toppings of a customer\n",
    "requested_toppings = ['mushrooms', 'onions', 'pineapple']\n",
    "'mushrooms' in requested_toppings"
   ]
  },
  {
   "cell_type": "code",
   "execution_count": 22,
   "id": "08d7c993-57ad-446d-bca7-f2639ddadc99",
   "metadata": {},
   "outputs": [
    {
     "data": {
      "text/plain": [
       "False"
      ]
     },
     "execution_count": 22,
     "metadata": {},
     "output_type": "execute_result"
    }
   ],
   "source": [
    "#Ex: checking for False in requested_toppings\n",
    "'pepperoni' in requested_toppings"
   ]
  },
  {
   "cell_type": "markdown",
   "id": "0a20f067-11f6-49c2-b12f-b3af1a292a29",
   "metadata": {},
   "source": [
    "#### - _Checking Whether a Value Is Not in a List_"
   ]
  },
  {
   "cell_type": "markdown",
   "id": "6344e627-b7a5-4cc8-920a-c28e16e9b75c",
   "metadata": {},
   "source": [
    "It's imporant to know if a value does not appear in a list."
   ]
  },
  {
   "cell_type": "code",
   "execution_count": 23,
   "id": "6e02a4f2-0062-4fc2-912e-25ee8ee88c67",
   "metadata": {},
   "outputs": [
    {
     "name": "stdout",
     "output_type": "stream",
     "text": [
      "Marie, you can post a response if you wish.\n"
     ]
    }
   ],
   "source": [
    "#Ex: List of users banned  from commenting in a forum, allowing it to submit a comment\n",
    "banned_users = ['andrew', 'carolina', 'david']\n",
    "user = 'marie'\n",
    "\n",
    "if user not in banned_users:\n",
    "    print(user.title() + \", you can post a response if you wish.\")"
   ]
  },
  {
   "cell_type": "markdown",
   "id": "0849d196-0e29-47c5-af6c-ebbb7534227e",
   "metadata": {},
   "source": [
    "#### - _Boolean Expression_"
   ]
  },
  {
   "cell_type": "markdown",
   "id": "d8b40b8b-4a97-4c64-8a93-5aa53e17bf63",
   "metadata": {},
   "source": [
    "A Boolean Expression is just another name for conditional test. A _Boolean value_ is either True or False, just like <br>\n",
    "the value of a conditional expression after it has been evaluated. Boolean values are often used to keep track of certian <br>\n",
    "conditions."
   ]
  },
  {
   "cell_type": "code",
   "execution_count": 24,
   "id": "a64baae9-bc73-44de-8bd3-b0b693d3e2ac",
   "metadata": {},
   "outputs": [],
   "source": [
    "#Ex:\n",
    "game_active = True\n",
    "can_edit = False"
   ]
  },
  {
   "cell_type": "markdown",
   "id": "55840bdb-918f-4bad-b4a3-0b2477e17bb2",
   "metadata": {},
   "source": [
    "***\n",
    "### if Statements"
   ]
  },
  {
   "cell_type": "markdown",
   "id": "29e1d348-76d3-424c-9ebb-d293ed3913e7",
   "metadata": {},
   "source": [
    "#### - _Simple if Statements_"
   ]
  },
  {
   "cell_type": "markdown",
   "id": "0c6d031c-9ce6-40d9-bc4b-a905ac8c6e96",
   "metadata": {},
   "source": [
    "The simplest kind of _if statement_ has one test and one action:"
   ]
  },
  {
   "cell_type": "markdown",
   "id": "76d1281a-b5ba-4377-87e1-82c64038f6d2",
   "metadata": {},
   "source": [
    "Ex Format: <br>\n",
    "if _conditional_test_: <br>\n",
    "&emsp; _do something_"
   ]
  },
  {
   "cell_type": "markdown",
   "id": "bef37934-7189-441a-b4de-5dec24e51d3a",
   "metadata": {},
   "source": [
    "You can put any conditional test in the first line and just about any action in the indented block following the test. If the <br>\n",
    "the conditional test evaluates to __True__. Python executes the code following the if statement. If the test evaluates to __False__ <br>\n",
    "Python ignores the code following the _if statement_"
   ]
  },
  {
   "cell_type": "code",
   "execution_count": 1,
   "id": "5975a9cc-1a85-4cec-9fb7-9cd3edf5d2ed",
   "metadata": {},
   "outputs": [
    {
     "name": "stdout",
     "output_type": "stream",
     "text": [
      "You are old enough to vote!\n"
     ]
    }
   ],
   "source": [
    "#Ex: Variable representing a person's age, and we want to know if that person is old enough to vote.\n",
    "age = 19\n",
    "if age >= 18:\n",
    "    print(\"You are old enough to vote!\")"
   ]
  },
  {
   "cell_type": "markdown",
   "id": "fe5763f8-6382-462a-b9df-ed2ea69c1b77",
   "metadata": {},
   "source": [
    "Indentation plays the same role in if statements as it did in _for loops_. All indented lines after an _if statement_ will be executed <br>\n",
    "if the test passes, and the entire block of indented lines will be ignored if the test does not pass. "
   ]
  },
  {
   "cell_type": "code",
   "execution_count": 2,
   "id": "a9f7bc48-8496-41ee-95fc-95507b855f5e",
   "metadata": {},
   "outputs": [
    {
     "name": "stdout",
     "output_type": "stream",
     "text": [
      "You are old enough to vote!\n",
      "Have you registered to vote yet?\n"
     ]
    }
   ],
   "source": [
    "age = 19\n",
    "if age >= 18:\n",
    "    print(\"You are old enough to vote!\")\n",
    "    print(\"Have you registered to vote yet?\")"
   ]
  },
  {
   "cell_type": "markdown",
   "id": "93f0ce9d-c5f5-401f-ae9a-958c9f52daef",
   "metadata": {},
   "source": [
    "The conditional test passes, and both print statements are indented, so both lines are printed:"
   ]
  },
  {
   "cell_type": "markdown",
   "id": "294d5182-7774-42c3-b39f-f4cd3e457f11",
   "metadata": {},
   "source": [
    "#### - _if - else Statements_"
   ]
  },
  {
   "cell_type": "markdown",
   "id": "e82c3bd4-839d-481f-b002-32639405c64d",
   "metadata": {},
   "source": [
    "Often, you'll want to take one action when a conditional test passes and a different action in all other cases. Python's _if-else_ syntax makes <br>\n",
    "this possible. An _if-else_ block is similar to a simple if statement, but the _else statement_ allows you to define an action or set of actions <br>\n",
    "that are executed when the conditional test fails."
   ]
  },
  {
   "cell_type": "code",
   "execution_count": 3,
   "id": "540efbe0-f3be-430f-a138-ff85aefeee20",
   "metadata": {},
   "outputs": [
    {
     "name": "stdout",
     "output_type": "stream",
     "text": [
      "Sorry, you are too young to vote.\n",
      "Please register to vote as soon as you turn 18!\n"
     ]
    }
   ],
   "source": [
    "#Ex: using if-else for two options\n",
    "age = 17\n",
    "if age >= 18:\n",
    "    print(\"You are old enough to vote!\")\n",
    "    print(\"Have you registered to vote yet?\")\n",
    "else:\n",
    "    print(\"Sorry, you are too young to vote.\")\n",
    "    print(\"Please register to vote as soon as you turn 18!\")\n"
   ]
  },
  {
   "cell_type": "markdown",
   "id": "6250b26c-aea8-4a63-a724-ebf8030322bc",
   "metadata": {},
   "source": [
    "#### - _The if-elif-else Chain_"
   ]
  },
  {
   "cell_type": "markdown",
   "id": "cb89e4c0-ab7b-47ed-8f35-b4b36acd0e9d",
   "metadata": {},
   "source": [
    "To evaluate more than two possible situations, you can use Python's _if-elif-else_ syntax. Python executes only one block in an _if-elif-else_ chain. <br>\n",
    "It runs each conditional test in order until one passes. When a test passes, the code following that test is executed and Python skips the rest <br> \n",
    "of the tests."
   ]
  },
  {
   "cell_type": "code",
   "execution_count": 4,
   "id": "a32b00cd-5592-476e-b73b-0bfc91b2ec91",
   "metadata": {},
   "outputs": [
    {
     "name": "stdout",
     "output_type": "stream",
     "text": [
      "Your admission cost is $5.\n"
     ]
    }
   ],
   "source": [
    "#Ex: using if-elif-else for multiple options\n",
    "age = 12\n",
    "if age < 4:\n",
    "    print(\"Your admission cost is $0.\")\n",
    "elif age < 18:\n",
    "    print(\"Your admission cost is $5.\")\n",
    "else:\n",
    "    print(\"Your admission cost is $10.\")"
   ]
  },
  {
   "cell_type": "markdown",
   "id": "dac50f32-245e-4c93-a9fa-6cc302004715",
   "metadata": {},
   "source": [
    "Rather than printing the admission price within the _if-elif-else_ block, it would be more concise to set just the price inside the <br>\n",
    "_if-elif-else_ chain and then have a simple print statement that runs after the chain has been evaluated:"
   ]
  },
  {
   "cell_type": "code",
   "execution_count": 5,
   "id": "ce492382-bfcd-49c1-acbc-6f2cf053eb31",
   "metadata": {},
   "outputs": [
    {
     "name": "stdout",
     "output_type": "stream",
     "text": [
      "Your admission cost is $5.\n"
     ]
    }
   ],
   "source": [
    "#Ex: priting the admission price outside the if-elif-else block.\n",
    "age = 12\n",
    "if age < 4:\n",
    "    price = 0\n",
    "elif age < 18:\n",
    "    price = 5\n",
    "else:\n",
    "    price = 10\n",
    "print(\"Your admission cost is $\" + str(price) + \".\")"
   ]
  },
  {
   "cell_type": "markdown",
   "id": "77f68440-ac42-4c2a-9740-e97fcc2415a0",
   "metadata": {},
   "source": [
    "This code is more effiecent, it is easier to modify than the original approach. To the change the text of the output message <br> \n",
    "you would need to change only one print statement rather than three seperate print statements."
   ]
  },
  {
   "cell_type": "markdown",
   "id": "31935c53-de3c-407e-bbd5-1ef890604e97",
   "metadata": {},
   "source": [
    "#### - _Using Multiple elif Blocks_"
   ]
  },
  {
   "cell_type": "markdown",
   "id": "25b675f0-618a-4d7c-b7d4-67dc752dee02",
   "metadata": {},
   "source": [
    "You can use as many elif blocks in your code as you like."
   ]
  },
  {
   "cell_type": "code",
   "execution_count": 6,
   "id": "06144003-bcdc-4589-b322-91a6fbd548fd",
   "metadata": {},
   "outputs": [
    {
     "name": "stdout",
     "output_type": "stream",
     "text": [
      "Your admission cost is $5.\n"
     ]
    }
   ],
   "source": [
    "#Ex: Using multiple elif statements\n",
    "age =12 \n",
    "if age < 4:\n",
    "    price = 0\n",
    "elif age < 18:\n",
    "    price = 5\n",
    "elif age < 65:\n",
    "    price = 10\n",
    "else:\n",
    "    price = 5\n",
    "print(\"Your admission cost is $\" + str(price) + \".\")"
   ]
  },
  {
   "cell_type": "markdown",
   "id": "bbba7e90-2100-4515-8c68-1303b177a9f2",
   "metadata": {},
   "source": [
    "#### - _Omitting the Else Block_"
   ]
  },
  {
   "cell_type": "markdown",
   "id": "f41fd75d-d716-4bf1-bc31-160136cb497c",
   "metadata": {},
   "source": [
    "Python does not require an _else_ block at the end of an _if-elif_ chain. Sometimes an _else_ block is useful; sometimes it is clearer <br>\n",
    "to use an additional _elif_ statement that catches the specific condition of interest:"
   ]
  },
  {
   "cell_type": "code",
   "execution_count": 7,
   "id": "341e17fd-405f-4701-8b0e-98ebf5b6fb44",
   "metadata": {},
   "outputs": [
    {
     "name": "stdout",
     "output_type": "stream",
     "text": [
      "Your admission cost is $5.\n"
     ]
    }
   ],
   "source": [
    "age =12 \n",
    "if age < 4:\n",
    "    price = 0\n",
    "elif age < 18:\n",
    "    price = 5\n",
    "elif age < 65:\n",
    "    price = 10\n",
    "elif age >= 65:\n",
    "    price = 5\n",
    "\n",
    "print(\"Your admission cost is $\" + str(price) + \".\")\n",
    "    "
   ]
  },
  {
   "cell_type": "markdown",
   "id": "bb6fb2e2-5ef0-4dbe-8fea-e820c194d71e",
   "metadata": {},
   "source": [
    "The _else statement_ is a catchall statement. It matches any condition that wasn't matched by a specific _if_ or _elif_ test, and that can <br> \n",
    "sometimes include invalid or even malicious data. "
   ]
  },
  {
   "cell_type": "markdown",
   "id": "1c6953a5-b425-418c-a6be-e3ee5fc2baec",
   "metadata": {},
   "source": [
    "#### - _Testing Multiple Conditions_"
   ]
  },
  {
   "cell_type": "markdown",
   "id": "565e39b2-8699-41f6-a18b-28eeba9c6e74",
   "metadata": {},
   "source": [
    "The _if-elif-else chain_ is powerful, but it's only appropriate to use when you just need one test to pass. As soon as Python finds one test <br>\n",
    "that passes, it skips the rest of the tests. Sometimes its important to check all of the conditions of interest. This Technique makes sense <br>\n",
    "when more than one condition could be __True__, and you want to act on every condition that is __True__."
   ]
  },
  {
   "cell_type": "code",
   "execution_count": 11,
   "id": "c69579d4-919a-400f-a494-e138a465d932",
   "metadata": {},
   "outputs": [
    {
     "name": "stdout",
     "output_type": "stream",
     "text": [
      "Adding mushrooms\n",
      "Adding extra cheese\n",
      "\n",
      "Finished making your pizza!\n"
     ]
    }
   ],
   "source": [
    "#Ex: If someone requests a two-topping pizza, you'll need to be sure to include both toppings in their pizza:\n",
    "requested_toppings = ['mushrooms', 'extra cheese']\n",
    "if 'mushrooms' in requested_toppings:\n",
    "    print('Adding mushrooms')\n",
    "if 'pepperoni' in requested_toppings:\n",
    "    print('Adding pepperoni')\n",
    "if 'extra cheese' in requested_toppings:\n",
    "    print('Adding extra cheese')\n",
    "\n",
    "print('\\nFinished making your pizza!')"
   ]
  },
  {
   "cell_type": "code",
   "execution_count": null,
   "id": "320ade0e-25fe-4aec-9173-db8ef57cb3f4",
   "metadata": {},
   "outputs": [],
   "source": []
  }
 ],
 "metadata": {
  "kernelspec": {
   "display_name": "Python 3 (ipykernel)",
   "language": "python",
   "name": "python3"
  },
  "language_info": {
   "codemirror_mode": {
    "name": "ipython",
    "version": 3
   },
   "file_extension": ".py",
   "mimetype": "text/x-python",
   "name": "python",
   "nbconvert_exporter": "python",
   "pygments_lexer": "ipython3",
   "version": "3.9.7"
  }
 },
 "nbformat": 4,
 "nbformat_minor": 5
}
